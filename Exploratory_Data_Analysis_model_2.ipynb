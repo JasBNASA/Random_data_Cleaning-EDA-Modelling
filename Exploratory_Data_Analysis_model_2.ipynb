{
  "nbformat": 4,
  "nbformat_minor": 0,
  "metadata": {
    "colab": {
      "provenance": []
    },
    "kernelspec": {
      "name": "python3",
      "display_name": "Python 3"
    },
    "language_info": {
      "name": "python"
    }
  },
  "cells": [
    {
      "cell_type": "code",
      "source": [
        "from google.colab import drive\n",
        "drive.mount('/content/drive')"
      ],
      "metadata": {
        "colab": {
          "base_uri": "https://localhost:8080/"
        },
        "id": "LMUs5ZTqc_mi",
        "outputId": "a06c8c85-fa4e-481a-d087-6f6ddefb3ab4"
      },
      "execution_count": 1,
      "outputs": [
        {
          "output_type": "stream",
          "name": "stdout",
          "text": [
            "Drive already mounted at /content/drive; to attempt to forcibly remount, call drive.mount(\"/content/drive\", force_remount=True).\n"
          ]
        }
      ]
    },
    {
      "cell_type": "code",
      "source": [
        "import warnings\n",
        "warnings.filterwarnings('ignore')"
      ],
      "metadata": {
        "id": "UB0KlJ6wO0NI"
      },
      "execution_count": 2,
      "outputs": []
    },
    {
      "cell_type": "code",
      "source": [
        "import numpy as np\n",
        "import pandas as pd\n",
        "import matplotlib.pyplot as plt\n",
        "import seaborn as sns\n",
        "from sklearn.preprocessing import MinMaxScaler, StandardScaler\n",
        "from sklearn.model_selection import train_test_split\n",
        "from sklearn.linear_model import LogisticRegression\n",
        "# from sklearn.grid_search"
      ],
      "metadata": {
        "id": "J1rnbQVHbJCD"
      },
      "execution_count": 3,
      "outputs": []
    },
    {
      "cell_type": "code",
      "source": [
        "df = pd.read_csv('/content/drive/MyDrive/PAYTM_MLE/PAYTM_take_home_assign/train.csv')\n",
        "test = pd.read_csv('/content/drive/MyDrive/PAYTM_MLE/PAYTM_take_home_assign/test.csv')"
      ],
      "metadata": {
        "id": "bGfpw447bJie"
      },
      "execution_count": 4,
      "outputs": []
    },
    {
      "cell_type": "code",
      "source": [
        "test.head()"
      ],
      "metadata": {
        "colab": {
          "base_uri": "https://localhost:8080/",
          "height": 299
        },
        "id": "f131VFy5InI0",
        "outputId": "908ce252-6191-400b-edc1-1ccda1b1cf7e"
      },
      "execution_count": 5,
      "outputs": [
        {
          "output_type": "execute_result",
          "data": {
            "text/plain": [
              "            Tern     Thrush      Tick Tiger Tiglon Toad   Tortoise  \\\n",
              "0   10037.569173 -49.659246 -1.136071     s  False    l -26.668479   \n",
              "1  309793.427988 -49.659246 -0.405625     s    NaN    s  -9.135203   \n",
              "2 -211799.890072 -49.659246 -1.264768     s    NaN    s -33.497916   \n",
              "3  126491.946464 -49.659246 -0.657188     s    NaN    s -13.408124   \n",
              "4 -263898.558134 -49.659246 -0.806868     s    NaN    l -16.425848   \n",
              "\n",
              "        Trout          Tuna        Turkey  ...  Weasel         Whale  \\\n",
              "0 -416.498726 -68609.347455  9.545921e+04  ...       b -1.654323e+06   \n",
              "1 -504.070169 -39477.100060  1.993753e+06  ...       a -3.070990e+06   \n",
              "2 -369.689046  -8971.914423  5.490111e+04  ...       b  2.571013e+05   \n",
              "3 -474.511672  -2781.100939  1.906031e+05  ...       a -3.562542e+06   \n",
              "4 -426.317969 -43766.391718  1.533545e+05  ...       b -1.329357e+06   \n",
              "\n",
              "    Whippet     Whitefish     Wildcat  Wildebeest Wildfowl  Wolf  Wolverine  \\\n",
              "0 -1.342072 -3.528056e+07   64.911670   -0.314766        b    m1          x   \n",
              "1 -1.340854 -3.528065e+07  -12.327810    0.836566        b    s1          r   \n",
              "2 -1.305239 -3.528212e+07  -65.275581    0.405433        b    k1          x   \n",
              "3 -1.295844 -3.527862e+07 -131.275734    0.076052        b    s1          s   \n",
              "4 -1.341364 -3.528261e+07  389.990411   -0.341824        b    k1          m   \n",
              "\n",
              "   target  \n",
              "0       0  \n",
              "1       0  \n",
              "2       0  \n",
              "3       1  \n",
              "4       1  \n",
              "\n",
              "[5 rows x 31 columns]"
            ],
            "text/html": [
              "\n",
              "  <div id=\"df-42b3531f-25a8-4790-ac53-0eb7075e52b9\">\n",
              "    <div class=\"colab-df-container\">\n",
              "      <div>\n",
              "<style scoped>\n",
              "    .dataframe tbody tr th:only-of-type {\n",
              "        vertical-align: middle;\n",
              "    }\n",
              "\n",
              "    .dataframe tbody tr th {\n",
              "        vertical-align: top;\n",
              "    }\n",
              "\n",
              "    .dataframe thead th {\n",
              "        text-align: right;\n",
              "    }\n",
              "</style>\n",
              "<table border=\"1\" class=\"dataframe\">\n",
              "  <thead>\n",
              "    <tr style=\"text-align: right;\">\n",
              "      <th></th>\n",
              "      <th>Tern</th>\n",
              "      <th>Thrush</th>\n",
              "      <th>Tick</th>\n",
              "      <th>Tiger</th>\n",
              "      <th>Tiglon</th>\n",
              "      <th>Toad</th>\n",
              "      <th>Tortoise</th>\n",
              "      <th>Trout</th>\n",
              "      <th>Tuna</th>\n",
              "      <th>Turkey</th>\n",
              "      <th>...</th>\n",
              "      <th>Weasel</th>\n",
              "      <th>Whale</th>\n",
              "      <th>Whippet</th>\n",
              "      <th>Whitefish</th>\n",
              "      <th>Wildcat</th>\n",
              "      <th>Wildebeest</th>\n",
              "      <th>Wildfowl</th>\n",
              "      <th>Wolf</th>\n",
              "      <th>Wolverine</th>\n",
              "      <th>target</th>\n",
              "    </tr>\n",
              "  </thead>\n",
              "  <tbody>\n",
              "    <tr>\n",
              "      <th>0</th>\n",
              "      <td>10037.569173</td>\n",
              "      <td>-49.659246</td>\n",
              "      <td>-1.136071</td>\n",
              "      <td>s</td>\n",
              "      <td>False</td>\n",
              "      <td>l</td>\n",
              "      <td>-26.668479</td>\n",
              "      <td>-416.498726</td>\n",
              "      <td>-68609.347455</td>\n",
              "      <td>9.545921e+04</td>\n",
              "      <td>...</td>\n",
              "      <td>b</td>\n",
              "      <td>-1.654323e+06</td>\n",
              "      <td>-1.342072</td>\n",
              "      <td>-3.528056e+07</td>\n",
              "      <td>64.911670</td>\n",
              "      <td>-0.314766</td>\n",
              "      <td>b</td>\n",
              "      <td>m1</td>\n",
              "      <td>x</td>\n",
              "      <td>0</td>\n",
              "    </tr>\n",
              "    <tr>\n",
              "      <th>1</th>\n",
              "      <td>309793.427988</td>\n",
              "      <td>-49.659246</td>\n",
              "      <td>-0.405625</td>\n",
              "      <td>s</td>\n",
              "      <td>NaN</td>\n",
              "      <td>s</td>\n",
              "      <td>-9.135203</td>\n",
              "      <td>-504.070169</td>\n",
              "      <td>-39477.100060</td>\n",
              "      <td>1.993753e+06</td>\n",
              "      <td>...</td>\n",
              "      <td>a</td>\n",
              "      <td>-3.070990e+06</td>\n",
              "      <td>-1.340854</td>\n",
              "      <td>-3.528065e+07</td>\n",
              "      <td>-12.327810</td>\n",
              "      <td>0.836566</td>\n",
              "      <td>b</td>\n",
              "      <td>s1</td>\n",
              "      <td>r</td>\n",
              "      <td>0</td>\n",
              "    </tr>\n",
              "    <tr>\n",
              "      <th>2</th>\n",
              "      <td>-211799.890072</td>\n",
              "      <td>-49.659246</td>\n",
              "      <td>-1.264768</td>\n",
              "      <td>s</td>\n",
              "      <td>NaN</td>\n",
              "      <td>s</td>\n",
              "      <td>-33.497916</td>\n",
              "      <td>-369.689046</td>\n",
              "      <td>-8971.914423</td>\n",
              "      <td>5.490111e+04</td>\n",
              "      <td>...</td>\n",
              "      <td>b</td>\n",
              "      <td>2.571013e+05</td>\n",
              "      <td>-1.305239</td>\n",
              "      <td>-3.528212e+07</td>\n",
              "      <td>-65.275581</td>\n",
              "      <td>0.405433</td>\n",
              "      <td>b</td>\n",
              "      <td>k1</td>\n",
              "      <td>x</td>\n",
              "      <td>0</td>\n",
              "    </tr>\n",
              "    <tr>\n",
              "      <th>3</th>\n",
              "      <td>126491.946464</td>\n",
              "      <td>-49.659246</td>\n",
              "      <td>-0.657188</td>\n",
              "      <td>s</td>\n",
              "      <td>NaN</td>\n",
              "      <td>s</td>\n",
              "      <td>-13.408124</td>\n",
              "      <td>-474.511672</td>\n",
              "      <td>-2781.100939</td>\n",
              "      <td>1.906031e+05</td>\n",
              "      <td>...</td>\n",
              "      <td>a</td>\n",
              "      <td>-3.562542e+06</td>\n",
              "      <td>-1.295844</td>\n",
              "      <td>-3.527862e+07</td>\n",
              "      <td>-131.275734</td>\n",
              "      <td>0.076052</td>\n",
              "      <td>b</td>\n",
              "      <td>s1</td>\n",
              "      <td>s</td>\n",
              "      <td>1</td>\n",
              "    </tr>\n",
              "    <tr>\n",
              "      <th>4</th>\n",
              "      <td>-263898.558134</td>\n",
              "      <td>-49.659246</td>\n",
              "      <td>-0.806868</td>\n",
              "      <td>s</td>\n",
              "      <td>NaN</td>\n",
              "      <td>l</td>\n",
              "      <td>-16.425848</td>\n",
              "      <td>-426.317969</td>\n",
              "      <td>-43766.391718</td>\n",
              "      <td>1.533545e+05</td>\n",
              "      <td>...</td>\n",
              "      <td>b</td>\n",
              "      <td>-1.329357e+06</td>\n",
              "      <td>-1.341364</td>\n",
              "      <td>-3.528261e+07</td>\n",
              "      <td>389.990411</td>\n",
              "      <td>-0.341824</td>\n",
              "      <td>b</td>\n",
              "      <td>k1</td>\n",
              "      <td>m</td>\n",
              "      <td>1</td>\n",
              "    </tr>\n",
              "  </tbody>\n",
              "</table>\n",
              "<p>5 rows × 31 columns</p>\n",
              "</div>\n",
              "      <button class=\"colab-df-convert\" onclick=\"convertToInteractive('df-42b3531f-25a8-4790-ac53-0eb7075e52b9')\"\n",
              "              title=\"Convert this dataframe to an interactive table.\"\n",
              "              style=\"display:none;\">\n",
              "        \n",
              "  <svg xmlns=\"http://www.w3.org/2000/svg\" height=\"24px\"viewBox=\"0 0 24 24\"\n",
              "       width=\"24px\">\n",
              "    <path d=\"M0 0h24v24H0V0z\" fill=\"none\"/>\n",
              "    <path d=\"M18.56 5.44l.94 2.06.94-2.06 2.06-.94-2.06-.94-.94-2.06-.94 2.06-2.06.94zm-11 1L8.5 8.5l.94-2.06 2.06-.94-2.06-.94L8.5 2.5l-.94 2.06-2.06.94zm10 10l.94 2.06.94-2.06 2.06-.94-2.06-.94-.94-2.06-.94 2.06-2.06.94z\"/><path d=\"M17.41 7.96l-1.37-1.37c-.4-.4-.92-.59-1.43-.59-.52 0-1.04.2-1.43.59L10.3 9.45l-7.72 7.72c-.78.78-.78 2.05 0 2.83L4 21.41c.39.39.9.59 1.41.59.51 0 1.02-.2 1.41-.59l7.78-7.78 2.81-2.81c.8-.78.8-2.07 0-2.86zM5.41 20L4 18.59l7.72-7.72 1.47 1.35L5.41 20z\"/>\n",
              "  </svg>\n",
              "      </button>\n",
              "      \n",
              "  <style>\n",
              "    .colab-df-container {\n",
              "      display:flex;\n",
              "      flex-wrap:wrap;\n",
              "      gap: 12px;\n",
              "    }\n",
              "\n",
              "    .colab-df-convert {\n",
              "      background-color: #E8F0FE;\n",
              "      border: none;\n",
              "      border-radius: 50%;\n",
              "      cursor: pointer;\n",
              "      display: none;\n",
              "      fill: #1967D2;\n",
              "      height: 32px;\n",
              "      padding: 0 0 0 0;\n",
              "      width: 32px;\n",
              "    }\n",
              "\n",
              "    .colab-df-convert:hover {\n",
              "      background-color: #E2EBFA;\n",
              "      box-shadow: 0px 1px 2px rgba(60, 64, 67, 0.3), 0px 1px 3px 1px rgba(60, 64, 67, 0.15);\n",
              "      fill: #174EA6;\n",
              "    }\n",
              "\n",
              "    [theme=dark] .colab-df-convert {\n",
              "      background-color: #3B4455;\n",
              "      fill: #D2E3FC;\n",
              "    }\n",
              "\n",
              "    [theme=dark] .colab-df-convert:hover {\n",
              "      background-color: #434B5C;\n",
              "      box-shadow: 0px 1px 3px 1px rgba(0, 0, 0, 0.15);\n",
              "      filter: drop-shadow(0px 1px 2px rgba(0, 0, 0, 0.3));\n",
              "      fill: #FFFFFF;\n",
              "    }\n",
              "  </style>\n",
              "\n",
              "      <script>\n",
              "        const buttonEl =\n",
              "          document.querySelector('#df-42b3531f-25a8-4790-ac53-0eb7075e52b9 button.colab-df-convert');\n",
              "        buttonEl.style.display =\n",
              "          google.colab.kernel.accessAllowed ? 'block' : 'none';\n",
              "\n",
              "        async function convertToInteractive(key) {\n",
              "          const element = document.querySelector('#df-42b3531f-25a8-4790-ac53-0eb7075e52b9');\n",
              "          const dataTable =\n",
              "            await google.colab.kernel.invokeFunction('convertToInteractive',\n",
              "                                                     [key], {});\n",
              "          if (!dataTable) return;\n",
              "\n",
              "          const docLinkHtml = 'Like what you see? Visit the ' +\n",
              "            '<a target=\"_blank\" href=https://colab.research.google.com/notebooks/data_table.ipynb>data table notebook</a>'\n",
              "            + ' to learn more about interactive tables.';\n",
              "          element.innerHTML = '';\n",
              "          dataTable['output_type'] = 'display_data';\n",
              "          await google.colab.output.renderOutput(dataTable, element);\n",
              "          const docLink = document.createElement('div');\n",
              "          docLink.innerHTML = docLinkHtml;\n",
              "          element.appendChild(docLink);\n",
              "        }\n",
              "      </script>\n",
              "    </div>\n",
              "  </div>\n",
              "  "
            ]
          },
          "metadata": {},
          "execution_count": 5
        }
      ]
    },
    {
      "cell_type": "code",
      "source": [
        "test.shape"
      ],
      "metadata": {
        "colab": {
          "base_uri": "https://localhost:8080/"
        },
        "id": "CugNERIB56IL",
        "outputId": "4eece9dd-c990-4e29-fb56-0f64eba14b11"
      },
      "execution_count": 6,
      "outputs": [
        {
          "output_type": "execute_result",
          "data": {
            "text/plain": [
              "(1031, 31)"
            ]
          },
          "metadata": {},
          "execution_count": 6
        }
      ]
    },
    {
      "cell_type": "code",
      "source": [
        "test.info()"
      ],
      "metadata": {
        "colab": {
          "base_uri": "https://localhost:8080/"
        },
        "id": "k4T7u-p959kC",
        "outputId": "b38c7729-2e10-4306-fdcd-590c097202fe"
      },
      "execution_count": 7,
      "outputs": [
        {
          "output_type": "stream",
          "name": "stdout",
          "text": [
            "<class 'pandas.core.frame.DataFrame'>\n",
            "RangeIndex: 1031 entries, 0 to 1030\n",
            "Data columns (total 31 columns):\n",
            " #   Column         Non-Null Count  Dtype  \n",
            "---  ------         --------------  -----  \n",
            " 0   Tern           1031 non-null   float64\n",
            " 1   Thrush         1031 non-null   float64\n",
            " 2   Tick           1031 non-null   float64\n",
            " 3   Tiger          1031 non-null   object \n",
            " 4   Tiglon         516 non-null    object \n",
            " 5   Toad           1031 non-null   object \n",
            " 6   Tortoise       1031 non-null   float64\n",
            " 7   Trout          1031 non-null   float64\n",
            " 8   Tuna           1031 non-null   float64\n",
            " 9   Turkey         1031 non-null   float64\n",
            " 10  Turtle         1031 non-null   float64\n",
            " 11  Tyrannosaurus  1031 non-null   float64\n",
            " 12  Urial          1031 non-null   object \n",
            " 13  Vicuna         0 non-null      float64\n",
            " 14  Viper          1031 non-null   float64\n",
            " 15  Vole           1031 non-null   float64\n",
            " 16  Vulture        1031 non-null   object \n",
            " 17  Wallaby        485 non-null    float64\n",
            " 18  Walrus         1031 non-null   float64\n",
            " 19  Wasp           1031 non-null   int64  \n",
            " 20  Warbler        1031 non-null   object \n",
            " 21  Weasel         1031 non-null   object \n",
            " 22  Whale          1031 non-null   float64\n",
            " 23  Whippet        1031 non-null   float64\n",
            " 24  Whitefish      1031 non-null   float64\n",
            " 25  Wildcat        1031 non-null   float64\n",
            " 26  Wildebeest     1031 non-null   float64\n",
            " 27  Wildfowl       1031 non-null   object \n",
            " 28  Wolf           1031 non-null   object \n",
            " 29  Wolverine      1031 non-null   object \n",
            " 30  target         1031 non-null   int64  \n",
            "dtypes: float64(19), int64(2), object(10)\n",
            "memory usage: 249.8+ KB\n"
          ]
        }
      ]
    },
    {
      "cell_type": "code",
      "source": [
        "((test.isna().sum())/1031)*100"
      ],
      "metadata": {
        "colab": {
          "base_uri": "https://localhost:8080/"
        },
        "id": "lJI4Cs806Cs1",
        "outputId": "8e71f4c5-d80f-4de0-c2c1-494c9c1ecf4e"
      },
      "execution_count": 8,
      "outputs": [
        {
          "output_type": "execute_result",
          "data": {
            "text/plain": [
              "Tern               0.000000\n",
              "Thrush             0.000000\n",
              "Tick               0.000000\n",
              "Tiger              0.000000\n",
              "Tiglon            49.951503\n",
              "Toad               0.000000\n",
              "Tortoise           0.000000\n",
              "Trout              0.000000\n",
              "Tuna               0.000000\n",
              "Turkey             0.000000\n",
              "Turtle             0.000000\n",
              "Tyrannosaurus      0.000000\n",
              "Urial              0.000000\n",
              "Vicuna           100.000000\n",
              "Viper              0.000000\n",
              "Vole               0.000000\n",
              "Vulture            0.000000\n",
              "Wallaby           52.958293\n",
              "Walrus             0.000000\n",
              "Wasp               0.000000\n",
              "Warbler            0.000000\n",
              "Weasel             0.000000\n",
              "Whale              0.000000\n",
              "Whippet            0.000000\n",
              "Whitefish          0.000000\n",
              "Wildcat            0.000000\n",
              "Wildebeest         0.000000\n",
              "Wildfowl           0.000000\n",
              "Wolf               0.000000\n",
              "Wolverine          0.000000\n",
              "target             0.000000\n",
              "dtype: float64"
            ]
          },
          "metadata": {},
          "execution_count": 8
        }
      ]
    },
    {
      "cell_type": "code",
      "source": [
        "test.drop(\"Vicuna\", axis = 1, inplace = True)\n",
        "test.drop(\"Tiglon\", axis = 1, inplace = True)"
      ],
      "metadata": {
        "id": "EF6j3ft16J23"
      },
      "execution_count": 9,
      "outputs": []
    },
    {
      "cell_type": "code",
      "source": [
        "test.info()"
      ],
      "metadata": {
        "colab": {
          "base_uri": "https://localhost:8080/"
        },
        "id": "r6P-18JK6S5n",
        "outputId": "a260abd3-c272-4845-c041-617432f7b806"
      },
      "execution_count": 10,
      "outputs": [
        {
          "output_type": "stream",
          "name": "stdout",
          "text": [
            "<class 'pandas.core.frame.DataFrame'>\n",
            "RangeIndex: 1031 entries, 0 to 1030\n",
            "Data columns (total 29 columns):\n",
            " #   Column         Non-Null Count  Dtype  \n",
            "---  ------         --------------  -----  \n",
            " 0   Tern           1031 non-null   float64\n",
            " 1   Thrush         1031 non-null   float64\n",
            " 2   Tick           1031 non-null   float64\n",
            " 3   Tiger          1031 non-null   object \n",
            " 4   Toad           1031 non-null   object \n",
            " 5   Tortoise       1031 non-null   float64\n",
            " 6   Trout          1031 non-null   float64\n",
            " 7   Tuna           1031 non-null   float64\n",
            " 8   Turkey         1031 non-null   float64\n",
            " 9   Turtle         1031 non-null   float64\n",
            " 10  Tyrannosaurus  1031 non-null   float64\n",
            " 11  Urial          1031 non-null   object \n",
            " 12  Viper          1031 non-null   float64\n",
            " 13  Vole           1031 non-null   float64\n",
            " 14  Vulture        1031 non-null   object \n",
            " 15  Wallaby        485 non-null    float64\n",
            " 16  Walrus         1031 non-null   float64\n",
            " 17  Wasp           1031 non-null   int64  \n",
            " 18  Warbler        1031 non-null   object \n",
            " 19  Weasel         1031 non-null   object \n",
            " 20  Whale          1031 non-null   float64\n",
            " 21  Whippet        1031 non-null   float64\n",
            " 22  Whitefish      1031 non-null   float64\n",
            " 23  Wildcat        1031 non-null   float64\n",
            " 24  Wildebeest     1031 non-null   float64\n",
            " 25  Wildfowl       1031 non-null   object \n",
            " 26  Wolf           1031 non-null   object \n",
            " 27  Wolverine      1031 non-null   object \n",
            " 28  target         1031 non-null   int64  \n",
            "dtypes: float64(18), int64(2), object(9)\n",
            "memory usage: 233.7+ KB\n"
          ]
        }
      ]
    },
    {
      "cell_type": "code",
      "source": [
        "df.head()"
      ],
      "metadata": {
        "colab": {
          "base_uri": "https://localhost:8080/",
          "height": 299
        },
        "id": "FvDbQJCJbPKE",
        "outputId": "8f898e13-a894-4be1-ac56-d181f5869509"
      },
      "execution_count": 11,
      "outputs": [
        {
          "output_type": "execute_result",
          "data": {
            "text/plain": [
              "            Tern     Thrush      Tick Tiger Tiglon Toad   Tortoise  \\\n",
              "0 -253077.772390 -49.659246 -0.679765     s    NaN    l -12.055165   \n",
              "1  380192.123132 -49.659246 -1.356456     s  False    l -30.235998   \n",
              "2 -218627.876963 -49.659246 -0.542194     s  False    l -10.443575   \n",
              "3 -178076.879466 -49.659246 -0.485974     s    NaN    l  -8.374563   \n",
              "4 -169250.190006 -49.659246 -0.600561     s  False    l -10.269902   \n",
              "\n",
              "        Trout          Tuna        Turkey  ...  Weasel         Whale  \\\n",
              "0 -463.332642 -41860.419322  3.256739e+05  ...       a -3.297065e+06   \n",
              "1 -388.822813 -94810.029959  1.154421e+03  ...       b -1.043690e+06   \n",
              "2 -519.014942 -46075.931683  2.248867e+06  ...       a  4.892868e+06   \n",
              "3 -504.614247 -73554.391505  1.452062e+07  ...       a  2.814345e+07   \n",
              "4 -455.225099 -41390.990681  2.689196e+05  ...       a -1.801627e+05   \n",
              "\n",
              "    Whippet     Whitefish      Wildcat  Wildebeest Wildfowl  Wolf  Wolverine  \\\n",
              "0 -0.974495 -3.536578e+07  -395.159010    0.021952        b    k1          m   \n",
              "1 -1.342061 -3.536549e+07   609.332121    0.269383        b    m1          x   \n",
              "2 -1.335934 -3.536456e+07  1175.536902    0.341417        b    s2          r   \n",
              "3 -1.073553 -3.536497e+07  -359.320759    0.003191        m    k1          w   \n",
              "4 -1.341853 -3.536321e+07  -346.856580   -0.250332        b    j1          s   \n",
              "\n",
              "   target  \n",
              "0       1  \n",
              "1       0  \n",
              "2       0  \n",
              "3       0  \n",
              "4       0  \n",
              "\n",
              "[5 rows x 31 columns]"
            ],
            "text/html": [
              "\n",
              "  <div id=\"df-2a34e628-5624-4a00-be6d-640ad55d8095\">\n",
              "    <div class=\"colab-df-container\">\n",
              "      <div>\n",
              "<style scoped>\n",
              "    .dataframe tbody tr th:only-of-type {\n",
              "        vertical-align: middle;\n",
              "    }\n",
              "\n",
              "    .dataframe tbody tr th {\n",
              "        vertical-align: top;\n",
              "    }\n",
              "\n",
              "    .dataframe thead th {\n",
              "        text-align: right;\n",
              "    }\n",
              "</style>\n",
              "<table border=\"1\" class=\"dataframe\">\n",
              "  <thead>\n",
              "    <tr style=\"text-align: right;\">\n",
              "      <th></th>\n",
              "      <th>Tern</th>\n",
              "      <th>Thrush</th>\n",
              "      <th>Tick</th>\n",
              "      <th>Tiger</th>\n",
              "      <th>Tiglon</th>\n",
              "      <th>Toad</th>\n",
              "      <th>Tortoise</th>\n",
              "      <th>Trout</th>\n",
              "      <th>Tuna</th>\n",
              "      <th>Turkey</th>\n",
              "      <th>...</th>\n",
              "      <th>Weasel</th>\n",
              "      <th>Whale</th>\n",
              "      <th>Whippet</th>\n",
              "      <th>Whitefish</th>\n",
              "      <th>Wildcat</th>\n",
              "      <th>Wildebeest</th>\n",
              "      <th>Wildfowl</th>\n",
              "      <th>Wolf</th>\n",
              "      <th>Wolverine</th>\n",
              "      <th>target</th>\n",
              "    </tr>\n",
              "  </thead>\n",
              "  <tbody>\n",
              "    <tr>\n",
              "      <th>0</th>\n",
              "      <td>-253077.772390</td>\n",
              "      <td>-49.659246</td>\n",
              "      <td>-0.679765</td>\n",
              "      <td>s</td>\n",
              "      <td>NaN</td>\n",
              "      <td>l</td>\n",
              "      <td>-12.055165</td>\n",
              "      <td>-463.332642</td>\n",
              "      <td>-41860.419322</td>\n",
              "      <td>3.256739e+05</td>\n",
              "      <td>...</td>\n",
              "      <td>a</td>\n",
              "      <td>-3.297065e+06</td>\n",
              "      <td>-0.974495</td>\n",
              "      <td>-3.536578e+07</td>\n",
              "      <td>-395.159010</td>\n",
              "      <td>0.021952</td>\n",
              "      <td>b</td>\n",
              "      <td>k1</td>\n",
              "      <td>m</td>\n",
              "      <td>1</td>\n",
              "    </tr>\n",
              "    <tr>\n",
              "      <th>1</th>\n",
              "      <td>380192.123132</td>\n",
              "      <td>-49.659246</td>\n",
              "      <td>-1.356456</td>\n",
              "      <td>s</td>\n",
              "      <td>False</td>\n",
              "      <td>l</td>\n",
              "      <td>-30.235998</td>\n",
              "      <td>-388.822813</td>\n",
              "      <td>-94810.029959</td>\n",
              "      <td>1.154421e+03</td>\n",
              "      <td>...</td>\n",
              "      <td>b</td>\n",
              "      <td>-1.043690e+06</td>\n",
              "      <td>-1.342061</td>\n",
              "      <td>-3.536549e+07</td>\n",
              "      <td>609.332121</td>\n",
              "      <td>0.269383</td>\n",
              "      <td>b</td>\n",
              "      <td>m1</td>\n",
              "      <td>x</td>\n",
              "      <td>0</td>\n",
              "    </tr>\n",
              "    <tr>\n",
              "      <th>2</th>\n",
              "      <td>-218627.876963</td>\n",
              "      <td>-49.659246</td>\n",
              "      <td>-0.542194</td>\n",
              "      <td>s</td>\n",
              "      <td>False</td>\n",
              "      <td>l</td>\n",
              "      <td>-10.443575</td>\n",
              "      <td>-519.014942</td>\n",
              "      <td>-46075.931683</td>\n",
              "      <td>2.248867e+06</td>\n",
              "      <td>...</td>\n",
              "      <td>a</td>\n",
              "      <td>4.892868e+06</td>\n",
              "      <td>-1.335934</td>\n",
              "      <td>-3.536456e+07</td>\n",
              "      <td>1175.536902</td>\n",
              "      <td>0.341417</td>\n",
              "      <td>b</td>\n",
              "      <td>s2</td>\n",
              "      <td>r</td>\n",
              "      <td>0</td>\n",
              "    </tr>\n",
              "    <tr>\n",
              "      <th>3</th>\n",
              "      <td>-178076.879466</td>\n",
              "      <td>-49.659246</td>\n",
              "      <td>-0.485974</td>\n",
              "      <td>s</td>\n",
              "      <td>NaN</td>\n",
              "      <td>l</td>\n",
              "      <td>-8.374563</td>\n",
              "      <td>-504.614247</td>\n",
              "      <td>-73554.391505</td>\n",
              "      <td>1.452062e+07</td>\n",
              "      <td>...</td>\n",
              "      <td>a</td>\n",
              "      <td>2.814345e+07</td>\n",
              "      <td>-1.073553</td>\n",
              "      <td>-3.536497e+07</td>\n",
              "      <td>-359.320759</td>\n",
              "      <td>0.003191</td>\n",
              "      <td>m</td>\n",
              "      <td>k1</td>\n",
              "      <td>w</td>\n",
              "      <td>0</td>\n",
              "    </tr>\n",
              "    <tr>\n",
              "      <th>4</th>\n",
              "      <td>-169250.190006</td>\n",
              "      <td>-49.659246</td>\n",
              "      <td>-0.600561</td>\n",
              "      <td>s</td>\n",
              "      <td>False</td>\n",
              "      <td>l</td>\n",
              "      <td>-10.269902</td>\n",
              "      <td>-455.225099</td>\n",
              "      <td>-41390.990681</td>\n",
              "      <td>2.689196e+05</td>\n",
              "      <td>...</td>\n",
              "      <td>a</td>\n",
              "      <td>-1.801627e+05</td>\n",
              "      <td>-1.341853</td>\n",
              "      <td>-3.536321e+07</td>\n",
              "      <td>-346.856580</td>\n",
              "      <td>-0.250332</td>\n",
              "      <td>b</td>\n",
              "      <td>j1</td>\n",
              "      <td>s</td>\n",
              "      <td>0</td>\n",
              "    </tr>\n",
              "  </tbody>\n",
              "</table>\n",
              "<p>5 rows × 31 columns</p>\n",
              "</div>\n",
              "      <button class=\"colab-df-convert\" onclick=\"convertToInteractive('df-2a34e628-5624-4a00-be6d-640ad55d8095')\"\n",
              "              title=\"Convert this dataframe to an interactive table.\"\n",
              "              style=\"display:none;\">\n",
              "        \n",
              "  <svg xmlns=\"http://www.w3.org/2000/svg\" height=\"24px\"viewBox=\"0 0 24 24\"\n",
              "       width=\"24px\">\n",
              "    <path d=\"M0 0h24v24H0V0z\" fill=\"none\"/>\n",
              "    <path d=\"M18.56 5.44l.94 2.06.94-2.06 2.06-.94-2.06-.94-.94-2.06-.94 2.06-2.06.94zm-11 1L8.5 8.5l.94-2.06 2.06-.94-2.06-.94L8.5 2.5l-.94 2.06-2.06.94zm10 10l.94 2.06.94-2.06 2.06-.94-2.06-.94-.94-2.06-.94 2.06-2.06.94z\"/><path d=\"M17.41 7.96l-1.37-1.37c-.4-.4-.92-.59-1.43-.59-.52 0-1.04.2-1.43.59L10.3 9.45l-7.72 7.72c-.78.78-.78 2.05 0 2.83L4 21.41c.39.39.9.59 1.41.59.51 0 1.02-.2 1.41-.59l7.78-7.78 2.81-2.81c.8-.78.8-2.07 0-2.86zM5.41 20L4 18.59l7.72-7.72 1.47 1.35L5.41 20z\"/>\n",
              "  </svg>\n",
              "      </button>\n",
              "      \n",
              "  <style>\n",
              "    .colab-df-container {\n",
              "      display:flex;\n",
              "      flex-wrap:wrap;\n",
              "      gap: 12px;\n",
              "    }\n",
              "\n",
              "    .colab-df-convert {\n",
              "      background-color: #E8F0FE;\n",
              "      border: none;\n",
              "      border-radius: 50%;\n",
              "      cursor: pointer;\n",
              "      display: none;\n",
              "      fill: #1967D2;\n",
              "      height: 32px;\n",
              "      padding: 0 0 0 0;\n",
              "      width: 32px;\n",
              "    }\n",
              "\n",
              "    .colab-df-convert:hover {\n",
              "      background-color: #E2EBFA;\n",
              "      box-shadow: 0px 1px 2px rgba(60, 64, 67, 0.3), 0px 1px 3px 1px rgba(60, 64, 67, 0.15);\n",
              "      fill: #174EA6;\n",
              "    }\n",
              "\n",
              "    [theme=dark] .colab-df-convert {\n",
              "      background-color: #3B4455;\n",
              "      fill: #D2E3FC;\n",
              "    }\n",
              "\n",
              "    [theme=dark] .colab-df-convert:hover {\n",
              "      background-color: #434B5C;\n",
              "      box-shadow: 0px 1px 3px 1px rgba(0, 0, 0, 0.15);\n",
              "      filter: drop-shadow(0px 1px 2px rgba(0, 0, 0, 0.3));\n",
              "      fill: #FFFFFF;\n",
              "    }\n",
              "  </style>\n",
              "\n",
              "      <script>\n",
              "        const buttonEl =\n",
              "          document.querySelector('#df-2a34e628-5624-4a00-be6d-640ad55d8095 button.colab-df-convert');\n",
              "        buttonEl.style.display =\n",
              "          google.colab.kernel.accessAllowed ? 'block' : 'none';\n",
              "\n",
              "        async function convertToInteractive(key) {\n",
              "          const element = document.querySelector('#df-2a34e628-5624-4a00-be6d-640ad55d8095');\n",
              "          const dataTable =\n",
              "            await google.colab.kernel.invokeFunction('convertToInteractive',\n",
              "                                                     [key], {});\n",
              "          if (!dataTable) return;\n",
              "\n",
              "          const docLinkHtml = 'Like what you see? Visit the ' +\n",
              "            '<a target=\"_blank\" href=https://colab.research.google.com/notebooks/data_table.ipynb>data table notebook</a>'\n",
              "            + ' to learn more about interactive tables.';\n",
              "          element.innerHTML = '';\n",
              "          dataTable['output_type'] = 'display_data';\n",
              "          await google.colab.output.renderOutput(dataTable, element);\n",
              "          const docLink = document.createElement('div');\n",
              "          docLink.innerHTML = docLinkHtml;\n",
              "          element.appendChild(docLink);\n",
              "        }\n",
              "      </script>\n",
              "    </div>\n",
              "  </div>\n",
              "  "
            ]
          },
          "metadata": {},
          "execution_count": 11
        }
      ]
    },
    {
      "cell_type": "code",
      "source": [
        "df.head()"
      ],
      "metadata": {
        "colab": {
          "base_uri": "https://localhost:8080/",
          "height": 299
        },
        "id": "ScJKl1BEirH1",
        "outputId": "bff66450-6fb9-47bb-ee93-e961d9477fc3"
      },
      "execution_count": 12,
      "outputs": [
        {
          "output_type": "execute_result",
          "data": {
            "text/plain": [
              "            Tern     Thrush      Tick Tiger Tiglon Toad   Tortoise  \\\n",
              "0 -253077.772390 -49.659246 -0.679765     s    NaN    l -12.055165   \n",
              "1  380192.123132 -49.659246 -1.356456     s  False    l -30.235998   \n",
              "2 -218627.876963 -49.659246 -0.542194     s  False    l -10.443575   \n",
              "3 -178076.879466 -49.659246 -0.485974     s    NaN    l  -8.374563   \n",
              "4 -169250.190006 -49.659246 -0.600561     s  False    l -10.269902   \n",
              "\n",
              "        Trout          Tuna        Turkey  ...  Weasel         Whale  \\\n",
              "0 -463.332642 -41860.419322  3.256739e+05  ...       a -3.297065e+06   \n",
              "1 -388.822813 -94810.029959  1.154421e+03  ...       b -1.043690e+06   \n",
              "2 -519.014942 -46075.931683  2.248867e+06  ...       a  4.892868e+06   \n",
              "3 -504.614247 -73554.391505  1.452062e+07  ...       a  2.814345e+07   \n",
              "4 -455.225099 -41390.990681  2.689196e+05  ...       a -1.801627e+05   \n",
              "\n",
              "    Whippet     Whitefish      Wildcat  Wildebeest Wildfowl  Wolf  Wolverine  \\\n",
              "0 -0.974495 -3.536578e+07  -395.159010    0.021952        b    k1          m   \n",
              "1 -1.342061 -3.536549e+07   609.332121    0.269383        b    m1          x   \n",
              "2 -1.335934 -3.536456e+07  1175.536902    0.341417        b    s2          r   \n",
              "3 -1.073553 -3.536497e+07  -359.320759    0.003191        m    k1          w   \n",
              "4 -1.341853 -3.536321e+07  -346.856580   -0.250332        b    j1          s   \n",
              "\n",
              "   target  \n",
              "0       1  \n",
              "1       0  \n",
              "2       0  \n",
              "3       0  \n",
              "4       0  \n",
              "\n",
              "[5 rows x 31 columns]"
            ],
            "text/html": [
              "\n",
              "  <div id=\"df-b39a9eb1-1818-4b49-b3c0-7f5d54bbf214\">\n",
              "    <div class=\"colab-df-container\">\n",
              "      <div>\n",
              "<style scoped>\n",
              "    .dataframe tbody tr th:only-of-type {\n",
              "        vertical-align: middle;\n",
              "    }\n",
              "\n",
              "    .dataframe tbody tr th {\n",
              "        vertical-align: top;\n",
              "    }\n",
              "\n",
              "    .dataframe thead th {\n",
              "        text-align: right;\n",
              "    }\n",
              "</style>\n",
              "<table border=\"1\" class=\"dataframe\">\n",
              "  <thead>\n",
              "    <tr style=\"text-align: right;\">\n",
              "      <th></th>\n",
              "      <th>Tern</th>\n",
              "      <th>Thrush</th>\n",
              "      <th>Tick</th>\n",
              "      <th>Tiger</th>\n",
              "      <th>Tiglon</th>\n",
              "      <th>Toad</th>\n",
              "      <th>Tortoise</th>\n",
              "      <th>Trout</th>\n",
              "      <th>Tuna</th>\n",
              "      <th>Turkey</th>\n",
              "      <th>...</th>\n",
              "      <th>Weasel</th>\n",
              "      <th>Whale</th>\n",
              "      <th>Whippet</th>\n",
              "      <th>Whitefish</th>\n",
              "      <th>Wildcat</th>\n",
              "      <th>Wildebeest</th>\n",
              "      <th>Wildfowl</th>\n",
              "      <th>Wolf</th>\n",
              "      <th>Wolverine</th>\n",
              "      <th>target</th>\n",
              "    </tr>\n",
              "  </thead>\n",
              "  <tbody>\n",
              "    <tr>\n",
              "      <th>0</th>\n",
              "      <td>-253077.772390</td>\n",
              "      <td>-49.659246</td>\n",
              "      <td>-0.679765</td>\n",
              "      <td>s</td>\n",
              "      <td>NaN</td>\n",
              "      <td>l</td>\n",
              "      <td>-12.055165</td>\n",
              "      <td>-463.332642</td>\n",
              "      <td>-41860.419322</td>\n",
              "      <td>3.256739e+05</td>\n",
              "      <td>...</td>\n",
              "      <td>a</td>\n",
              "      <td>-3.297065e+06</td>\n",
              "      <td>-0.974495</td>\n",
              "      <td>-3.536578e+07</td>\n",
              "      <td>-395.159010</td>\n",
              "      <td>0.021952</td>\n",
              "      <td>b</td>\n",
              "      <td>k1</td>\n",
              "      <td>m</td>\n",
              "      <td>1</td>\n",
              "    </tr>\n",
              "    <tr>\n",
              "      <th>1</th>\n",
              "      <td>380192.123132</td>\n",
              "      <td>-49.659246</td>\n",
              "      <td>-1.356456</td>\n",
              "      <td>s</td>\n",
              "      <td>False</td>\n",
              "      <td>l</td>\n",
              "      <td>-30.235998</td>\n",
              "      <td>-388.822813</td>\n",
              "      <td>-94810.029959</td>\n",
              "      <td>1.154421e+03</td>\n",
              "      <td>...</td>\n",
              "      <td>b</td>\n",
              "      <td>-1.043690e+06</td>\n",
              "      <td>-1.342061</td>\n",
              "      <td>-3.536549e+07</td>\n",
              "      <td>609.332121</td>\n",
              "      <td>0.269383</td>\n",
              "      <td>b</td>\n",
              "      <td>m1</td>\n",
              "      <td>x</td>\n",
              "      <td>0</td>\n",
              "    </tr>\n",
              "    <tr>\n",
              "      <th>2</th>\n",
              "      <td>-218627.876963</td>\n",
              "      <td>-49.659246</td>\n",
              "      <td>-0.542194</td>\n",
              "      <td>s</td>\n",
              "      <td>False</td>\n",
              "      <td>l</td>\n",
              "      <td>-10.443575</td>\n",
              "      <td>-519.014942</td>\n",
              "      <td>-46075.931683</td>\n",
              "      <td>2.248867e+06</td>\n",
              "      <td>...</td>\n",
              "      <td>a</td>\n",
              "      <td>4.892868e+06</td>\n",
              "      <td>-1.335934</td>\n",
              "      <td>-3.536456e+07</td>\n",
              "      <td>1175.536902</td>\n",
              "      <td>0.341417</td>\n",
              "      <td>b</td>\n",
              "      <td>s2</td>\n",
              "      <td>r</td>\n",
              "      <td>0</td>\n",
              "    </tr>\n",
              "    <tr>\n",
              "      <th>3</th>\n",
              "      <td>-178076.879466</td>\n",
              "      <td>-49.659246</td>\n",
              "      <td>-0.485974</td>\n",
              "      <td>s</td>\n",
              "      <td>NaN</td>\n",
              "      <td>l</td>\n",
              "      <td>-8.374563</td>\n",
              "      <td>-504.614247</td>\n",
              "      <td>-73554.391505</td>\n",
              "      <td>1.452062e+07</td>\n",
              "      <td>...</td>\n",
              "      <td>a</td>\n",
              "      <td>2.814345e+07</td>\n",
              "      <td>-1.073553</td>\n",
              "      <td>-3.536497e+07</td>\n",
              "      <td>-359.320759</td>\n",
              "      <td>0.003191</td>\n",
              "      <td>m</td>\n",
              "      <td>k1</td>\n",
              "      <td>w</td>\n",
              "      <td>0</td>\n",
              "    </tr>\n",
              "    <tr>\n",
              "      <th>4</th>\n",
              "      <td>-169250.190006</td>\n",
              "      <td>-49.659246</td>\n",
              "      <td>-0.600561</td>\n",
              "      <td>s</td>\n",
              "      <td>False</td>\n",
              "      <td>l</td>\n",
              "      <td>-10.269902</td>\n",
              "      <td>-455.225099</td>\n",
              "      <td>-41390.990681</td>\n",
              "      <td>2.689196e+05</td>\n",
              "      <td>...</td>\n",
              "      <td>a</td>\n",
              "      <td>-1.801627e+05</td>\n",
              "      <td>-1.341853</td>\n",
              "      <td>-3.536321e+07</td>\n",
              "      <td>-346.856580</td>\n",
              "      <td>-0.250332</td>\n",
              "      <td>b</td>\n",
              "      <td>j1</td>\n",
              "      <td>s</td>\n",
              "      <td>0</td>\n",
              "    </tr>\n",
              "  </tbody>\n",
              "</table>\n",
              "<p>5 rows × 31 columns</p>\n",
              "</div>\n",
              "      <button class=\"colab-df-convert\" onclick=\"convertToInteractive('df-b39a9eb1-1818-4b49-b3c0-7f5d54bbf214')\"\n",
              "              title=\"Convert this dataframe to an interactive table.\"\n",
              "              style=\"display:none;\">\n",
              "        \n",
              "  <svg xmlns=\"http://www.w3.org/2000/svg\" height=\"24px\"viewBox=\"0 0 24 24\"\n",
              "       width=\"24px\">\n",
              "    <path d=\"M0 0h24v24H0V0z\" fill=\"none\"/>\n",
              "    <path d=\"M18.56 5.44l.94 2.06.94-2.06 2.06-.94-2.06-.94-.94-2.06-.94 2.06-2.06.94zm-11 1L8.5 8.5l.94-2.06 2.06-.94-2.06-.94L8.5 2.5l-.94 2.06-2.06.94zm10 10l.94 2.06.94-2.06 2.06-.94-2.06-.94-.94-2.06-.94 2.06-2.06.94z\"/><path d=\"M17.41 7.96l-1.37-1.37c-.4-.4-.92-.59-1.43-.59-.52 0-1.04.2-1.43.59L10.3 9.45l-7.72 7.72c-.78.78-.78 2.05 0 2.83L4 21.41c.39.39.9.59 1.41.59.51 0 1.02-.2 1.41-.59l7.78-7.78 2.81-2.81c.8-.78.8-2.07 0-2.86zM5.41 20L4 18.59l7.72-7.72 1.47 1.35L5.41 20z\"/>\n",
              "  </svg>\n",
              "      </button>\n",
              "      \n",
              "  <style>\n",
              "    .colab-df-container {\n",
              "      display:flex;\n",
              "      flex-wrap:wrap;\n",
              "      gap: 12px;\n",
              "    }\n",
              "\n",
              "    .colab-df-convert {\n",
              "      background-color: #E8F0FE;\n",
              "      border: none;\n",
              "      border-radius: 50%;\n",
              "      cursor: pointer;\n",
              "      display: none;\n",
              "      fill: #1967D2;\n",
              "      height: 32px;\n",
              "      padding: 0 0 0 0;\n",
              "      width: 32px;\n",
              "    }\n",
              "\n",
              "    .colab-df-convert:hover {\n",
              "      background-color: #E2EBFA;\n",
              "      box-shadow: 0px 1px 2px rgba(60, 64, 67, 0.3), 0px 1px 3px 1px rgba(60, 64, 67, 0.15);\n",
              "      fill: #174EA6;\n",
              "    }\n",
              "\n",
              "    [theme=dark] .colab-df-convert {\n",
              "      background-color: #3B4455;\n",
              "      fill: #D2E3FC;\n",
              "    }\n",
              "\n",
              "    [theme=dark] .colab-df-convert:hover {\n",
              "      background-color: #434B5C;\n",
              "      box-shadow: 0px 1px 3px 1px rgba(0, 0, 0, 0.15);\n",
              "      filter: drop-shadow(0px 1px 2px rgba(0, 0, 0, 0.3));\n",
              "      fill: #FFFFFF;\n",
              "    }\n",
              "  </style>\n",
              "\n",
              "      <script>\n",
              "        const buttonEl =\n",
              "          document.querySelector('#df-b39a9eb1-1818-4b49-b3c0-7f5d54bbf214 button.colab-df-convert');\n",
              "        buttonEl.style.display =\n",
              "          google.colab.kernel.accessAllowed ? 'block' : 'none';\n",
              "\n",
              "        async function convertToInteractive(key) {\n",
              "          const element = document.querySelector('#df-b39a9eb1-1818-4b49-b3c0-7f5d54bbf214');\n",
              "          const dataTable =\n",
              "            await google.colab.kernel.invokeFunction('convertToInteractive',\n",
              "                                                     [key], {});\n",
              "          if (!dataTable) return;\n",
              "\n",
              "          const docLinkHtml = 'Like what you see? Visit the ' +\n",
              "            '<a target=\"_blank\" href=https://colab.research.google.com/notebooks/data_table.ipynb>data table notebook</a>'\n",
              "            + ' to learn more about interactive tables.';\n",
              "          element.innerHTML = '';\n",
              "          dataTable['output_type'] = 'display_data';\n",
              "          await google.colab.output.renderOutput(dataTable, element);\n",
              "          const docLink = document.createElement('div');\n",
              "          docLink.innerHTML = docLinkHtml;\n",
              "          element.appendChild(docLink);\n",
              "        }\n",
              "      </script>\n",
              "    </div>\n",
              "  </div>\n",
              "  "
            ]
          },
          "metadata": {},
          "execution_count": 12
        }
      ]
    },
    {
      "cell_type": "markdown",
      "source": [
        "**Copying the data.**"
      ],
      "metadata": {
        "id": "wdR3bBWDHpei"
      }
    },
    {
      "cell_type": "code",
      "source": [
        "data = df.copy()"
      ],
      "metadata": {
        "id": "YawDwwtgGac5"
      },
      "execution_count": 13,
      "outputs": []
    },
    {
      "cell_type": "markdown",
      "source": [
        "Shape of the raw data: Number of data points(rows) and number of features(columns)."
      ],
      "metadata": {
        "id": "PLIYuKesIq22"
      }
    },
    {
      "cell_type": "code",
      "source": [
        "data.shape"
      ],
      "metadata": {
        "colab": {
          "base_uri": "https://localhost:8080/"
        },
        "id": "SBG_y2AoImDz",
        "outputId": "9ad8580e-4989-4925-c5b8-98eb86402237"
      },
      "execution_count": 14,
      "outputs": [
        {
          "output_type": "execute_result",
          "data": {
            "text/plain": [
              "(7003, 31)"
            ]
          },
          "metadata": {},
          "execution_count": 14
        }
      ]
    },
    {
      "cell_type": "markdown",
      "source": [
        "**Exploratory Data Analysis: Data information, Analysis, Visualization**"
      ],
      "metadata": {
        "id": "2SRwLzoxEQmJ"
      }
    },
    {
      "cell_type": "markdown",
      "source": [
        "Information about the data."
      ],
      "metadata": {
        "id": "iuKm0dmGHwtg"
      }
    },
    {
      "cell_type": "code",
      "source": [
        "data.info()"
      ],
      "metadata": {
        "colab": {
          "base_uri": "https://localhost:8080/"
        },
        "id": "CBOTpfeJl0wO",
        "outputId": "4791be7a-aa84-4a8d-8799-db9ddca21c01"
      },
      "execution_count": 15,
      "outputs": [
        {
          "output_type": "stream",
          "name": "stdout",
          "text": [
            "<class 'pandas.core.frame.DataFrame'>\n",
            "RangeIndex: 7003 entries, 0 to 7002\n",
            "Data columns (total 31 columns):\n",
            " #   Column         Non-Null Count  Dtype  \n",
            "---  ------         --------------  -----  \n",
            " 0   Tern           7003 non-null   float64\n",
            " 1   Thrush         7003 non-null   float64\n",
            " 2   Tick           7003 non-null   float64\n",
            " 3   Tiger          7003 non-null   object \n",
            " 4   Tiglon         3617 non-null   object \n",
            " 5   Toad           7003 non-null   object \n",
            " 6   Tortoise       7003 non-null   float64\n",
            " 7   Trout          7003 non-null   float64\n",
            " 8   Tuna           7003 non-null   float64\n",
            " 9   Turkey         7003 non-null   float64\n",
            " 10  Turtle         7003 non-null   float64\n",
            " 11  Tyrannosaurus  7003 non-null   float64\n",
            " 12  Urial          7003 non-null   object \n",
            " 13  Vicuna         0 non-null      float64\n",
            " 14  Viper          7003 non-null   float64\n",
            " 15  Vole           7003 non-null   float64\n",
            " 16  Vulture        7003 non-null   object \n",
            " 17  Wallaby        3471 non-null   float64\n",
            " 18  Walrus         7003 non-null   float64\n",
            " 19  Wasp           7003 non-null   float64\n",
            " 20  Warbler        7003 non-null   object \n",
            " 21  Weasel         7003 non-null   object \n",
            " 22  Whale          7003 non-null   float64\n",
            " 23  Whippet        7003 non-null   float64\n",
            " 24  Whitefish      7003 non-null   float64\n",
            " 25  Wildcat        7003 non-null   float64\n",
            " 26  Wildebeest     7003 non-null   float64\n",
            " 27  Wildfowl       7003 non-null   object \n",
            " 28  Wolf           7003 non-null   object \n",
            " 29  Wolverine      7003 non-null   object \n",
            " 30  target         7003 non-null   int64  \n",
            "dtypes: float64(20), int64(1), object(10)\n",
            "memory usage: 1.7+ MB\n"
          ]
        }
      ]
    },
    {
      "cell_type": "markdown",
      "source": [
        "**Percentage of Missing values**"
      ],
      "metadata": {
        "id": "klR3SJx6EEXD"
      }
    },
    {
      "cell_type": "code",
      "source": [
        "((data.isna().sum())/7003)*100"
      ],
      "metadata": {
        "colab": {
          "base_uri": "https://localhost:8080/"
        },
        "id": "11r36WF1l2TV",
        "outputId": "9d71b67f-8765-4808-fecc-8a1c406062a2"
      },
      "execution_count": 16,
      "outputs": [
        {
          "output_type": "execute_result",
          "data": {
            "text/plain": [
              "Tern               0.000000\n",
              "Thrush             0.000000\n",
              "Tick               0.000000\n",
              "Tiger              0.000000\n",
              "Tiglon            48.350707\n",
              "Toad               0.000000\n",
              "Tortoise           0.000000\n",
              "Trout              0.000000\n",
              "Tuna               0.000000\n",
              "Turkey             0.000000\n",
              "Turtle             0.000000\n",
              "Tyrannosaurus      0.000000\n",
              "Urial              0.000000\n",
              "Vicuna           100.000000\n",
              "Viper              0.000000\n",
              "Vole               0.000000\n",
              "Vulture            0.000000\n",
              "Wallaby           50.435528\n",
              "Walrus             0.000000\n",
              "Wasp               0.000000\n",
              "Warbler            0.000000\n",
              "Weasel             0.000000\n",
              "Whale              0.000000\n",
              "Whippet            0.000000\n",
              "Whitefish          0.000000\n",
              "Wildcat            0.000000\n",
              "Wildebeest         0.000000\n",
              "Wildfowl           0.000000\n",
              "Wolf               0.000000\n",
              "Wolverine          0.000000\n",
              "target             0.000000\n",
              "dtype: float64"
            ]
          },
          "metadata": {},
          "execution_count": 16
        }
      ]
    },
    {
      "cell_type": "markdown",
      "source": [
        "**Dropping the columns \"Tiglon and Vicuna, We see that Vicuna has 100% missing data and Tiglon has only info stating \"False\" rest data is unknown in Tiglon feature so removing them.**"
      ],
      "metadata": {
        "id": "WX_G-N-gEhO9"
      }
    },
    {
      "cell_type": "code",
      "source": [
        "data.drop(\"Vicuna\", axis = 1, inplace = True)\n",
        "data.drop(\"Tiglon\", axis = 1, inplace = True)"
      ],
      "metadata": {
        "id": "iPjx9-Tpl9yD"
      },
      "execution_count": 17,
      "outputs": []
    },
    {
      "cell_type": "code",
      "source": [
        "data"
      ],
      "metadata": {
        "colab": {
          "base_uri": "https://localhost:8080/",
          "height": 487
        },
        "id": "2qQ2ZIbXnTUi",
        "outputId": "aedd775a-9e47-4ac3-9927-1677d33634bd"
      },
      "execution_count": 18,
      "outputs": [
        {
          "output_type": "execute_result",
          "data": {
            "text/plain": [
              "               Tern     Thrush      Tick Tiger Toad   Tortoise       Trout  \\\n",
              "0    -253077.772390 -49.659246 -0.679765     s    l -12.055165 -463.332642   \n",
              "1     380192.123132 -49.659246 -1.356456     s    l -30.235998 -388.822813   \n",
              "2    -218627.876963 -49.659246 -0.542194     s    l -10.443575 -519.014942   \n",
              "3    -178076.879466 -49.659246 -0.485974     s    l  -8.374563 -504.614247   \n",
              "4    -169250.190006 -49.659246 -0.600561     s    l -10.269902 -455.225099   \n",
              "...             ...        ...       ...   ...  ...        ...         ...   \n",
              "6998 -246840.700218 -49.659246 -1.180932     s    l -25.887398 -397.556639   \n",
              "6999  -32731.429095 -49.659246 -0.355033     s    l  -6.157721 -504.683096   \n",
              "7000  -73991.670435 -49.659246 -0.868682     s    l -16.315083 -463.735452   \n",
              "7001 -278624.327833 -16.772943 -0.675340     s    u -11.704156 -472.480093   \n",
              "7002  332644.018190 -49.659246 -1.349087     s    l -28.280392 -364.077479   \n",
              "\n",
              "              Tuna        Turkey        Turtle  ...  Weasel         Whale  \\\n",
              "0    -41860.419322  3.256739e+05 -4.542838e+11  ...       a -3.297065e+06   \n",
              "1    -94810.029959  1.154421e+03 -3.356728e+12  ...       b -1.043690e+06   \n",
              "2    -46075.931683  2.248867e+06 -1.671217e+11  ...       a  4.892868e+06   \n",
              "3    -73554.391505  1.452062e+07 -1.832696e+14  ...       a  2.814345e+07   \n",
              "4    -41390.990681  2.689196e+05 -5.327237e+17  ...       a -1.801627e+05   \n",
              "...            ...           ...           ...  ...     ...           ...   \n",
              "6998 -93903.183437  7.822274e+04 -1.671217e+11  ...       b  4.398786e+05   \n",
              "6999 -86026.110161  3.389865e+06 -4.542838e+11  ...       a  1.224437e+07   \n",
              "7000 -96302.545530  9.704820e+04 -2.716614e+16  ...       a  2.453862e+06   \n",
              "7001 -41097.931591  9.764238e+05 -1.384571e+18  ...       a -6.285754e+06   \n",
              "7002 -82717.822374  7.286965e+04 -5.327237e+17  ...       b  5.038175e+05   \n",
              "\n",
              "       Whippet     Whitefish      Wildcat  Wildebeest  Wildfowl  Wolf  \\\n",
              "0    -0.974495 -3.536578e+07  -395.159010    0.021952         b    k1   \n",
              "1    -1.342061 -3.536549e+07   609.332121    0.269383         b    m1   \n",
              "2    -1.335934 -3.536456e+07  1175.536902    0.341417         b    s2   \n",
              "3    -1.073553 -3.536497e+07  -359.320759    0.003191         m    k1   \n",
              "4    -1.341853 -3.536321e+07  -346.856580   -0.250332         b    j1   \n",
              "...        ...           ...          ...         ...       ...   ...   \n",
              "6998 -1.342072 -3.536359e+07   159.699665   -0.294403         b    r2   \n",
              "6999 -1.342072 -3.536138e+07   163.732671   -0.379221         b    s1   \n",
              "7000 -1.305983 -3.536540e+07  -172.033458    0.150357         b    e2   \n",
              "7001 -1.342015 -3.536361e+07   -67.920425   -0.030202         b    r2   \n",
              "7002 -1.315773 -3.536487e+07    11.781581    0.234827         b    z2   \n",
              "\n",
              "     Wolverine target  \n",
              "0            m      1  \n",
              "1            x      0  \n",
              "2            r      0  \n",
              "3            w      0  \n",
              "4            s      0  \n",
              "...        ...    ...  \n",
              "6998         x      0  \n",
              "6999         z      0  \n",
              "7000         m      0  \n",
              "7001         h      0  \n",
              "7002         x      0  \n",
              "\n",
              "[7003 rows x 29 columns]"
            ],
            "text/html": [
              "\n",
              "  <div id=\"df-4fa08c5a-c469-4a80-93f6-62203454d6a0\">\n",
              "    <div class=\"colab-df-container\">\n",
              "      <div>\n",
              "<style scoped>\n",
              "    .dataframe tbody tr th:only-of-type {\n",
              "        vertical-align: middle;\n",
              "    }\n",
              "\n",
              "    .dataframe tbody tr th {\n",
              "        vertical-align: top;\n",
              "    }\n",
              "\n",
              "    .dataframe thead th {\n",
              "        text-align: right;\n",
              "    }\n",
              "</style>\n",
              "<table border=\"1\" class=\"dataframe\">\n",
              "  <thead>\n",
              "    <tr style=\"text-align: right;\">\n",
              "      <th></th>\n",
              "      <th>Tern</th>\n",
              "      <th>Thrush</th>\n",
              "      <th>Tick</th>\n",
              "      <th>Tiger</th>\n",
              "      <th>Toad</th>\n",
              "      <th>Tortoise</th>\n",
              "      <th>Trout</th>\n",
              "      <th>Tuna</th>\n",
              "      <th>Turkey</th>\n",
              "      <th>Turtle</th>\n",
              "      <th>...</th>\n",
              "      <th>Weasel</th>\n",
              "      <th>Whale</th>\n",
              "      <th>Whippet</th>\n",
              "      <th>Whitefish</th>\n",
              "      <th>Wildcat</th>\n",
              "      <th>Wildebeest</th>\n",
              "      <th>Wildfowl</th>\n",
              "      <th>Wolf</th>\n",
              "      <th>Wolverine</th>\n",
              "      <th>target</th>\n",
              "    </tr>\n",
              "  </thead>\n",
              "  <tbody>\n",
              "    <tr>\n",
              "      <th>0</th>\n",
              "      <td>-253077.772390</td>\n",
              "      <td>-49.659246</td>\n",
              "      <td>-0.679765</td>\n",
              "      <td>s</td>\n",
              "      <td>l</td>\n",
              "      <td>-12.055165</td>\n",
              "      <td>-463.332642</td>\n",
              "      <td>-41860.419322</td>\n",
              "      <td>3.256739e+05</td>\n",
              "      <td>-4.542838e+11</td>\n",
              "      <td>...</td>\n",
              "      <td>a</td>\n",
              "      <td>-3.297065e+06</td>\n",
              "      <td>-0.974495</td>\n",
              "      <td>-3.536578e+07</td>\n",
              "      <td>-395.159010</td>\n",
              "      <td>0.021952</td>\n",
              "      <td>b</td>\n",
              "      <td>k1</td>\n",
              "      <td>m</td>\n",
              "      <td>1</td>\n",
              "    </tr>\n",
              "    <tr>\n",
              "      <th>1</th>\n",
              "      <td>380192.123132</td>\n",
              "      <td>-49.659246</td>\n",
              "      <td>-1.356456</td>\n",
              "      <td>s</td>\n",
              "      <td>l</td>\n",
              "      <td>-30.235998</td>\n",
              "      <td>-388.822813</td>\n",
              "      <td>-94810.029959</td>\n",
              "      <td>1.154421e+03</td>\n",
              "      <td>-3.356728e+12</td>\n",
              "      <td>...</td>\n",
              "      <td>b</td>\n",
              "      <td>-1.043690e+06</td>\n",
              "      <td>-1.342061</td>\n",
              "      <td>-3.536549e+07</td>\n",
              "      <td>609.332121</td>\n",
              "      <td>0.269383</td>\n",
              "      <td>b</td>\n",
              "      <td>m1</td>\n",
              "      <td>x</td>\n",
              "      <td>0</td>\n",
              "    </tr>\n",
              "    <tr>\n",
              "      <th>2</th>\n",
              "      <td>-218627.876963</td>\n",
              "      <td>-49.659246</td>\n",
              "      <td>-0.542194</td>\n",
              "      <td>s</td>\n",
              "      <td>l</td>\n",
              "      <td>-10.443575</td>\n",
              "      <td>-519.014942</td>\n",
              "      <td>-46075.931683</td>\n",
              "      <td>2.248867e+06</td>\n",
              "      <td>-1.671217e+11</td>\n",
              "      <td>...</td>\n",
              "      <td>a</td>\n",
              "      <td>4.892868e+06</td>\n",
              "      <td>-1.335934</td>\n",
              "      <td>-3.536456e+07</td>\n",
              "      <td>1175.536902</td>\n",
              "      <td>0.341417</td>\n",
              "      <td>b</td>\n",
              "      <td>s2</td>\n",
              "      <td>r</td>\n",
              "      <td>0</td>\n",
              "    </tr>\n",
              "    <tr>\n",
              "      <th>3</th>\n",
              "      <td>-178076.879466</td>\n",
              "      <td>-49.659246</td>\n",
              "      <td>-0.485974</td>\n",
              "      <td>s</td>\n",
              "      <td>l</td>\n",
              "      <td>-8.374563</td>\n",
              "      <td>-504.614247</td>\n",
              "      <td>-73554.391505</td>\n",
              "      <td>1.452062e+07</td>\n",
              "      <td>-1.832696e+14</td>\n",
              "      <td>...</td>\n",
              "      <td>a</td>\n",
              "      <td>2.814345e+07</td>\n",
              "      <td>-1.073553</td>\n",
              "      <td>-3.536497e+07</td>\n",
              "      <td>-359.320759</td>\n",
              "      <td>0.003191</td>\n",
              "      <td>m</td>\n",
              "      <td>k1</td>\n",
              "      <td>w</td>\n",
              "      <td>0</td>\n",
              "    </tr>\n",
              "    <tr>\n",
              "      <th>4</th>\n",
              "      <td>-169250.190006</td>\n",
              "      <td>-49.659246</td>\n",
              "      <td>-0.600561</td>\n",
              "      <td>s</td>\n",
              "      <td>l</td>\n",
              "      <td>-10.269902</td>\n",
              "      <td>-455.225099</td>\n",
              "      <td>-41390.990681</td>\n",
              "      <td>2.689196e+05</td>\n",
              "      <td>-5.327237e+17</td>\n",
              "      <td>...</td>\n",
              "      <td>a</td>\n",
              "      <td>-1.801627e+05</td>\n",
              "      <td>-1.341853</td>\n",
              "      <td>-3.536321e+07</td>\n",
              "      <td>-346.856580</td>\n",
              "      <td>-0.250332</td>\n",
              "      <td>b</td>\n",
              "      <td>j1</td>\n",
              "      <td>s</td>\n",
              "      <td>0</td>\n",
              "    </tr>\n",
              "    <tr>\n",
              "      <th>...</th>\n",
              "      <td>...</td>\n",
              "      <td>...</td>\n",
              "      <td>...</td>\n",
              "      <td>...</td>\n",
              "      <td>...</td>\n",
              "      <td>...</td>\n",
              "      <td>...</td>\n",
              "      <td>...</td>\n",
              "      <td>...</td>\n",
              "      <td>...</td>\n",
              "      <td>...</td>\n",
              "      <td>...</td>\n",
              "      <td>...</td>\n",
              "      <td>...</td>\n",
              "      <td>...</td>\n",
              "      <td>...</td>\n",
              "      <td>...</td>\n",
              "      <td>...</td>\n",
              "      <td>...</td>\n",
              "      <td>...</td>\n",
              "      <td>...</td>\n",
              "    </tr>\n",
              "    <tr>\n",
              "      <th>6998</th>\n",
              "      <td>-246840.700218</td>\n",
              "      <td>-49.659246</td>\n",
              "      <td>-1.180932</td>\n",
              "      <td>s</td>\n",
              "      <td>l</td>\n",
              "      <td>-25.887398</td>\n",
              "      <td>-397.556639</td>\n",
              "      <td>-93903.183437</td>\n",
              "      <td>7.822274e+04</td>\n",
              "      <td>-1.671217e+11</td>\n",
              "      <td>...</td>\n",
              "      <td>b</td>\n",
              "      <td>4.398786e+05</td>\n",
              "      <td>-1.342072</td>\n",
              "      <td>-3.536359e+07</td>\n",
              "      <td>159.699665</td>\n",
              "      <td>-0.294403</td>\n",
              "      <td>b</td>\n",
              "      <td>r2</td>\n",
              "      <td>x</td>\n",
              "      <td>0</td>\n",
              "    </tr>\n",
              "    <tr>\n",
              "      <th>6999</th>\n",
              "      <td>-32731.429095</td>\n",
              "      <td>-49.659246</td>\n",
              "      <td>-0.355033</td>\n",
              "      <td>s</td>\n",
              "      <td>l</td>\n",
              "      <td>-6.157721</td>\n",
              "      <td>-504.683096</td>\n",
              "      <td>-86026.110161</td>\n",
              "      <td>3.389865e+06</td>\n",
              "      <td>-4.542838e+11</td>\n",
              "      <td>...</td>\n",
              "      <td>a</td>\n",
              "      <td>1.224437e+07</td>\n",
              "      <td>-1.342072</td>\n",
              "      <td>-3.536138e+07</td>\n",
              "      <td>163.732671</td>\n",
              "      <td>-0.379221</td>\n",
              "      <td>b</td>\n",
              "      <td>s1</td>\n",
              "      <td>z</td>\n",
              "      <td>0</td>\n",
              "    </tr>\n",
              "    <tr>\n",
              "      <th>7000</th>\n",
              "      <td>-73991.670435</td>\n",
              "      <td>-49.659246</td>\n",
              "      <td>-0.868682</td>\n",
              "      <td>s</td>\n",
              "      <td>l</td>\n",
              "      <td>-16.315083</td>\n",
              "      <td>-463.735452</td>\n",
              "      <td>-96302.545530</td>\n",
              "      <td>9.704820e+04</td>\n",
              "      <td>-2.716614e+16</td>\n",
              "      <td>...</td>\n",
              "      <td>a</td>\n",
              "      <td>2.453862e+06</td>\n",
              "      <td>-1.305983</td>\n",
              "      <td>-3.536540e+07</td>\n",
              "      <td>-172.033458</td>\n",
              "      <td>0.150357</td>\n",
              "      <td>b</td>\n",
              "      <td>e2</td>\n",
              "      <td>m</td>\n",
              "      <td>0</td>\n",
              "    </tr>\n",
              "    <tr>\n",
              "      <th>7001</th>\n",
              "      <td>-278624.327833</td>\n",
              "      <td>-16.772943</td>\n",
              "      <td>-0.675340</td>\n",
              "      <td>s</td>\n",
              "      <td>u</td>\n",
              "      <td>-11.704156</td>\n",
              "      <td>-472.480093</td>\n",
              "      <td>-41097.931591</td>\n",
              "      <td>9.764238e+05</td>\n",
              "      <td>-1.384571e+18</td>\n",
              "      <td>...</td>\n",
              "      <td>a</td>\n",
              "      <td>-6.285754e+06</td>\n",
              "      <td>-1.342015</td>\n",
              "      <td>-3.536361e+07</td>\n",
              "      <td>-67.920425</td>\n",
              "      <td>-0.030202</td>\n",
              "      <td>b</td>\n",
              "      <td>r2</td>\n",
              "      <td>h</td>\n",
              "      <td>0</td>\n",
              "    </tr>\n",
              "    <tr>\n",
              "      <th>7002</th>\n",
              "      <td>332644.018190</td>\n",
              "      <td>-49.659246</td>\n",
              "      <td>-1.349087</td>\n",
              "      <td>s</td>\n",
              "      <td>l</td>\n",
              "      <td>-28.280392</td>\n",
              "      <td>-364.077479</td>\n",
              "      <td>-82717.822374</td>\n",
              "      <td>7.286965e+04</td>\n",
              "      <td>-5.327237e+17</td>\n",
              "      <td>...</td>\n",
              "      <td>b</td>\n",
              "      <td>5.038175e+05</td>\n",
              "      <td>-1.315773</td>\n",
              "      <td>-3.536487e+07</td>\n",
              "      <td>11.781581</td>\n",
              "      <td>0.234827</td>\n",
              "      <td>b</td>\n",
              "      <td>z2</td>\n",
              "      <td>x</td>\n",
              "      <td>0</td>\n",
              "    </tr>\n",
              "  </tbody>\n",
              "</table>\n",
              "<p>7003 rows × 29 columns</p>\n",
              "</div>\n",
              "      <button class=\"colab-df-convert\" onclick=\"convertToInteractive('df-4fa08c5a-c469-4a80-93f6-62203454d6a0')\"\n",
              "              title=\"Convert this dataframe to an interactive table.\"\n",
              "              style=\"display:none;\">\n",
              "        \n",
              "  <svg xmlns=\"http://www.w3.org/2000/svg\" height=\"24px\"viewBox=\"0 0 24 24\"\n",
              "       width=\"24px\">\n",
              "    <path d=\"M0 0h24v24H0V0z\" fill=\"none\"/>\n",
              "    <path d=\"M18.56 5.44l.94 2.06.94-2.06 2.06-.94-2.06-.94-.94-2.06-.94 2.06-2.06.94zm-11 1L8.5 8.5l.94-2.06 2.06-.94-2.06-.94L8.5 2.5l-.94 2.06-2.06.94zm10 10l.94 2.06.94-2.06 2.06-.94-2.06-.94-.94-2.06-.94 2.06-2.06.94z\"/><path d=\"M17.41 7.96l-1.37-1.37c-.4-.4-.92-.59-1.43-.59-.52 0-1.04.2-1.43.59L10.3 9.45l-7.72 7.72c-.78.78-.78 2.05 0 2.83L4 21.41c.39.39.9.59 1.41.59.51 0 1.02-.2 1.41-.59l7.78-7.78 2.81-2.81c.8-.78.8-2.07 0-2.86zM5.41 20L4 18.59l7.72-7.72 1.47 1.35L5.41 20z\"/>\n",
              "  </svg>\n",
              "      </button>\n",
              "      \n",
              "  <style>\n",
              "    .colab-df-container {\n",
              "      display:flex;\n",
              "      flex-wrap:wrap;\n",
              "      gap: 12px;\n",
              "    }\n",
              "\n",
              "    .colab-df-convert {\n",
              "      background-color: #E8F0FE;\n",
              "      border: none;\n",
              "      border-radius: 50%;\n",
              "      cursor: pointer;\n",
              "      display: none;\n",
              "      fill: #1967D2;\n",
              "      height: 32px;\n",
              "      padding: 0 0 0 0;\n",
              "      width: 32px;\n",
              "    }\n",
              "\n",
              "    .colab-df-convert:hover {\n",
              "      background-color: #E2EBFA;\n",
              "      box-shadow: 0px 1px 2px rgba(60, 64, 67, 0.3), 0px 1px 3px 1px rgba(60, 64, 67, 0.15);\n",
              "      fill: #174EA6;\n",
              "    }\n",
              "\n",
              "    [theme=dark] .colab-df-convert {\n",
              "      background-color: #3B4455;\n",
              "      fill: #D2E3FC;\n",
              "    }\n",
              "\n",
              "    [theme=dark] .colab-df-convert:hover {\n",
              "      background-color: #434B5C;\n",
              "      box-shadow: 0px 1px 3px 1px rgba(0, 0, 0, 0.15);\n",
              "      filter: drop-shadow(0px 1px 2px rgba(0, 0, 0, 0.3));\n",
              "      fill: #FFFFFF;\n",
              "    }\n",
              "  </style>\n",
              "\n",
              "      <script>\n",
              "        const buttonEl =\n",
              "          document.querySelector('#df-4fa08c5a-c469-4a80-93f6-62203454d6a0 button.colab-df-convert');\n",
              "        buttonEl.style.display =\n",
              "          google.colab.kernel.accessAllowed ? 'block' : 'none';\n",
              "\n",
              "        async function convertToInteractive(key) {\n",
              "          const element = document.querySelector('#df-4fa08c5a-c469-4a80-93f6-62203454d6a0');\n",
              "          const dataTable =\n",
              "            await google.colab.kernel.invokeFunction('convertToInteractive',\n",
              "                                                     [key], {});\n",
              "          if (!dataTable) return;\n",
              "\n",
              "          const docLinkHtml = 'Like what you see? Visit the ' +\n",
              "            '<a target=\"_blank\" href=https://colab.research.google.com/notebooks/data_table.ipynb>data table notebook</a>'\n",
              "            + ' to learn more about interactive tables.';\n",
              "          element.innerHTML = '';\n",
              "          dataTable['output_type'] = 'display_data';\n",
              "          await google.colab.output.renderOutput(dataTable, element);\n",
              "          const docLink = document.createElement('div');\n",
              "          docLink.innerHTML = docLinkHtml;\n",
              "          element.appendChild(docLink);\n",
              "        }\n",
              "      </script>\n",
              "    </div>\n",
              "  </div>\n",
              "  "
            ]
          },
          "metadata": {},
          "execution_count": 18
        }
      ]
    },
    {
      "cell_type": "code",
      "source": [
        "data.head()"
      ],
      "metadata": {
        "colab": {
          "base_uri": "https://localhost:8080/",
          "height": 299
        },
        "id": "Q3_jDqmcny99",
        "outputId": "b7239dc4-539b-460d-ca1b-016b7a8a1bb3"
      },
      "execution_count": 19,
      "outputs": [
        {
          "output_type": "execute_result",
          "data": {
            "text/plain": [
              "            Tern     Thrush      Tick Tiger Toad   Tortoise       Trout  \\\n",
              "0 -253077.772390 -49.659246 -0.679765     s    l -12.055165 -463.332642   \n",
              "1  380192.123132 -49.659246 -1.356456     s    l -30.235998 -388.822813   \n",
              "2 -218627.876963 -49.659246 -0.542194     s    l -10.443575 -519.014942   \n",
              "3 -178076.879466 -49.659246 -0.485974     s    l  -8.374563 -504.614247   \n",
              "4 -169250.190006 -49.659246 -0.600561     s    l -10.269902 -455.225099   \n",
              "\n",
              "           Tuna        Turkey        Turtle  ...  Weasel         Whale  \\\n",
              "0 -41860.419322  3.256739e+05 -4.542838e+11  ...       a -3.297065e+06   \n",
              "1 -94810.029959  1.154421e+03 -3.356728e+12  ...       b -1.043690e+06   \n",
              "2 -46075.931683  2.248867e+06 -1.671217e+11  ...       a  4.892868e+06   \n",
              "3 -73554.391505  1.452062e+07 -1.832696e+14  ...       a  2.814345e+07   \n",
              "4 -41390.990681  2.689196e+05 -5.327237e+17  ...       a -1.801627e+05   \n",
              "\n",
              "    Whippet     Whitefish      Wildcat  Wildebeest  Wildfowl  Wolf Wolverine  \\\n",
              "0 -0.974495 -3.536578e+07  -395.159010    0.021952         b    k1         m   \n",
              "1 -1.342061 -3.536549e+07   609.332121    0.269383         b    m1         x   \n",
              "2 -1.335934 -3.536456e+07  1175.536902    0.341417         b    s2         r   \n",
              "3 -1.073553 -3.536497e+07  -359.320759    0.003191         m    k1         w   \n",
              "4 -1.341853 -3.536321e+07  -346.856580   -0.250332         b    j1         s   \n",
              "\n",
              "  target  \n",
              "0      1  \n",
              "1      0  \n",
              "2      0  \n",
              "3      0  \n",
              "4      0  \n",
              "\n",
              "[5 rows x 29 columns]"
            ],
            "text/html": [
              "\n",
              "  <div id=\"df-a44b59c1-e900-4ed8-ae08-6ba64ccccf54\">\n",
              "    <div class=\"colab-df-container\">\n",
              "      <div>\n",
              "<style scoped>\n",
              "    .dataframe tbody tr th:only-of-type {\n",
              "        vertical-align: middle;\n",
              "    }\n",
              "\n",
              "    .dataframe tbody tr th {\n",
              "        vertical-align: top;\n",
              "    }\n",
              "\n",
              "    .dataframe thead th {\n",
              "        text-align: right;\n",
              "    }\n",
              "</style>\n",
              "<table border=\"1\" class=\"dataframe\">\n",
              "  <thead>\n",
              "    <tr style=\"text-align: right;\">\n",
              "      <th></th>\n",
              "      <th>Tern</th>\n",
              "      <th>Thrush</th>\n",
              "      <th>Tick</th>\n",
              "      <th>Tiger</th>\n",
              "      <th>Toad</th>\n",
              "      <th>Tortoise</th>\n",
              "      <th>Trout</th>\n",
              "      <th>Tuna</th>\n",
              "      <th>Turkey</th>\n",
              "      <th>Turtle</th>\n",
              "      <th>...</th>\n",
              "      <th>Weasel</th>\n",
              "      <th>Whale</th>\n",
              "      <th>Whippet</th>\n",
              "      <th>Whitefish</th>\n",
              "      <th>Wildcat</th>\n",
              "      <th>Wildebeest</th>\n",
              "      <th>Wildfowl</th>\n",
              "      <th>Wolf</th>\n",
              "      <th>Wolverine</th>\n",
              "      <th>target</th>\n",
              "    </tr>\n",
              "  </thead>\n",
              "  <tbody>\n",
              "    <tr>\n",
              "      <th>0</th>\n",
              "      <td>-253077.772390</td>\n",
              "      <td>-49.659246</td>\n",
              "      <td>-0.679765</td>\n",
              "      <td>s</td>\n",
              "      <td>l</td>\n",
              "      <td>-12.055165</td>\n",
              "      <td>-463.332642</td>\n",
              "      <td>-41860.419322</td>\n",
              "      <td>3.256739e+05</td>\n",
              "      <td>-4.542838e+11</td>\n",
              "      <td>...</td>\n",
              "      <td>a</td>\n",
              "      <td>-3.297065e+06</td>\n",
              "      <td>-0.974495</td>\n",
              "      <td>-3.536578e+07</td>\n",
              "      <td>-395.159010</td>\n",
              "      <td>0.021952</td>\n",
              "      <td>b</td>\n",
              "      <td>k1</td>\n",
              "      <td>m</td>\n",
              "      <td>1</td>\n",
              "    </tr>\n",
              "    <tr>\n",
              "      <th>1</th>\n",
              "      <td>380192.123132</td>\n",
              "      <td>-49.659246</td>\n",
              "      <td>-1.356456</td>\n",
              "      <td>s</td>\n",
              "      <td>l</td>\n",
              "      <td>-30.235998</td>\n",
              "      <td>-388.822813</td>\n",
              "      <td>-94810.029959</td>\n",
              "      <td>1.154421e+03</td>\n",
              "      <td>-3.356728e+12</td>\n",
              "      <td>...</td>\n",
              "      <td>b</td>\n",
              "      <td>-1.043690e+06</td>\n",
              "      <td>-1.342061</td>\n",
              "      <td>-3.536549e+07</td>\n",
              "      <td>609.332121</td>\n",
              "      <td>0.269383</td>\n",
              "      <td>b</td>\n",
              "      <td>m1</td>\n",
              "      <td>x</td>\n",
              "      <td>0</td>\n",
              "    </tr>\n",
              "    <tr>\n",
              "      <th>2</th>\n",
              "      <td>-218627.876963</td>\n",
              "      <td>-49.659246</td>\n",
              "      <td>-0.542194</td>\n",
              "      <td>s</td>\n",
              "      <td>l</td>\n",
              "      <td>-10.443575</td>\n",
              "      <td>-519.014942</td>\n",
              "      <td>-46075.931683</td>\n",
              "      <td>2.248867e+06</td>\n",
              "      <td>-1.671217e+11</td>\n",
              "      <td>...</td>\n",
              "      <td>a</td>\n",
              "      <td>4.892868e+06</td>\n",
              "      <td>-1.335934</td>\n",
              "      <td>-3.536456e+07</td>\n",
              "      <td>1175.536902</td>\n",
              "      <td>0.341417</td>\n",
              "      <td>b</td>\n",
              "      <td>s2</td>\n",
              "      <td>r</td>\n",
              "      <td>0</td>\n",
              "    </tr>\n",
              "    <tr>\n",
              "      <th>3</th>\n",
              "      <td>-178076.879466</td>\n",
              "      <td>-49.659246</td>\n",
              "      <td>-0.485974</td>\n",
              "      <td>s</td>\n",
              "      <td>l</td>\n",
              "      <td>-8.374563</td>\n",
              "      <td>-504.614247</td>\n",
              "      <td>-73554.391505</td>\n",
              "      <td>1.452062e+07</td>\n",
              "      <td>-1.832696e+14</td>\n",
              "      <td>...</td>\n",
              "      <td>a</td>\n",
              "      <td>2.814345e+07</td>\n",
              "      <td>-1.073553</td>\n",
              "      <td>-3.536497e+07</td>\n",
              "      <td>-359.320759</td>\n",
              "      <td>0.003191</td>\n",
              "      <td>m</td>\n",
              "      <td>k1</td>\n",
              "      <td>w</td>\n",
              "      <td>0</td>\n",
              "    </tr>\n",
              "    <tr>\n",
              "      <th>4</th>\n",
              "      <td>-169250.190006</td>\n",
              "      <td>-49.659246</td>\n",
              "      <td>-0.600561</td>\n",
              "      <td>s</td>\n",
              "      <td>l</td>\n",
              "      <td>-10.269902</td>\n",
              "      <td>-455.225099</td>\n",
              "      <td>-41390.990681</td>\n",
              "      <td>2.689196e+05</td>\n",
              "      <td>-5.327237e+17</td>\n",
              "      <td>...</td>\n",
              "      <td>a</td>\n",
              "      <td>-1.801627e+05</td>\n",
              "      <td>-1.341853</td>\n",
              "      <td>-3.536321e+07</td>\n",
              "      <td>-346.856580</td>\n",
              "      <td>-0.250332</td>\n",
              "      <td>b</td>\n",
              "      <td>j1</td>\n",
              "      <td>s</td>\n",
              "      <td>0</td>\n",
              "    </tr>\n",
              "  </tbody>\n",
              "</table>\n",
              "<p>5 rows × 29 columns</p>\n",
              "</div>\n",
              "      <button class=\"colab-df-convert\" onclick=\"convertToInteractive('df-a44b59c1-e900-4ed8-ae08-6ba64ccccf54')\"\n",
              "              title=\"Convert this dataframe to an interactive table.\"\n",
              "              style=\"display:none;\">\n",
              "        \n",
              "  <svg xmlns=\"http://www.w3.org/2000/svg\" height=\"24px\"viewBox=\"0 0 24 24\"\n",
              "       width=\"24px\">\n",
              "    <path d=\"M0 0h24v24H0V0z\" fill=\"none\"/>\n",
              "    <path d=\"M18.56 5.44l.94 2.06.94-2.06 2.06-.94-2.06-.94-.94-2.06-.94 2.06-2.06.94zm-11 1L8.5 8.5l.94-2.06 2.06-.94-2.06-.94L8.5 2.5l-.94 2.06-2.06.94zm10 10l.94 2.06.94-2.06 2.06-.94-2.06-.94-.94-2.06-.94 2.06-2.06.94z\"/><path d=\"M17.41 7.96l-1.37-1.37c-.4-.4-.92-.59-1.43-.59-.52 0-1.04.2-1.43.59L10.3 9.45l-7.72 7.72c-.78.78-.78 2.05 0 2.83L4 21.41c.39.39.9.59 1.41.59.51 0 1.02-.2 1.41-.59l7.78-7.78 2.81-2.81c.8-.78.8-2.07 0-2.86zM5.41 20L4 18.59l7.72-7.72 1.47 1.35L5.41 20z\"/>\n",
              "  </svg>\n",
              "      </button>\n",
              "      \n",
              "  <style>\n",
              "    .colab-df-container {\n",
              "      display:flex;\n",
              "      flex-wrap:wrap;\n",
              "      gap: 12px;\n",
              "    }\n",
              "\n",
              "    .colab-df-convert {\n",
              "      background-color: #E8F0FE;\n",
              "      border: none;\n",
              "      border-radius: 50%;\n",
              "      cursor: pointer;\n",
              "      display: none;\n",
              "      fill: #1967D2;\n",
              "      height: 32px;\n",
              "      padding: 0 0 0 0;\n",
              "      width: 32px;\n",
              "    }\n",
              "\n",
              "    .colab-df-convert:hover {\n",
              "      background-color: #E2EBFA;\n",
              "      box-shadow: 0px 1px 2px rgba(60, 64, 67, 0.3), 0px 1px 3px 1px rgba(60, 64, 67, 0.15);\n",
              "      fill: #174EA6;\n",
              "    }\n",
              "\n",
              "    [theme=dark] .colab-df-convert {\n",
              "      background-color: #3B4455;\n",
              "      fill: #D2E3FC;\n",
              "    }\n",
              "\n",
              "    [theme=dark] .colab-df-convert:hover {\n",
              "      background-color: #434B5C;\n",
              "      box-shadow: 0px 1px 3px 1px rgba(0, 0, 0, 0.15);\n",
              "      filter: drop-shadow(0px 1px 2px rgba(0, 0, 0, 0.3));\n",
              "      fill: #FFFFFF;\n",
              "    }\n",
              "  </style>\n",
              "\n",
              "      <script>\n",
              "        const buttonEl =\n",
              "          document.querySelector('#df-a44b59c1-e900-4ed8-ae08-6ba64ccccf54 button.colab-df-convert');\n",
              "        buttonEl.style.display =\n",
              "          google.colab.kernel.accessAllowed ? 'block' : 'none';\n",
              "\n",
              "        async function convertToInteractive(key) {\n",
              "          const element = document.querySelector('#df-a44b59c1-e900-4ed8-ae08-6ba64ccccf54');\n",
              "          const dataTable =\n",
              "            await google.colab.kernel.invokeFunction('convertToInteractive',\n",
              "                                                     [key], {});\n",
              "          if (!dataTable) return;\n",
              "\n",
              "          const docLinkHtml = 'Like what you see? Visit the ' +\n",
              "            '<a target=\"_blank\" href=https://colab.research.google.com/notebooks/data_table.ipynb>data table notebook</a>'\n",
              "            + ' to learn more about interactive tables.';\n",
              "          element.innerHTML = '';\n",
              "          dataTable['output_type'] = 'display_data';\n",
              "          await google.colab.output.renderOutput(dataTable, element);\n",
              "          const docLink = document.createElement('div');\n",
              "          docLink.innerHTML = docLinkHtml;\n",
              "          element.appendChild(docLink);\n",
              "        }\n",
              "      </script>\n",
              "    </div>\n",
              "  </div>\n",
              "  "
            ]
          },
          "metadata": {},
          "execution_count": 19
        }
      ]
    },
    {
      "cell_type": "code",
      "source": [
        "data['Wallaby'].head(25)"
      ],
      "metadata": {
        "colab": {
          "base_uri": "https://localhost:8080/"
        },
        "id": "b8vv-5JAn0Pj",
        "outputId": "6f707f3d-34d7-4fe4-876e-33255a8445b0"
      },
      "execution_count": 20,
      "outputs": [
        {
          "output_type": "execute_result",
          "data": {
            "text/plain": [
              "0    -1.800251e+07\n",
              "1              NaN\n",
              "2              NaN\n",
              "3              NaN\n",
              "4              NaN\n",
              "5    -1.490572e+07\n",
              "6    -5.157540e+06\n",
              "7    -1.870867e+07\n",
              "8              NaN\n",
              "9              NaN\n",
              "10             NaN\n",
              "11   -3.864473e+06\n",
              "12             NaN\n",
              "13   -8.896752e+06\n",
              "14   -2.522648e+06\n",
              "15             NaN\n",
              "16             NaN\n",
              "17             NaN\n",
              "18             NaN\n",
              "19   -1.902100e+07\n",
              "20   -1.998151e+07\n",
              "21             NaN\n",
              "22             NaN\n",
              "23   -9.576012e+06\n",
              "24   -1.540415e+07\n",
              "Name: Wallaby, dtype: float64"
            ]
          },
          "metadata": {},
          "execution_count": 20
        }
      ]
    },
    {
      "cell_type": "markdown",
      "source": [
        "Statistical information of numerical features."
      ],
      "metadata": {
        "id": "adeABR-KJWmu"
      }
    },
    {
      "cell_type": "code",
      "source": [
        "data.describe().T"
      ],
      "metadata": {
        "colab": {
          "base_uri": "https://localhost:8080/",
          "height": 676
        },
        "id": "9Q7F3JUncg_g",
        "outputId": "50f187a7-d0cf-4903-d2f2-98d7b76b4184"
      },
      "execution_count": 21,
      "outputs": [
        {
          "output_type": "execute_result",
          "data": {
            "text/plain": [
              "                count          mean           std           min           25%  \\\n",
              "Tern           7003.0 -6.456066e+04  1.753045e+05 -3.773245e+05 -1.947728e+05   \n",
              "Thrush         7003.0 -4.502436e+01  1.437923e+01 -4.965925e+01 -4.965925e+01   \n",
              "Tick           7003.0 -8.543213e-01  3.236843e-01 -1.383081e+00 -1.125735e+00   \n",
              "Tortoise       7003.0 -1.680492e+01  7.274371e+00 -3.226648e+01 -2.248101e+01   \n",
              "Trout          7003.0 -4.510483e+02  4.366830e+01 -5.765558e+02 -4.818227e+02   \n",
              "Tuna           7003.0 -5.839114e+04  3.097722e+04 -9.630581e+04 -8.753545e+04   \n",
              "Turkey         7003.0  8.274321e+05  1.869694e+06  0.000000e+00  7.603335e+04   \n",
              "Turtle         7003.0 -2.018657e+17  6.117382e+17 -5.486601e+18 -7.368777e+16   \n",
              "Tyrannosaurus  7003.0  6.208730e+01  3.381236e+00  4.783071e+01  6.018788e+01   \n",
              "Viper          7003.0  1.688637e+04  3.815703e+04  0.000000e+00  1.551701e+03   \n",
              "Vole           7003.0  5.367536e+06  2.189453e+07 -7.435038e+07 -5.831818e+06   \n",
              "Wallaby        3471.0 -1.255097e+07  6.940075e+06 -2.308478e+07 -1.733438e+07   \n",
              "Walrus         7003.0  6.284608e+04  4.706098e+04  2.265401e+00  2.776070e+04   \n",
              "Wasp           7003.0  7.078337e-01  1.801767e+00 -1.800730e+00 -5.272874e-01   \n",
              "Whale          7003.0  7.370826e+05  6.550392e+06 -1.012993e+07 -2.662170e+06   \n",
              "Whippet        7003.0 -1.296473e+00  1.354539e-01 -1.342072e+00 -1.342072e+00   \n",
              "Whitefish      7003.0 -3.536438e+07  1.117262e+03 -3.536665e+07 -3.536519e+07   \n",
              "Wildcat        7003.0  6.030494e+02  1.485652e+03 -4.469402e+02 -1.872317e+02   \n",
              "Wildebeest     7003.0  5.190221e-02  3.655973e-01 -6.624906e-01 -2.205199e-01   \n",
              "target         7003.0  1.427959e-01  3.498896e-01  0.000000e+00  0.000000e+00   \n",
              "\n",
              "                        50%           75%           max  \n",
              "Tern          -9.007979e+04  3.554272e+04  8.707696e+05  \n",
              "Thrush        -4.965925e+01 -4.965925e+01  0.000000e+00  \n",
              "Tick          -8.825666e-01 -6.025404e-01 -4.028101e-02  \n",
              "Tortoise      -1.684688e+01 -1.105008e+01 -3.010166e-02  \n",
              "Trout         -4.457252e+02 -4.187758e+02 -3.438396e+02  \n",
              "Tuna          -6.477931e+04 -3.098488e+04 -4.280253e-01  \n",
              "Turkey         1.766421e+05  6.279989e+05  3.858295e+07  \n",
              "Turtle        -6.742148e+13 -4.542838e+11 -2.261746e+10  \n",
              "Tyrannosaurus  6.299537e+01  6.476389e+01  6.612547e+01  \n",
              "Viper          3.604940e+03  1.281630e+04  7.874072e+05  \n",
              "Vole           3.872861e+04  1.010235e+07  1.654868e+08  \n",
              "Wallaby       -1.420595e+07 -9.509895e+06  4.228389e+07  \n",
              "Walrus         5.327463e+04  8.430385e+04  3.364409e+05  \n",
              "Wasp           2.672951e-01  1.370766e+00  1.117969e+01  \n",
              "Whale         -1.046975e+06  1.889262e+06  4.783767e+07  \n",
              "Whippet       -1.341861e+00 -1.328100e+00 -2.861439e-02  \n",
              "Whitefish     -3.536452e+07 -3.536373e+07 -3.535816e+07  \n",
              "Wildcat        7.251597e+01  7.699423e+02  1.780915e+04  \n",
              "Wildebeest     2.617042e-03  2.722470e-01  2.051850e+00  \n",
              "target         0.000000e+00  0.000000e+00  1.000000e+00  "
            ],
            "text/html": [
              "\n",
              "  <div id=\"df-e169091a-54b7-4577-a57a-c3f2532c8d56\">\n",
              "    <div class=\"colab-df-container\">\n",
              "      <div>\n",
              "<style scoped>\n",
              "    .dataframe tbody tr th:only-of-type {\n",
              "        vertical-align: middle;\n",
              "    }\n",
              "\n",
              "    .dataframe tbody tr th {\n",
              "        vertical-align: top;\n",
              "    }\n",
              "\n",
              "    .dataframe thead th {\n",
              "        text-align: right;\n",
              "    }\n",
              "</style>\n",
              "<table border=\"1\" class=\"dataframe\">\n",
              "  <thead>\n",
              "    <tr style=\"text-align: right;\">\n",
              "      <th></th>\n",
              "      <th>count</th>\n",
              "      <th>mean</th>\n",
              "      <th>std</th>\n",
              "      <th>min</th>\n",
              "      <th>25%</th>\n",
              "      <th>50%</th>\n",
              "      <th>75%</th>\n",
              "      <th>max</th>\n",
              "    </tr>\n",
              "  </thead>\n",
              "  <tbody>\n",
              "    <tr>\n",
              "      <th>Tern</th>\n",
              "      <td>7003.0</td>\n",
              "      <td>-6.456066e+04</td>\n",
              "      <td>1.753045e+05</td>\n",
              "      <td>-3.773245e+05</td>\n",
              "      <td>-1.947728e+05</td>\n",
              "      <td>-9.007979e+04</td>\n",
              "      <td>3.554272e+04</td>\n",
              "      <td>8.707696e+05</td>\n",
              "    </tr>\n",
              "    <tr>\n",
              "      <th>Thrush</th>\n",
              "      <td>7003.0</td>\n",
              "      <td>-4.502436e+01</td>\n",
              "      <td>1.437923e+01</td>\n",
              "      <td>-4.965925e+01</td>\n",
              "      <td>-4.965925e+01</td>\n",
              "      <td>-4.965925e+01</td>\n",
              "      <td>-4.965925e+01</td>\n",
              "      <td>0.000000e+00</td>\n",
              "    </tr>\n",
              "    <tr>\n",
              "      <th>Tick</th>\n",
              "      <td>7003.0</td>\n",
              "      <td>-8.543213e-01</td>\n",
              "      <td>3.236843e-01</td>\n",
              "      <td>-1.383081e+00</td>\n",
              "      <td>-1.125735e+00</td>\n",
              "      <td>-8.825666e-01</td>\n",
              "      <td>-6.025404e-01</td>\n",
              "      <td>-4.028101e-02</td>\n",
              "    </tr>\n",
              "    <tr>\n",
              "      <th>Tortoise</th>\n",
              "      <td>7003.0</td>\n",
              "      <td>-1.680492e+01</td>\n",
              "      <td>7.274371e+00</td>\n",
              "      <td>-3.226648e+01</td>\n",
              "      <td>-2.248101e+01</td>\n",
              "      <td>-1.684688e+01</td>\n",
              "      <td>-1.105008e+01</td>\n",
              "      <td>-3.010166e-02</td>\n",
              "    </tr>\n",
              "    <tr>\n",
              "      <th>Trout</th>\n",
              "      <td>7003.0</td>\n",
              "      <td>-4.510483e+02</td>\n",
              "      <td>4.366830e+01</td>\n",
              "      <td>-5.765558e+02</td>\n",
              "      <td>-4.818227e+02</td>\n",
              "      <td>-4.457252e+02</td>\n",
              "      <td>-4.187758e+02</td>\n",
              "      <td>-3.438396e+02</td>\n",
              "    </tr>\n",
              "    <tr>\n",
              "      <th>Tuna</th>\n",
              "      <td>7003.0</td>\n",
              "      <td>-5.839114e+04</td>\n",
              "      <td>3.097722e+04</td>\n",
              "      <td>-9.630581e+04</td>\n",
              "      <td>-8.753545e+04</td>\n",
              "      <td>-6.477931e+04</td>\n",
              "      <td>-3.098488e+04</td>\n",
              "      <td>-4.280253e-01</td>\n",
              "    </tr>\n",
              "    <tr>\n",
              "      <th>Turkey</th>\n",
              "      <td>7003.0</td>\n",
              "      <td>8.274321e+05</td>\n",
              "      <td>1.869694e+06</td>\n",
              "      <td>0.000000e+00</td>\n",
              "      <td>7.603335e+04</td>\n",
              "      <td>1.766421e+05</td>\n",
              "      <td>6.279989e+05</td>\n",
              "      <td>3.858295e+07</td>\n",
              "    </tr>\n",
              "    <tr>\n",
              "      <th>Turtle</th>\n",
              "      <td>7003.0</td>\n",
              "      <td>-2.018657e+17</td>\n",
              "      <td>6.117382e+17</td>\n",
              "      <td>-5.486601e+18</td>\n",
              "      <td>-7.368777e+16</td>\n",
              "      <td>-6.742148e+13</td>\n",
              "      <td>-4.542838e+11</td>\n",
              "      <td>-2.261746e+10</td>\n",
              "    </tr>\n",
              "    <tr>\n",
              "      <th>Tyrannosaurus</th>\n",
              "      <td>7003.0</td>\n",
              "      <td>6.208730e+01</td>\n",
              "      <td>3.381236e+00</td>\n",
              "      <td>4.783071e+01</td>\n",
              "      <td>6.018788e+01</td>\n",
              "      <td>6.299537e+01</td>\n",
              "      <td>6.476389e+01</td>\n",
              "      <td>6.612547e+01</td>\n",
              "    </tr>\n",
              "    <tr>\n",
              "      <th>Viper</th>\n",
              "      <td>7003.0</td>\n",
              "      <td>1.688637e+04</td>\n",
              "      <td>3.815703e+04</td>\n",
              "      <td>0.000000e+00</td>\n",
              "      <td>1.551701e+03</td>\n",
              "      <td>3.604940e+03</td>\n",
              "      <td>1.281630e+04</td>\n",
              "      <td>7.874072e+05</td>\n",
              "    </tr>\n",
              "    <tr>\n",
              "      <th>Vole</th>\n",
              "      <td>7003.0</td>\n",
              "      <td>5.367536e+06</td>\n",
              "      <td>2.189453e+07</td>\n",
              "      <td>-7.435038e+07</td>\n",
              "      <td>-5.831818e+06</td>\n",
              "      <td>3.872861e+04</td>\n",
              "      <td>1.010235e+07</td>\n",
              "      <td>1.654868e+08</td>\n",
              "    </tr>\n",
              "    <tr>\n",
              "      <th>Wallaby</th>\n",
              "      <td>3471.0</td>\n",
              "      <td>-1.255097e+07</td>\n",
              "      <td>6.940075e+06</td>\n",
              "      <td>-2.308478e+07</td>\n",
              "      <td>-1.733438e+07</td>\n",
              "      <td>-1.420595e+07</td>\n",
              "      <td>-9.509895e+06</td>\n",
              "      <td>4.228389e+07</td>\n",
              "    </tr>\n",
              "    <tr>\n",
              "      <th>Walrus</th>\n",
              "      <td>7003.0</td>\n",
              "      <td>6.284608e+04</td>\n",
              "      <td>4.706098e+04</td>\n",
              "      <td>2.265401e+00</td>\n",
              "      <td>2.776070e+04</td>\n",
              "      <td>5.327463e+04</td>\n",
              "      <td>8.430385e+04</td>\n",
              "      <td>3.364409e+05</td>\n",
              "    </tr>\n",
              "    <tr>\n",
              "      <th>Wasp</th>\n",
              "      <td>7003.0</td>\n",
              "      <td>7.078337e-01</td>\n",
              "      <td>1.801767e+00</td>\n",
              "      <td>-1.800730e+00</td>\n",
              "      <td>-5.272874e-01</td>\n",
              "      <td>2.672951e-01</td>\n",
              "      <td>1.370766e+00</td>\n",
              "      <td>1.117969e+01</td>\n",
              "    </tr>\n",
              "    <tr>\n",
              "      <th>Whale</th>\n",
              "      <td>7003.0</td>\n",
              "      <td>7.370826e+05</td>\n",
              "      <td>6.550392e+06</td>\n",
              "      <td>-1.012993e+07</td>\n",
              "      <td>-2.662170e+06</td>\n",
              "      <td>-1.046975e+06</td>\n",
              "      <td>1.889262e+06</td>\n",
              "      <td>4.783767e+07</td>\n",
              "    </tr>\n",
              "    <tr>\n",
              "      <th>Whippet</th>\n",
              "      <td>7003.0</td>\n",
              "      <td>-1.296473e+00</td>\n",
              "      <td>1.354539e-01</td>\n",
              "      <td>-1.342072e+00</td>\n",
              "      <td>-1.342072e+00</td>\n",
              "      <td>-1.341861e+00</td>\n",
              "      <td>-1.328100e+00</td>\n",
              "      <td>-2.861439e-02</td>\n",
              "    </tr>\n",
              "    <tr>\n",
              "      <th>Whitefish</th>\n",
              "      <td>7003.0</td>\n",
              "      <td>-3.536438e+07</td>\n",
              "      <td>1.117262e+03</td>\n",
              "      <td>-3.536665e+07</td>\n",
              "      <td>-3.536519e+07</td>\n",
              "      <td>-3.536452e+07</td>\n",
              "      <td>-3.536373e+07</td>\n",
              "      <td>-3.535816e+07</td>\n",
              "    </tr>\n",
              "    <tr>\n",
              "      <th>Wildcat</th>\n",
              "      <td>7003.0</td>\n",
              "      <td>6.030494e+02</td>\n",
              "      <td>1.485652e+03</td>\n",
              "      <td>-4.469402e+02</td>\n",
              "      <td>-1.872317e+02</td>\n",
              "      <td>7.251597e+01</td>\n",
              "      <td>7.699423e+02</td>\n",
              "      <td>1.780915e+04</td>\n",
              "    </tr>\n",
              "    <tr>\n",
              "      <th>Wildebeest</th>\n",
              "      <td>7003.0</td>\n",
              "      <td>5.190221e-02</td>\n",
              "      <td>3.655973e-01</td>\n",
              "      <td>-6.624906e-01</td>\n",
              "      <td>-2.205199e-01</td>\n",
              "      <td>2.617042e-03</td>\n",
              "      <td>2.722470e-01</td>\n",
              "      <td>2.051850e+00</td>\n",
              "    </tr>\n",
              "    <tr>\n",
              "      <th>target</th>\n",
              "      <td>7003.0</td>\n",
              "      <td>1.427959e-01</td>\n",
              "      <td>3.498896e-01</td>\n",
              "      <td>0.000000e+00</td>\n",
              "      <td>0.000000e+00</td>\n",
              "      <td>0.000000e+00</td>\n",
              "      <td>0.000000e+00</td>\n",
              "      <td>1.000000e+00</td>\n",
              "    </tr>\n",
              "  </tbody>\n",
              "</table>\n",
              "</div>\n",
              "      <button class=\"colab-df-convert\" onclick=\"convertToInteractive('df-e169091a-54b7-4577-a57a-c3f2532c8d56')\"\n",
              "              title=\"Convert this dataframe to an interactive table.\"\n",
              "              style=\"display:none;\">\n",
              "        \n",
              "  <svg xmlns=\"http://www.w3.org/2000/svg\" height=\"24px\"viewBox=\"0 0 24 24\"\n",
              "       width=\"24px\">\n",
              "    <path d=\"M0 0h24v24H0V0z\" fill=\"none\"/>\n",
              "    <path d=\"M18.56 5.44l.94 2.06.94-2.06 2.06-.94-2.06-.94-.94-2.06-.94 2.06-2.06.94zm-11 1L8.5 8.5l.94-2.06 2.06-.94-2.06-.94L8.5 2.5l-.94 2.06-2.06.94zm10 10l.94 2.06.94-2.06 2.06-.94-2.06-.94-.94-2.06-.94 2.06-2.06.94z\"/><path d=\"M17.41 7.96l-1.37-1.37c-.4-.4-.92-.59-1.43-.59-.52 0-1.04.2-1.43.59L10.3 9.45l-7.72 7.72c-.78.78-.78 2.05 0 2.83L4 21.41c.39.39.9.59 1.41.59.51 0 1.02-.2 1.41-.59l7.78-7.78 2.81-2.81c.8-.78.8-2.07 0-2.86zM5.41 20L4 18.59l7.72-7.72 1.47 1.35L5.41 20z\"/>\n",
              "  </svg>\n",
              "      </button>\n",
              "      \n",
              "  <style>\n",
              "    .colab-df-container {\n",
              "      display:flex;\n",
              "      flex-wrap:wrap;\n",
              "      gap: 12px;\n",
              "    }\n",
              "\n",
              "    .colab-df-convert {\n",
              "      background-color: #E8F0FE;\n",
              "      border: none;\n",
              "      border-radius: 50%;\n",
              "      cursor: pointer;\n",
              "      display: none;\n",
              "      fill: #1967D2;\n",
              "      height: 32px;\n",
              "      padding: 0 0 0 0;\n",
              "      width: 32px;\n",
              "    }\n",
              "\n",
              "    .colab-df-convert:hover {\n",
              "      background-color: #E2EBFA;\n",
              "      box-shadow: 0px 1px 2px rgba(60, 64, 67, 0.3), 0px 1px 3px 1px rgba(60, 64, 67, 0.15);\n",
              "      fill: #174EA6;\n",
              "    }\n",
              "\n",
              "    [theme=dark] .colab-df-convert {\n",
              "      background-color: #3B4455;\n",
              "      fill: #D2E3FC;\n",
              "    }\n",
              "\n",
              "    [theme=dark] .colab-df-convert:hover {\n",
              "      background-color: #434B5C;\n",
              "      box-shadow: 0px 1px 3px 1px rgba(0, 0, 0, 0.15);\n",
              "      filter: drop-shadow(0px 1px 2px rgba(0, 0, 0, 0.3));\n",
              "      fill: #FFFFFF;\n",
              "    }\n",
              "  </style>\n",
              "\n",
              "      <script>\n",
              "        const buttonEl =\n",
              "          document.querySelector('#df-e169091a-54b7-4577-a57a-c3f2532c8d56 button.colab-df-convert');\n",
              "        buttonEl.style.display =\n",
              "          google.colab.kernel.accessAllowed ? 'block' : 'none';\n",
              "\n",
              "        async function convertToInteractive(key) {\n",
              "          const element = document.querySelector('#df-e169091a-54b7-4577-a57a-c3f2532c8d56');\n",
              "          const dataTable =\n",
              "            await google.colab.kernel.invokeFunction('convertToInteractive',\n",
              "                                                     [key], {});\n",
              "          if (!dataTable) return;\n",
              "\n",
              "          const docLinkHtml = 'Like what you see? Visit the ' +\n",
              "            '<a target=\"_blank\" href=https://colab.research.google.com/notebooks/data_table.ipynb>data table notebook</a>'\n",
              "            + ' to learn more about interactive tables.';\n",
              "          element.innerHTML = '';\n",
              "          dataTable['output_type'] = 'display_data';\n",
              "          await google.colab.output.renderOutput(dataTable, element);\n",
              "          const docLink = document.createElement('div');\n",
              "          docLink.innerHTML = docLinkHtml;\n",
              "          element.appendChild(docLink);\n",
              "        }\n",
              "      </script>\n",
              "    </div>\n",
              "  </div>\n",
              "  "
            ]
          },
          "metadata": {},
          "execution_count": 21
        }
      ]
    },
    {
      "cell_type": "markdown",
      "source": [
        "Statistical information of Categorical features."
      ],
      "metadata": {
        "id": "-8GjtOESJ5rR"
      }
    },
    {
      "cell_type": "code",
      "source": [
        "data.describe(exclude = 'number').T"
      ],
      "metadata": {
        "colab": {
          "base_uri": "https://localhost:8080/",
          "height": 331
        },
        "id": "qjgEc5aCJIbq",
        "outputId": "dbe744a4-4891-4f96-aa95-5ad8ea81e5dc"
      },
      "execution_count": 22,
      "outputs": [
        {
          "output_type": "execute_result",
          "data": {
            "text/plain": [
              "          count unique top  freq\n",
              "Tiger      7003      3   s  6456\n",
              "Toad       7003      7   l  4137\n",
              "Urial      7003      5   e  2588\n",
              "Vulture    7003     40  b2   532\n",
              "Warbler    7003     83  h4   366\n",
              "Weasel     7003      2   b  3734\n",
              "Wildfowl   7003     10   b  6544\n",
              "Wolf       7003     28  k1  1913\n",
              "Wolverine  7003     15   m  1874"
            ],
            "text/html": [
              "\n",
              "  <div id=\"df-708d6cbc-ca8f-47c6-94ac-9e3f9827a13e\">\n",
              "    <div class=\"colab-df-container\">\n",
              "      <div>\n",
              "<style scoped>\n",
              "    .dataframe tbody tr th:only-of-type {\n",
              "        vertical-align: middle;\n",
              "    }\n",
              "\n",
              "    .dataframe tbody tr th {\n",
              "        vertical-align: top;\n",
              "    }\n",
              "\n",
              "    .dataframe thead th {\n",
              "        text-align: right;\n",
              "    }\n",
              "</style>\n",
              "<table border=\"1\" class=\"dataframe\">\n",
              "  <thead>\n",
              "    <tr style=\"text-align: right;\">\n",
              "      <th></th>\n",
              "      <th>count</th>\n",
              "      <th>unique</th>\n",
              "      <th>top</th>\n",
              "      <th>freq</th>\n",
              "    </tr>\n",
              "  </thead>\n",
              "  <tbody>\n",
              "    <tr>\n",
              "      <th>Tiger</th>\n",
              "      <td>7003</td>\n",
              "      <td>3</td>\n",
              "      <td>s</td>\n",
              "      <td>6456</td>\n",
              "    </tr>\n",
              "    <tr>\n",
              "      <th>Toad</th>\n",
              "      <td>7003</td>\n",
              "      <td>7</td>\n",
              "      <td>l</td>\n",
              "      <td>4137</td>\n",
              "    </tr>\n",
              "    <tr>\n",
              "      <th>Urial</th>\n",
              "      <td>7003</td>\n",
              "      <td>5</td>\n",
              "      <td>e</td>\n",
              "      <td>2588</td>\n",
              "    </tr>\n",
              "    <tr>\n",
              "      <th>Vulture</th>\n",
              "      <td>7003</td>\n",
              "      <td>40</td>\n",
              "      <td>b2</td>\n",
              "      <td>532</td>\n",
              "    </tr>\n",
              "    <tr>\n",
              "      <th>Warbler</th>\n",
              "      <td>7003</td>\n",
              "      <td>83</td>\n",
              "      <td>h4</td>\n",
              "      <td>366</td>\n",
              "    </tr>\n",
              "    <tr>\n",
              "      <th>Weasel</th>\n",
              "      <td>7003</td>\n",
              "      <td>2</td>\n",
              "      <td>b</td>\n",
              "      <td>3734</td>\n",
              "    </tr>\n",
              "    <tr>\n",
              "      <th>Wildfowl</th>\n",
              "      <td>7003</td>\n",
              "      <td>10</td>\n",
              "      <td>b</td>\n",
              "      <td>6544</td>\n",
              "    </tr>\n",
              "    <tr>\n",
              "      <th>Wolf</th>\n",
              "      <td>7003</td>\n",
              "      <td>28</td>\n",
              "      <td>k1</td>\n",
              "      <td>1913</td>\n",
              "    </tr>\n",
              "    <tr>\n",
              "      <th>Wolverine</th>\n",
              "      <td>7003</td>\n",
              "      <td>15</td>\n",
              "      <td>m</td>\n",
              "      <td>1874</td>\n",
              "    </tr>\n",
              "  </tbody>\n",
              "</table>\n",
              "</div>\n",
              "      <button class=\"colab-df-convert\" onclick=\"convertToInteractive('df-708d6cbc-ca8f-47c6-94ac-9e3f9827a13e')\"\n",
              "              title=\"Convert this dataframe to an interactive table.\"\n",
              "              style=\"display:none;\">\n",
              "        \n",
              "  <svg xmlns=\"http://www.w3.org/2000/svg\" height=\"24px\"viewBox=\"0 0 24 24\"\n",
              "       width=\"24px\">\n",
              "    <path d=\"M0 0h24v24H0V0z\" fill=\"none\"/>\n",
              "    <path d=\"M18.56 5.44l.94 2.06.94-2.06 2.06-.94-2.06-.94-.94-2.06-.94 2.06-2.06.94zm-11 1L8.5 8.5l.94-2.06 2.06-.94-2.06-.94L8.5 2.5l-.94 2.06-2.06.94zm10 10l.94 2.06.94-2.06 2.06-.94-2.06-.94-.94-2.06-.94 2.06-2.06.94z\"/><path d=\"M17.41 7.96l-1.37-1.37c-.4-.4-.92-.59-1.43-.59-.52 0-1.04.2-1.43.59L10.3 9.45l-7.72 7.72c-.78.78-.78 2.05 0 2.83L4 21.41c.39.39.9.59 1.41.59.51 0 1.02-.2 1.41-.59l7.78-7.78 2.81-2.81c.8-.78.8-2.07 0-2.86zM5.41 20L4 18.59l7.72-7.72 1.47 1.35L5.41 20z\"/>\n",
              "  </svg>\n",
              "      </button>\n",
              "      \n",
              "  <style>\n",
              "    .colab-df-container {\n",
              "      display:flex;\n",
              "      flex-wrap:wrap;\n",
              "      gap: 12px;\n",
              "    }\n",
              "\n",
              "    .colab-df-convert {\n",
              "      background-color: #E8F0FE;\n",
              "      border: none;\n",
              "      border-radius: 50%;\n",
              "      cursor: pointer;\n",
              "      display: none;\n",
              "      fill: #1967D2;\n",
              "      height: 32px;\n",
              "      padding: 0 0 0 0;\n",
              "      width: 32px;\n",
              "    }\n",
              "\n",
              "    .colab-df-convert:hover {\n",
              "      background-color: #E2EBFA;\n",
              "      box-shadow: 0px 1px 2px rgba(60, 64, 67, 0.3), 0px 1px 3px 1px rgba(60, 64, 67, 0.15);\n",
              "      fill: #174EA6;\n",
              "    }\n",
              "\n",
              "    [theme=dark] .colab-df-convert {\n",
              "      background-color: #3B4455;\n",
              "      fill: #D2E3FC;\n",
              "    }\n",
              "\n",
              "    [theme=dark] .colab-df-convert:hover {\n",
              "      background-color: #434B5C;\n",
              "      box-shadow: 0px 1px 3px 1px rgba(0, 0, 0, 0.15);\n",
              "      filter: drop-shadow(0px 1px 2px rgba(0, 0, 0, 0.3));\n",
              "      fill: #FFFFFF;\n",
              "    }\n",
              "  </style>\n",
              "\n",
              "      <script>\n",
              "        const buttonEl =\n",
              "          document.querySelector('#df-708d6cbc-ca8f-47c6-94ac-9e3f9827a13e button.colab-df-convert');\n",
              "        buttonEl.style.display =\n",
              "          google.colab.kernel.accessAllowed ? 'block' : 'none';\n",
              "\n",
              "        async function convertToInteractive(key) {\n",
              "          const element = document.querySelector('#df-708d6cbc-ca8f-47c6-94ac-9e3f9827a13e');\n",
              "          const dataTable =\n",
              "            await google.colab.kernel.invokeFunction('convertToInteractive',\n",
              "                                                     [key], {});\n",
              "          if (!dataTable) return;\n",
              "\n",
              "          const docLinkHtml = 'Like what you see? Visit the ' +\n",
              "            '<a target=\"_blank\" href=https://colab.research.google.com/notebooks/data_table.ipynb>data table notebook</a>'\n",
              "            + ' to learn more about interactive tables.';\n",
              "          element.innerHTML = '';\n",
              "          dataTable['output_type'] = 'display_data';\n",
              "          await google.colab.output.renderOutput(dataTable, element);\n",
              "          const docLink = document.createElement('div');\n",
              "          docLink.innerHTML = docLinkHtml;\n",
              "          element.appendChild(docLink);\n",
              "        }\n",
              "      </script>\n",
              "    </div>\n",
              "  </div>\n",
              "  "
            ]
          },
          "metadata": {},
          "execution_count": 22
        }
      ]
    },
    {
      "cell_type": "markdown",
      "source": [
        "Checking the count of each unique category in each of the categorical variables."
      ],
      "metadata": {
        "id": "1wBPrW91KIKw"
      }
    },
    {
      "cell_type": "code",
      "source": [
        "# Making a list of all categorical variables \n",
        "cat_col = ['Tiger', 'Toad', 'Urial', 'Vulture', 'Warbler', 'Weasel', 'Wildfowl','Wolf',\n",
        "            'Wolverine', 'target']\n",
        "\n",
        "# Printing number of count of each unique value in each column\n",
        "\n",
        "for column in cat_col:\n",
        "    print(data[column].value_counts())\n",
        "    \n",
        "    print('%' * 50)\n",
        "\n",
        "    # print(test[column].value_counts())\n",
        "    \n",
        "    # print('-' * 50)"
      ],
      "metadata": {
        "colab": {
          "base_uri": "https://localhost:8080/"
        },
        "id": "K09o9NXFKDfr",
        "outputId": "12e5715e-936b-4bf4-f846-b2cd5fbb3290"
      },
      "execution_count": 23,
      "outputs": [
        {
          "output_type": "stream",
          "name": "stdout",
          "text": [
            "s    6456\n",
            "v     521\n",
            "e      26\n",
            "Name: Tiger, dtype: int64\n",
            "%%%%%%%%%%%%%%%%%%%%%%%%%%%%%%%%%%%%%%%%%%%%%%%%%%\n",
            "l    4137\n",
            "s    1476\n",
            "u     799\n",
            "z     355\n",
            "w     178\n",
            "i      48\n",
            "o      10\n",
            "Name: Toad, dtype: int64\n",
            "%%%%%%%%%%%%%%%%%%%%%%%%%%%%%%%%%%%%%%%%%%%%%%%%%%\n",
            "e    2588\n",
            "a    1310\n",
            "d    1151\n",
            "c    1040\n",
            "b     914\n",
            "Name: Urial, dtype: int64\n",
            "%%%%%%%%%%%%%%%%%%%%%%%%%%%%%%%%%%%%%%%%%%%%%%%%%%\n",
            "b2    532\n",
            "k1    529\n",
            "e2    508\n",
            "z2    502\n",
            "x2    490\n",
            "d1    467\n",
            "p1    436\n",
            "c1    403\n",
            "o1    376\n",
            "n2    331\n",
            "y1    298\n",
            "r1    295\n",
            "j2    263\n",
            "w1    230\n",
            "v1    191\n",
            "h2    188\n",
            "a1    170\n",
            "b1    151\n",
            "a2    120\n",
            "o2    116\n",
            "m1     87\n",
            "g2     61\n",
            "t1     60\n",
            "l1     59\n",
            "f2     27\n",
            "f1     23\n",
            "x1     21\n",
            "s2     17\n",
            "i1     13\n",
            "z1     11\n",
            "l2      9\n",
            "h1      6\n",
            "i2      3\n",
            "d2      3\n",
            "u2      2\n",
            "e1      1\n",
            "q2      1\n",
            "n1      1\n",
            "t2      1\n",
            "w2      1\n",
            "Name: Vulture, dtype: int64\n",
            "%%%%%%%%%%%%%%%%%%%%%%%%%%%%%%%%%%%%%%%%%%%%%%%%%%\n",
            "h4    366\n",
            "g1    333\n",
            "o3    309\n",
            "b1    287\n",
            "e3    262\n",
            "     ... \n",
            "p3      1\n",
            "k4      1\n",
            "f3      1\n",
            "t3      1\n",
            "h2      1\n",
            "Name: Warbler, Length: 83, dtype: int64\n",
            "%%%%%%%%%%%%%%%%%%%%%%%%%%%%%%%%%%%%%%%%%%%%%%%%%%\n",
            "b    3734\n",
            "a    3269\n",
            "Name: Weasel, dtype: int64\n",
            "%%%%%%%%%%%%%%%%%%%%%%%%%%%%%%%%%%%%%%%%%%%%%%%%%%\n",
            "b    6544\n",
            "y     286\n",
            "m     104\n",
            "f      34\n",
            "w      13\n",
            "l      12\n",
            "v       7\n",
            "c       1\n",
            "u       1\n",
            "z       1\n",
            "Name: Wildfowl, dtype: int64\n",
            "%%%%%%%%%%%%%%%%%%%%%%%%%%%%%%%%%%%%%%%%%%%%%%%%%%\n",
            "k1    1913\n",
            "z2    1321\n",
            "s1    1236\n",
            "r2     615\n",
            "m1     565\n",
            "s2     337\n",
            "r1     189\n",
            "e2     166\n",
            "w1     148\n",
            "c1      88\n",
            "j1      84\n",
            "i2      66\n",
            "g1      50\n",
            "x1      45\n",
            "b1      33\n",
            "q1      25\n",
            "q2      24\n",
            "v1      21\n",
            "k2      14\n",
            "n1      14\n",
            "a2      12\n",
            "c2      11\n",
            "d2       7\n",
            "p1       6\n",
            "o1       5\n",
            "v2       4\n",
            "t1       3\n",
            "y2       1\n",
            "Name: Wolf, dtype: int64\n",
            "%%%%%%%%%%%%%%%%%%%%%%%%%%%%%%%%%%%%%%%%%%%%%%%%%%\n",
            "m    1874\n",
            "x    1810\n",
            "s     872\n",
            "r     616\n",
            "h     521\n",
            "l     418\n",
            "n     292\n",
            "y     219\n",
            "z     148\n",
            "d      94\n",
            "p      74\n",
            "j      37\n",
            "w      16\n",
            "c      11\n",
            "g       1\n",
            "Name: Wolverine, dtype: int64\n",
            "%%%%%%%%%%%%%%%%%%%%%%%%%%%%%%%%%%%%%%%%%%%%%%%%%%\n",
            "0    6003\n",
            "1    1000\n",
            "Name: target, dtype: int64\n",
            "%%%%%%%%%%%%%%%%%%%%%%%%%%%%%%%%%%%%%%%%%%%%%%%%%%\n"
          ]
        }
      ]
    },
    {
      "cell_type": "markdown",
      "source": [
        "Missing values treatment for Wallaby. Replacing the Nan values with the median of the column values."
      ],
      "metadata": {
        "id": "vqgcEyLPNY7k"
      }
    },
    {
      "cell_type": "code",
      "source": [
        "data['Tiger'].replace(to_replace=['e'],value = np.NaN, inplace=True)"
      ],
      "metadata": {
        "id": "IOmZcU8bfYqg"
      },
      "execution_count": 24,
      "outputs": []
    },
    {
      "cell_type": "code",
      "source": [
        "data['Toad'].replace(to_replace=['i','o'],value = np.NaN, inplace=True)"
      ],
      "metadata": {
        "id": "F2STDNFtgiee"
      },
      "execution_count": 25,
      "outputs": []
    },
    {
      "cell_type": "code",
      "source": [
        "data['Vulture'].replace(to_replace=['l2','h1','i2','d2','u2','e1','q2','n1','t2','w2'],value = np.NaN, inplace=True)"
      ],
      "metadata": {
        "id": "Yo0h-2dQgyoC"
      },
      "execution_count": 26,
      "outputs": []
    },
    {
      "cell_type": "code",
      "source": [
        "data['Wildfowl'].replace(to_replace=['v','c','u','z'],value = np.NaN, inplace=True)"
      ],
      "metadata": {
        "id": "aqbtyxqqgygx"
      },
      "execution_count": 27,
      "outputs": []
    },
    {
      "cell_type": "code",
      "source": [
        "data['Wolf'].replace(to_replace=['k2','n1','c2','d2','p1','o1','v2','t1','y2'],value = np.NaN, inplace=True)"
      ],
      "metadata": {
        "id": "GGxsy5mXgyZO"
      },
      "execution_count": 28,
      "outputs": []
    },
    {
      "cell_type": "code",
      "source": [
        "data['Wolverine'].replace(to_replace=['w','c','g'],value = np.NaN, inplace=True)"
      ],
      "metadata": {
        "id": "Fli-KoemgyRM"
      },
      "execution_count": 29,
      "outputs": []
    },
    {
      "cell_type": "code",
      "source": [
        "data['Warbler'].replace(to_replace=['k2','x2','e1','k4','e2','a4','t3','g4','m1','x3','s1','r2','f3','n1','a3','m4','z2','p3','t1','v2','e4','r1','x1','o2','d4','h2'],value = np.NaN, inplace=True)"
      ],
      "metadata": {
        "id": "Ym528tFyiIaY"
      },
      "execution_count": 30,
      "outputs": []
    },
    {
      "cell_type": "code",
      "source": [
        "data['Warbler']"
      ],
      "metadata": {
        "colab": {
          "base_uri": "https://localhost:8080/"
        },
        "id": "cj-g_ABUgyHs",
        "outputId": "ec772443-cd35-45f4-d516-aa97e1960007"
      },
      "execution_count": 31,
      "outputs": [
        {
          "output_type": "execute_result",
          "data": {
            "text/plain": [
              "0       f1\n",
              "1       o4\n",
              "2       g3\n",
              "3       m3\n",
              "4       h1\n",
              "        ..\n",
              "6998    p2\n",
              "6999    n3\n",
              "7000    k3\n",
              "7001    o3\n",
              "7002    g1\n",
              "Name: Warbler, Length: 7003, dtype: object"
            ]
          },
          "metadata": {},
          "execution_count": 31
        }
      ]
    },
    {
      "cell_type": "code",
      "source": [
        "print(data['Warbler'].value_counts())"
      ],
      "metadata": {
        "colab": {
          "base_uri": "https://localhost:8080/"
        },
        "id": "FNQlQFzugx9z",
        "outputId": "3748d450-f19d-4eab-b6bc-da8af3e66457"
      },
      "execution_count": 32,
      "outputs": [
        {
          "output_type": "stream",
          "name": "stdout",
          "text": [
            "h4    366\n",
            "g1    333\n",
            "o3    309\n",
            "b1    287\n",
            "e3    262\n",
            "y2    261\n",
            "p1    243\n",
            "t4    241\n",
            "b3    223\n",
            "h1    222\n",
            "y3    204\n",
            "h3    199\n",
            "g3    196\n",
            "f1    193\n",
            "l4    189\n",
            "r3    188\n",
            "u4    183\n",
            "g2    182\n",
            "n2    180\n",
            "z4    178\n",
            "w2    177\n",
            "x4    175\n",
            "q4    166\n",
            "v4    163\n",
            "o4    158\n",
            "p2    156\n",
            "r4    137\n",
            "f4    134\n",
            "c4    116\n",
            "j3    101\n",
            "k3     97\n",
            "m3     62\n",
            "j1     54\n",
            "s3     51\n",
            "i2     45\n",
            "y4     41\n",
            "l2     37\n",
            "d2     36\n",
            "l3     32\n",
            "m2     30\n",
            "b2     30\n",
            "q3     28\n",
            "u2     26\n",
            "n3     24\n",
            "z1     20\n",
            "c3     19\n",
            "b4     19\n",
            "c2     18\n",
            "z3     18\n",
            "n4     17\n",
            "i1     16\n",
            "q1     16\n",
            "i4     15\n",
            "s2     13\n",
            "t2     12\n",
            "w1     12\n",
            "i3     11\n",
            "Name: Warbler, dtype: int64\n"
          ]
        }
      ]
    },
    {
      "cell_type": "code",
      "source": [],
      "metadata": {
        "id": "EE6C9e1EpufC"
      },
      "execution_count": 32,
      "outputs": []
    },
    {
      "cell_type": "code",
      "source": [],
      "metadata": {
        "id": "AcAEDBGipubv"
      },
      "execution_count": 32,
      "outputs": []
    },
    {
      "cell_type": "code",
      "source": [
        "data['Tiger'].isna().sum()"
      ],
      "metadata": {
        "colab": {
          "base_uri": "https://localhost:8080/"
        },
        "id": "XWqPnIGEpuY2",
        "outputId": "92d9d3e4-897d-4471-a830-9dc0387b4924"
      },
      "execution_count": 33,
      "outputs": [
        {
          "output_type": "execute_result",
          "data": {
            "text/plain": [
              "26"
            ]
          },
          "metadata": {},
          "execution_count": 33
        }
      ]
    },
    {
      "cell_type": "code",
      "source": [
        "data['Toad'].isna().sum()"
      ],
      "metadata": {
        "colab": {
          "base_uri": "https://localhost:8080/"
        },
        "id": "nJwTbbITpuV7",
        "outputId": "aa3c1b78-884b-4a6a-9920-2874c43ce151"
      },
      "execution_count": 34,
      "outputs": [
        {
          "output_type": "execute_result",
          "data": {
            "text/plain": [
              "58"
            ]
          },
          "metadata": {},
          "execution_count": 34
        }
      ]
    },
    {
      "cell_type": "code",
      "source": [
        "data['Vulture'].isna().sum()"
      ],
      "metadata": {
        "colab": {
          "base_uri": "https://localhost:8080/"
        },
        "id": "LVERabXkpuTJ",
        "outputId": "e4783385-c341-46dc-eef6-f63dd58c05e5"
      },
      "execution_count": 35,
      "outputs": [
        {
          "output_type": "execute_result",
          "data": {
            "text/plain": [
              "28"
            ]
          },
          "metadata": {},
          "execution_count": 35
        }
      ]
    },
    {
      "cell_type": "code",
      "source": [
        "data['Wolf'].isna().sum()"
      ],
      "metadata": {
        "colab": {
          "base_uri": "https://localhost:8080/"
        },
        "id": "puobZDLepuQJ",
        "outputId": "35aca9b2-739b-4acb-d88d-a7ac8d3645f3"
      },
      "execution_count": 36,
      "outputs": [
        {
          "output_type": "execute_result",
          "data": {
            "text/plain": [
              "65"
            ]
          },
          "metadata": {},
          "execution_count": 36
        }
      ]
    },
    {
      "cell_type": "code",
      "source": [
        "data['Wolverine'].isna().sum()"
      ],
      "metadata": {
        "colab": {
          "base_uri": "https://localhost:8080/"
        },
        "id": "4jioj6t_puNG",
        "outputId": "b3ec2c40-feeb-49ae-c4c4-97be66aa08fd"
      },
      "execution_count": 37,
      "outputs": [
        {
          "output_type": "execute_result",
          "data": {
            "text/plain": [
              "28"
            ]
          },
          "metadata": {},
          "execution_count": 37
        }
      ]
    },
    {
      "cell_type": "code",
      "source": [
        "data['Warbler'].isna().sum()"
      ],
      "metadata": {
        "colab": {
          "base_uri": "https://localhost:8080/"
        },
        "id": "vq4vIESygxzT",
        "outputId": "2abc5af2-24e5-4e19-f2d4-64f8df087eaf"
      },
      "execution_count": 38,
      "outputs": [
        {
          "output_type": "execute_result",
          "data": {
            "text/plain": [
              "82"
            ]
          },
          "metadata": {},
          "execution_count": 38
        }
      ]
    },
    {
      "cell_type": "markdown",
      "source": [
        "Cleaning the data: Dropping the rows containing the nan values as they are very less in number."
      ],
      "metadata": {
        "id": "aium-M-XuHji"
      }
    },
    {
      "cell_type": "code",
      "source": [
        "data.dropna(subset=['Tiger'], how='all', inplace=True)\n"
      ],
      "metadata": {
        "id": "X5NP8HEomtJE"
      },
      "execution_count": 39,
      "outputs": []
    },
    {
      "cell_type": "code",
      "source": [
        "data.dropna(subset=['Toad'], how='all', inplace=True)\n"
      ],
      "metadata": {
        "id": "A9CLUr-pmtEt"
      },
      "execution_count": 41,
      "outputs": []
    },
    {
      "cell_type": "code",
      "source": [
        "data.dropna(subset=['Vulture'], how='all', inplace=True)\n"
      ],
      "metadata": {
        "id": "bYg_8NKqmtBk"
      },
      "execution_count": 42,
      "outputs": []
    },
    {
      "cell_type": "code",
      "source": [
        "data.dropna(subset=['Wolf'], how='all', inplace=True)\n"
      ],
      "metadata": {
        "id": "o6DP4QFkq0yc"
      },
      "execution_count": 43,
      "outputs": []
    },
    {
      "cell_type": "code",
      "source": [
        "data.dropna(subset=['Wolverine'], how='all', inplace=True)\n"
      ],
      "metadata": {
        "id": "HkDWIdg1q0pZ"
      },
      "execution_count": 44,
      "outputs": []
    },
    {
      "cell_type": "code",
      "source": [
        "data.dropna(subset=['Warbler'], how='all', inplace=True)\n"
      ],
      "metadata": {
        "id": "6h5wcnmRms7h"
      },
      "execution_count": 45,
      "outputs": []
    },
    {
      "cell_type": "code",
      "source": [
        "data['Warbler'].isna().sum()"
      ],
      "metadata": {
        "colab": {
          "base_uri": "https://localhost:8080/"
        },
        "id": "9cCyM5USrCNI",
        "outputId": "d13574ba-9838-4372-d603-220b2f56d021"
      },
      "execution_count": 46,
      "outputs": [
        {
          "output_type": "execute_result",
          "data": {
            "text/plain": [
              "0"
            ]
          },
          "metadata": {},
          "execution_count": 46
        }
      ]
    },
    {
      "cell_type": "markdown",
      "source": [
        "Filling the Wallaby feature nan  values with median values."
      ],
      "metadata": {
        "id": "sAuZCjkquSuv"
      }
    },
    {
      "cell_type": "code",
      "source": [
        "data['Wallaby'].fillna(data['Wallaby'].median(), inplace = True) \n",
        "test['Wallaby'].fillna(test['Wallaby'].median(), inplace = True) "
      ],
      "metadata": {
        "id": "S4amIde_Mptu"
      },
      "execution_count": 47,
      "outputs": []
    },
    {
      "cell_type": "code",
      "source": [
        "data['Wallaby'].head(25)"
      ],
      "metadata": {
        "colab": {
          "base_uri": "https://localhost:8080/"
        },
        "id": "yVALFVvDOMNc",
        "outputId": "de1e7444-e766-41c2-a6c9-34ed75181c7e"
      },
      "execution_count": 48,
      "outputs": [
        {
          "output_type": "execute_result",
          "data": {
            "text/plain": [
              "0    -1.800251e+07\n",
              "1    -1.427188e+07\n",
              "2    -1.427188e+07\n",
              "4    -1.427188e+07\n",
              "5    -1.490572e+07\n",
              "6    -5.157540e+06\n",
              "7    -1.870867e+07\n",
              "8    -1.427188e+07\n",
              "9    -1.427188e+07\n",
              "10   -1.427188e+07\n",
              "11   -3.864473e+06\n",
              "12   -1.427188e+07\n",
              "14   -2.522648e+06\n",
              "15   -1.427188e+07\n",
              "16   -1.427188e+07\n",
              "17   -1.427188e+07\n",
              "19   -1.902100e+07\n",
              "20   -1.998151e+07\n",
              "21   -1.427188e+07\n",
              "22   -1.427188e+07\n",
              "23   -9.576012e+06\n",
              "24   -1.540415e+07\n",
              "25   -1.667542e+07\n",
              "26   -1.964471e+07\n",
              "27   -1.011162e+07\n",
              "Name: Wallaby, dtype: float64"
            ]
          },
          "metadata": {},
          "execution_count": 48
        }
      ]
    },
    {
      "cell_type": "markdown",
      "source": [
        "Once again checking the Missing values in Data."
      ],
      "metadata": {
        "id": "DlGZz_y2QwDg"
      }
    },
    {
      "cell_type": "code",
      "source": [
        "data.isnull().sum()"
      ],
      "metadata": {
        "colab": {
          "base_uri": "https://localhost:8080/"
        },
        "id": "m_cuE290QvcF",
        "outputId": "e6ed35da-da8d-49b0-e9e4-604973a51536"
      },
      "execution_count": 49,
      "outputs": [
        {
          "output_type": "execute_result",
          "data": {
            "text/plain": [
              "Tern             0\n",
              "Thrush           0\n",
              "Tick             0\n",
              "Tiger            0\n",
              "Toad             0\n",
              "Tortoise         0\n",
              "Trout            0\n",
              "Tuna             0\n",
              "Turkey           0\n",
              "Turtle           0\n",
              "Tyrannosaurus    0\n",
              "Urial            0\n",
              "Viper            0\n",
              "Vole             0\n",
              "Vulture          0\n",
              "Wallaby          0\n",
              "Walrus           0\n",
              "Wasp             0\n",
              "Warbler          0\n",
              "Weasel           0\n",
              "Whale            0\n",
              "Whippet          0\n",
              "Whitefish        0\n",
              "Wildcat          0\n",
              "Wildebeest       0\n",
              "Wildfowl         8\n",
              "Wolf             0\n",
              "Wolverine        0\n",
              "target           0\n",
              "dtype: int64"
            ]
          },
          "metadata": {},
          "execution_count": 49
        }
      ]
    },
    {
      "cell_type": "code",
      "source": [
        "test.isnull().sum()"
      ],
      "metadata": {
        "colab": {
          "base_uri": "https://localhost:8080/"
        },
        "id": "N8pnSGpv6oJD",
        "outputId": "a25d635f-7b02-4e88-8ac9-8e6ff8cde1f5"
      },
      "execution_count": 50,
      "outputs": [
        {
          "output_type": "execute_result",
          "data": {
            "text/plain": [
              "Tern             0\n",
              "Thrush           0\n",
              "Tick             0\n",
              "Tiger            0\n",
              "Toad             0\n",
              "Tortoise         0\n",
              "Trout            0\n",
              "Tuna             0\n",
              "Turkey           0\n",
              "Turtle           0\n",
              "Tyrannosaurus    0\n",
              "Urial            0\n",
              "Viper            0\n",
              "Vole             0\n",
              "Vulture          0\n",
              "Wallaby          0\n",
              "Walrus           0\n",
              "Wasp             0\n",
              "Warbler          0\n",
              "Weasel           0\n",
              "Whale            0\n",
              "Whippet          0\n",
              "Whitefish        0\n",
              "Wildcat          0\n",
              "Wildebeest       0\n",
              "Wildfowl         0\n",
              "Wolf             0\n",
              "Wolverine        0\n",
              "target           0\n",
              "dtype: int64"
            ]
          },
          "metadata": {},
          "execution_count": 50
        }
      ]
    },
    {
      "cell_type": "markdown",
      "source": [
        "Univariate Analysis of Numerical Data."
      ],
      "metadata": {
        "id": "89MCRBNgOblx"
      }
    },
    {
      "cell_type": "code",
      "source": [
        "def histogram_boxplot(feature, figsize = (15,10), bins = None):\n",
        "    \"\"\" Boxplot and histogram combined\n",
        "    feature: 1-d feature array\n",
        "    figsize: size of fig (default (9,8))\n",
        "    bins: number of bins (default None / auto)\n",
        "    \"\"\"\n",
        "    f2, (ax_box2, ax_hist2) = plt.subplots(nrows = 2,     # Number of rows of the subplot grid\n",
        "                                           sharex = True, # The X-axis will be shared among all the subplots\n",
        "                                           gridspec_kw = {\"height_ratios\": (.25, .75)}, \n",
        "                                           figsize = figsize \n",
        "                                           ) \n",
        "    # Creating the subplots\n",
        "    \n",
        "    # Boxplot will be created and the mean value of the column will be indicated using some symbol\n",
        "    sns.boxplot(feature, ax = ax_box2, showmeans = True, color ='red')\n",
        "    \n",
        "    # For histogram\n",
        "    sns.distplot(feature, kde = F, ax = ax_hist2, bins = bins) if bins else sns.distplot(feature, kde = False, ax = ax_hist2)\n",
        "    \n",
        "    ax_hist2.axvline(np.mean(feature), color = 'g', linestyle = '--')      # Add mean to the histogram\n",
        "    \n",
        "    ax_hist2.axvline(np.median(feature), color = 'black', linestyle = '-') # Add median to the histogram"
      ],
      "metadata": {
        "id": "YshSJ0fFOO3D"
      },
      "execution_count": 51,
      "outputs": []
    },
    {
      "cell_type": "code",
      "source": [
        "histogram_boxplot(data.Tern)"
      ],
      "metadata": {
        "colab": {
          "base_uri": "https://localhost:8080/",
          "height": 606
        },
        "id": "11tLfWKUPC14",
        "outputId": "ee0cae46-487f-4beb-b78a-0bfdb71bc712"
      },
      "execution_count": 52,
      "outputs": [
        {
          "output_type": "display_data",
          "data": {
            "text/plain": [
              "<Figure size 1080x720 with 2 Axes>"
            ],
            "image/png": "[encoded data removed]"
          },
          "metadata": {
            "needs_background": "light"
          }
        }
      ]
    },
    {
      "cell_type": "code",
      "source": [
        "histogram_boxplot(data.Thrush)"
      ],
      "metadata": {
        "colab": {
          "base_uri": "https://localhost:8080/",
          "height": 606
        },
        "id": "ec-qA-lRPHF4",
        "outputId": "f1d7a638-d782-49bc-f290-7f494bce4321"
      },
      "execution_count": 53,
      "outputs": [
        {
          "output_type": "display_data",
          "data": {
            "text/plain": [
              "<Figure size 1080x720 with 2 Axes>"
            ],
            "image/png": "[encoded data removed]"
          },
          "metadata": {
            "needs_background": "light"
          }
        }
      ]
    },
    {
      "cell_type": "code",
      "source": [
        "histogram_boxplot(data.Tick)"
      ],
      "metadata": {
        "colab": {
          "base_uri": "https://localhost:8080/",
          "height": 606
        },
        "id": "-YyA4SCMPoJv",
        "outputId": "274340b4-b8de-480f-ec9b-ff4f8f6c1fa5"
      },
      "execution_count": 54,
      "outputs": [
        {
          "output_type": "display_data",
          "data": {
            "text/plain": [
              "<Figure size 1080x720 with 2 Axes>"
            ],
            "image/png": "[encoded data removed]"
          },
          "metadata": {
            "needs_background": "light"
          }
        }
      ]
    },
    {
      "cell_type": "code",
      "source": [
        "histogram_boxplot(data.Tortoise)"
      ],
      "metadata": {
        "colab": {
          "base_uri": "https://localhost:8080/",
          "height": 606
        },
        "id": "oJ_Dtwg9PzNl",
        "outputId": "e9afb089-4be8-4fbd-8d90-b6057c8304da"
      },
      "execution_count": 55,
      "outputs": [
        {
          "output_type": "display_data",
          "data": {
            "text/plain": [
              "<Figure size 1080x720 with 2 Axes>"
            ],
            "image/png": "[encoded data removed]"
          },
          "metadata": {
            "needs_background": "light"
          }
        }
      ]
    },
    {
      "cell_type": "code",
      "source": [
        "histogram_boxplot(data.Trout)"
      ],
      "metadata": {
        "colab": {
          "base_uri": "https://localhost:8080/",
          "height": 606
        },
        "id": "8ibMPc14Py-O",
        "outputId": "7cfea104-7c76-4698-c796-e6d3d4d3c93e"
      },
      "execution_count": 56,
      "outputs": [
        {
          "output_type": "display_data",
          "data": {
            "text/plain": [
              "<Figure size 1080x720 with 2 Axes>"
            ],
            "image/png": "[encoded data removed]"
          },
          "metadata": {
            "needs_background": "light"
          }
        }
      ]
    },
    {
      "cell_type": "code",
      "source": [
        "histogram_boxplot(data.Tuna)"
      ],
      "metadata": {
        "colab": {
          "base_uri": "https://localhost:8080/",
          "height": 606
        },
        "id": "uWbkanKyPysH",
        "outputId": "0a4f43c9-ca0c-4337-f429-cdbdadb5907e"
      },
      "execution_count": 57,
      "outputs": [
        {
          "output_type": "display_data",
          "data": {
            "text/plain": [
              "<Figure size 1080x720 with 2 Axes>"
            ],
            "image/png": "[encoded data removed]"
          },
          "metadata": {
            "needs_background": "light"
          }
        }
      ]
    },
    {
      "cell_type": "code",
      "source": [
        "histogram_boxplot(data.Turkey)"
      ],
      "metadata": {
        "colab": {
          "base_uri": "https://localhost:8080/",
          "height": 606
        },
        "id": "C3FWvqTRPyZ5",
        "outputId": "101fc358-9f07-4f1c-cbac-1b7aa842206d"
      },
      "execution_count": 58,
      "outputs": [
        {
          "output_type": "display_data",
          "data": {
            "text/plain": [
              "<Figure size 1080x720 with 2 Axes>"
            ],
            "image/png": "[encoded data removed]"
          },
          "metadata": {
            "needs_background": "light"
          }
        }
      ]
    },
    {
      "cell_type": "code",
      "source": [
        "histogram_boxplot(data.Turtle)"
      ],
      "metadata": {
        "colab": {
          "base_uri": "https://localhost:8080/",
          "height": 606
        },
        "id": "RgbE5hZoPyJZ",
        "outputId": "d189ca83-ca49-4b12-8c19-c3672a1c4991"
      },
      "execution_count": 59,
      "outputs": [
        {
          "output_type": "display_data",
          "data": {
            "text/plain": [
              "<Figure size 1080x720 with 2 Axes>"
            ],
            "image/png": "[encoded data removed]"
          },
          "metadata": {
            "needs_background": "light"
          }
        }
      ]
    },
    {
      "cell_type": "code",
      "source": [
        "histogram_boxplot(data.Tyrannosaurus)"
      ],
      "metadata": {
        "colab": {
          "base_uri": "https://localhost:8080/",
          "height": 606
        },
        "id": "wTdezN3FPx7V",
        "outputId": "5eb240ea-ada3-4660-aa8f-57ad0b2d7392"
      },
      "execution_count": 60,
      "outputs": [
        {
          "output_type": "display_data",
          "data": {
            "text/plain": [
              "<Figure size 1080x720 with 2 Axes>"
            ],
            "image/png": "[encoded data removed]"
          },
          "metadata": {
            "needs_background": "light"
          }
        }
      ]
    },
    {
      "cell_type": "code",
      "source": [
        "histogram_boxplot(data.Viper)"
      ],
      "metadata": {
        "colab": {
          "base_uri": "https://localhost:8080/",
          "height": 606
        },
        "id": "osrPyC0APxrb",
        "outputId": "8693b2cc-6e9d-4d5b-8738-c2c22014877c"
      },
      "execution_count": 61,
      "outputs": [
        {
          "output_type": "display_data",
          "data": {
            "text/plain": [
              "<Figure size 1080x720 with 2 Axes>"
            ],
            "image/png": "[encoded data removed]"
          },
          "metadata": {
            "needs_background": "light"
          }
        }
      ]
    },
    {
      "cell_type": "code",
      "source": [
        "histogram_boxplot(data.Vole)"
      ],
      "metadata": {
        "colab": {
          "base_uri": "https://localhost:8080/",
          "height": 606
        },
        "id": "VdyROxl2PxeL",
        "outputId": "437cd0d7-469e-4cdb-97f3-447e8c5f9b27"
      },
      "execution_count": 62,
      "outputs": [
        {
          "output_type": "display_data",
          "data": {
            "text/plain": [
              "<Figure size 1080x720 with 2 Axes>"
            ],
            "image/png": "[encoded data removed]"
          },
          "metadata": {
            "needs_background": "light"
          }
        }
      ]
    },
    {
      "cell_type": "code",
      "source": [
        "histogram_boxplot(data.Wallaby)"
      ],
      "metadata": {
        "colab": {
          "base_uri": "https://localhost:8080/",
          "height": 606
        },
        "id": "mPN4BJe9PxMI",
        "outputId": "16f60821-074d-4008-a10a-b062d26dc955"
      },
      "execution_count": 63,
      "outputs": [
        {
          "output_type": "display_data",
          "data": {
            "text/plain": [
              "<Figure size 1080x720 with 2 Axes>"
            ],
            "image/png": "[encoded data removed]"
          },
          "metadata": {
            "needs_background": "light"
          }
        }
      ]
    },
    {
      "cell_type": "code",
      "source": [
        "histogram_boxplot(data.Walrus)"
      ],
      "metadata": {
        "colab": {
          "base_uri": "https://localhost:8080/",
          "height": 606
        },
        "id": "u5uag6_KPwxJ",
        "outputId": "f1ab6e9f-e8bf-494e-c1b0-2dc2284309b0"
      },
      "execution_count": 64,
      "outputs": [
        {
          "output_type": "display_data",
          "data": {
            "text/plain": [
              "<Figure size 1080x720 with 2 Axes>"
            ],
            "image/png": "[encoded data removed]"
          },
          "metadata": {
            "needs_background": "light"
          }
        }
      ]
    },
    {
      "cell_type": "code",
      "source": [
        "histogram_boxplot(data.Wasp)"
      ],
      "metadata": {
        "colab": {
          "base_uri": "https://localhost:8080/",
          "height": 606
        },
        "id": "pmuKGfkyPwag",
        "outputId": "835dba02-fafb-4d59-abe7-1b94c3c1a896"
      },
      "execution_count": 65,
      "outputs": [
        {
          "output_type": "display_data",
          "data": {
            "text/plain": [
              "<Figure size 1080x720 with 2 Axes>"
            ],
            "image/png": "[encoded data removed]"
          },
          "metadata": {
            "needs_background": "light"
          }
        }
      ]
    },
    {
      "cell_type": "code",
      "source": [
        "histogram_boxplot(data.Whale)"
      ],
      "metadata": {
        "colab": {
          "base_uri": "https://localhost:8080/",
          "height": 606
        },
        "id": "cuH5guyRPwFY",
        "outputId": "56fe8474-5f86-47c2-bf13-2d2e4681300b"
      },
      "execution_count": 66,
      "outputs": [
        {
          "output_type": "display_data",
          "data": {
            "text/plain": [
              "<Figure size 1080x720 with 2 Axes>"
            ],
            "image/png": "[encoded data removed]"
          },
          "metadata": {
            "needs_background": "light"
          }
        }
      ]
    },
    {
      "cell_type": "code",
      "source": [
        "histogram_boxplot(data.Whippet)"
      ],
      "metadata": {
        "colab": {
          "base_uri": "https://localhost:8080/",
          "height": 606
        },
        "id": "mlfLP0H-Pvwd",
        "outputId": "d846c36b-2f71-405b-ab28-541cc6ac9fcd"
      },
      "execution_count": 67,
      "outputs": [
        {
          "output_type": "display_data",
          "data": {
            "text/plain": [
              "<Figure size 1080x720 with 2 Axes>"
            ],
            "image/png": "[encoded data removed]"
          },
          "metadata": {
            "needs_background": "light"
          }
        }
      ]
    },
    {
      "cell_type": "code",
      "source": [
        "histogram_boxplot(data.Whitefish)"
      ],
      "metadata": {
        "colab": {
          "base_uri": "https://localhost:8080/",
          "height": 606
        },
        "id": "vZpg84jJPveQ",
        "outputId": "616b4b01-5189-44ec-fe88-82562b949dd5"
      },
      "execution_count": 68,
      "outputs": [
        {
          "output_type": "display_data",
          "data": {
            "text/plain": [
              "<Figure size 1080x720 with 2 Axes>"
            ],
            "image/png": "[encoded data removed]"
          },
          "metadata": {
            "needs_background": "light"
          }
        }
      ]
    },
    {
      "cell_type": "code",
      "source": [
        "histogram_boxplot(data.Wildcat)"
      ],
      "metadata": {
        "colab": {
          "base_uri": "https://localhost:8080/",
          "height": 606
        },
        "id": "XX9qPgTZPujf",
        "outputId": "a9dda17f-cbac-4bfd-f4fd-64dafde07b08"
      },
      "execution_count": 69,
      "outputs": [
        {
          "output_type": "display_data",
          "data": {
            "text/plain": [
              "<Figure size 1080x720 with 2 Axes>"
            ],
            "image/png": "[encoded data removed]"
          },
          "metadata": {
            "needs_background": "light"
          }
        }
      ]
    },
    {
      "cell_type": "code",
      "source": [
        "histogram_boxplot(data.Wildebeest)"
      ],
      "metadata": {
        "colab": {
          "base_uri": "https://localhost:8080/",
          "height": 606
        },
        "id": "QuCpVuFMPqzY",
        "outputId": "722ab53e-8acf-4614-aca0-61fe7237bb62"
      },
      "execution_count": 70,
      "outputs": [
        {
          "output_type": "display_data",
          "data": {
            "text/plain": [
              "<Figure size 1080x720 with 2 Axes>"
            ],
            "image/png": "[encoded data removed]"
          },
          "metadata": {
            "needs_background": "light"
          }
        }
      ]
    },
    {
      "cell_type": "markdown",
      "source": [],
      "metadata": {
        "id": "oXG9l25bQrPK"
      }
    },
    {
      "cell_type": "markdown",
      "source": [
        "Visualizing the Categorical variables."
      ],
      "metadata": {
        "id": "6VwoLRBdRIc8"
      }
    },
    {
      "cell_type": "code",
      "source": [
        "def bar_perc(data, z):\n",
        "    \n",
        "    total = len(data[z]) # Length of the column\n",
        "    \n",
        "    plt.figure(figsize = (35, 5))\n",
        "    \n",
        "    # plt.xticks(rotation = 45)\n",
        "    \n",
        "    ax = sns.countplot(data[z], palette = 'Paired')\n",
        "    \n",
        "    for p in ax.patches:\n",
        "        percentage = '{:.1f}%'.format(100 * p.get_height() / total) # Percentage of each class\n",
        "        \n",
        "        x = p.get_x() + p.get_width() / 2 - 0.05                    # Width of the plot\n",
        "        \n",
        "        y = p.get_y() + p.get_height()                              # Height of the plot\n",
        "        \n",
        "        ax.annotate(percentage, (x, y), size = 8)                  # Annotate the percentage \n",
        "        \n",
        "    plt.show()                                                      # Display the plot"
      ],
      "metadata": {
        "id": "srtCZRJ7QlMc"
      },
      "execution_count": 71,
      "outputs": []
    },
    {
      "cell_type": "code",
      "source": [
        "bar_perc(data, 'Tiger')"
      ],
      "metadata": {
        "colab": {
          "base_uri": "https://localhost:8080/",
          "height": 174
        },
        "id": "xD3lGW7dRpAC",
        "outputId": "f98ca6b1-55e8-4889-f0eb-f80d10c65bbd"
      },
      "execution_count": 72,
      "outputs": [
        {
          "output_type": "display_data",
          "data": {
            "text/plain": [
              "<Figure size 2520x360 with 1 Axes>"
            ],
            "image/png": "[encoded data removed]"
          },
          "metadata": {
            "needs_background": "light"
          }
        }
      ]
    },
    {
      "cell_type": "code",
      "source": [
        "bar_perc(data, 'Toad')"
      ],
      "metadata": {
        "colab": {
          "base_uri": "https://localhost:8080/",
          "height": 174
        },
        "id": "SSAK2JiERo54",
        "outputId": "d969bde1-328e-4b76-b86c-03ee1bedc2b5"
      },
      "execution_count": 73,
      "outputs": [
        {
          "output_type": "display_data",
          "data": {
            "text/plain": [
              "<Figure size 2520x360 with 1 Axes>"
            ],
            "image/png": "[encoded data removed]"
          },
          "metadata": {
            "needs_background": "light"
          }
        }
      ]
    },
    {
      "cell_type": "code",
      "source": [
        "bar_perc(data, 'Urial')"
      ],
      "metadata": {
        "colab": {
          "base_uri": "https://localhost:8080/",
          "height": 174
        },
        "id": "rYkZ0H3bRo0y",
        "outputId": "080d0ad4-3853-4b49-b12c-07e0dd655b7e"
      },
      "execution_count": 74,
      "outputs": [
        {
          "output_type": "display_data",
          "data": {
            "text/plain": [
              "<Figure size 2520x360 with 1 Axes>"
            ],
            "image/png": "[encoded data removed]"
          },
          "metadata": {
            "needs_background": "light"
          }
        }
      ]
    },
    {
      "cell_type": "code",
      "source": [
        "bar_perc(data, 'Vulture')"
      ],
      "metadata": {
        "colab": {
          "base_uri": "https://localhost:8080/",
          "height": 175
        },
        "id": "m5M5J8VNRouS",
        "outputId": "e2c137ba-8336-4506-adb2-ee1a4d6e695b"
      },
      "execution_count": 75,
      "outputs": [
        {
          "output_type": "display_data",
          "data": {
            "text/plain": [
              "<Figure size 2520x360 with 1 Axes>"
            ],
            "image/png": "[encoded data removed]"
          },
          "metadata": {
            "needs_background": "light"
          }
        }
      ]
    },
    {
      "cell_type": "code",
      "source": [
        "bar_perc(data, 'Warbler')"
      ],
      "metadata": {
        "colab": {
          "base_uri": "https://localhost:8080/",
          "height": 175
        },
        "id": "oOeFSysbRonQ",
        "outputId": "ae38b76b-e12a-4e44-fe5c-ac75c5559520"
      },
      "execution_count": 76,
      "outputs": [
        {
          "output_type": "display_data",
          "data": {
            "text/plain": [
              "<Figure size 2520x360 with 1 Axes>"
            ],
            "image/png": "[encoded data removed]"
          },
          "metadata": {
            "needs_background": "light"
          }
        }
      ]
    },
    {
      "cell_type": "code",
      "source": [
        "bar_perc(data, 'Weasel')"
      ],
      "metadata": {
        "colab": {
          "base_uri": "https://localhost:8080/",
          "height": 174
        },
        "id": "4ay4f5SdRogc",
        "outputId": "718c00e8-41ea-48bc-a3f7-901df083e616"
      },
      "execution_count": 77,
      "outputs": [
        {
          "output_type": "display_data",
          "data": {
            "text/plain": [
              "<Figure size 2520x360 with 1 Axes>"
            ],
            "image/png": "[encoded data removed]"
          },
          "metadata": {
            "needs_background": "light"
          }
        }
      ]
    },
    {
      "cell_type": "code",
      "source": [
        "bar_perc(data, 'Wildfowl')"
      ],
      "metadata": {
        "colab": {
          "base_uri": "https://localhost:8080/",
          "height": 174
        },
        "id": "FWYXfvrIRoaY",
        "outputId": "22958a21-8add-4fc5-cca3-459074823b34"
      },
      "execution_count": 78,
      "outputs": [
        {
          "output_type": "display_data",
          "data": {
            "text/plain": [
              "<Figure size 2520x360 with 1 Axes>"
            ],
            "image/png": "[encoded data removed]"
          },
          "metadata": {
            "needs_background": "light"
          }
        }
      ]
    },
    {
      "cell_type": "code",
      "source": [
        "bar_perc(data, 'Wolf')"
      ],
      "metadata": {
        "colab": {
          "base_uri": "https://localhost:8080/",
          "height": 354
        },
        "id": "CepiQUpjRnyC",
        "outputId": "f9c619c0-c7cc-41a2-baf6-7a33f165b32d"
      },
      "execution_count": 79,
      "outputs": [
        {
          "output_type": "display_data",
          "data": {
            "text/plain": [
              "<Figure size 2520x360 with 1 Axes>"
            ],
            "image/png": "[encoded data removed]"
          },
          "metadata": {
            "needs_background": "light"
          }
        }
      ]
    },
    {
      "cell_type": "code",
      "source": [
        "bar_perc(data, 'Wolverine')"
      ],
      "metadata": {
        "colab": {
          "base_uri": "https://localhost:8080/",
          "height": 354
        },
        "id": "JalJBjwhRnnY",
        "outputId": "e5c01a58-1498-4490-c0f5-f6bb11cf033c"
      },
      "execution_count": 80,
      "outputs": [
        {
          "output_type": "display_data",
          "data": {
            "text/plain": [
              "<Figure size 2520x360 with 1 Axes>"
            ],
            "image/png": "[encoded data removed]"
          },
          "metadata": {
            "needs_background": "light"
          }
        }
      ]
    },
    {
      "cell_type": "code",
      "source": [
        "bar_perc(data, 'target')"
      ],
      "metadata": {
        "colab": {
          "base_uri": "https://localhost:8080/",
          "height": 174
        },
        "id": "TOxSkuJ3Rna8",
        "outputId": "5f5629df-a68b-49ef-cf5e-19fd181c2760"
      },
      "execution_count": 81,
      "outputs": [
        {
          "output_type": "display_data",
          "data": {
            "text/plain": [
              "<Figure size 2520x360 with 1 Axes>"
            ],
            "image/png": "[encoded data removed]"
          },
          "metadata": {
            "needs_background": "light"
          }
        }
      ]
    },
    {
      "cell_type": "markdown",
      "source": [
        "Multivariate Analysis: Using Correlation"
      ],
      "metadata": {
        "id": "IerczHYy4A1t"
      }
    },
    {
      "cell_type": "code",
      "source": [
        "# Check for correlation among numerical variables\n",
        "\n",
        "num_var = ['Tern', 'Thrush', 'Tick', 'Tortoise', 'Trout', 'Tuna', 'Turkey', 'Turtle', \n",
        "           'Tyrannosaurus', 'Viper', 'Vole', 'Wallaby', 'Walrus', 'Wasp', 'Whale', 'Whippet',\n",
        "           'Whitefish', 'Wildcat', 'Wildebeest']\n",
        "\n",
        "corr = data[num_var].corr()\n",
        "\n",
        "# Plot the heatmap\n",
        "\n",
        "plt.figure(figsize = (14, 10))\n",
        "\n",
        "sns.heatmap(corr, annot = True, cmap = 'coolwarm',\n",
        "            \n",
        "        fmt = \".2f\",\n",
        "            \n",
        "        xticklabels = corr.columns,\n",
        "            \n",
        "        yticklabels = corr.columns)"
      ],
      "metadata": {
        "colab": {
          "base_uri": "https://localhost:8080/",
          "height": 676
        },
        "id": "8Os3_5A3VlN3",
        "outputId": "0b6d32b7-57cb-48c7-dd3d-115a4d5076b5"
      },
      "execution_count": 82,
      "outputs": [
        {
          "output_type": "execute_result",
          "data": {
            "text/plain": [
              "<matplotlib.axes._subplots.AxesSubplot at 0x7f14fa254350>"
            ]
          },
          "metadata": {},
          "execution_count": 82
        },
        {
          "output_type": "display_data",
          "data": {
            "text/plain": [
              "<Figure size 1008x720 with 2 Axes>"
            ],
            "image/png": "[encoded data removed]"
          },
          "metadata": {
            "needs_background": "light"
          }
        }
      ]
    },
    {
      "cell_type": "markdown",
      "source": [
        "\n",
        "\n",
        "1.   Trout is seen to be highly negatively correlated with Tick and Tortoise.\n",
        "2.   Viper has positive correlations with Tick and Tortoise but negatively correlated with Trout.\n",
        "3.   Turkey is been observed to be positively correlated to Tick and Tortoise.\n",
        "\n",
        "\n",
        "\n"
      ],
      "metadata": {
        "id": "-4IVuOZH_s8E"
      }
    },
    {
      "cell_type": "code",
      "source": [
        "# sns.pairplot(df[num_var], corner = True)\n",
        "\n",
        "# plt.show()"
      ],
      "metadata": {
        "id": "dwTUSGDh8bKb"
      },
      "execution_count": 83,
      "outputs": []
    },
    {
      "cell_type": "code",
      "source": [
        "Y = data.target\n",
        "X = data.drop(columns = ['target'])\n",
        "test_actual_target = test.target\n",
        "test_features= test.drop(columns= ['target'])\n",
        "# test_actual_target = test.target"
      ],
      "metadata": {
        "id": "xoUFgNXwbrD2"
      },
      "execution_count": 84,
      "outputs": []
    },
    {
      "cell_type": "code",
      "source": [
        "X.shape"
      ],
      "metadata": {
        "colab": {
          "base_uri": "https://localhost:8080/"
        },
        "id": "qD4mttIz-Exb",
        "outputId": "4e8cff59-26c0-4d5e-b49b-7668629bbaa3"
      },
      "execution_count": 85,
      "outputs": [
        {
          "output_type": "execute_result",
          "data": {
            "text/plain": [
              "(6777, 28)"
            ]
          },
          "metadata": {},
          "execution_count": 85
        }
      ]
    },
    {
      "cell_type": "code",
      "source": [
        "test_features.shape"
      ],
      "metadata": {
        "colab": {
          "base_uri": "https://localhost:8080/"
        },
        "id": "-CUS3fhV9_ap",
        "outputId": "94be85f1-0f05-4ead-a727-99117ef9b0f1"
      },
      "execution_count": 86,
      "outputs": [
        {
          "output_type": "execute_result",
          "data": {
            "text/plain": [
              "(1031, 28)"
            ]
          },
          "metadata": {},
          "execution_count": 86
        }
      ]
    },
    {
      "cell_type": "code",
      "source": [
        "to_get_dummies_for = ['Tiger', 'Toad', 'Urial', 'Vulture', 'Warbler', 'Weasel', 'Wildfowl','Wolf',\n",
        "            'Wolverine']\n",
        "for i in to_get_dummies_for:\n",
        "  X[i] = pd.factorize(X[i])[0]"
      ],
      "metadata": {
        "id": "mJ3QbYmnCUkb"
      },
      "execution_count": 87,
      "outputs": []
    },
    {
      "cell_type": "code",
      "source": [
        "X.head()"
      ],
      "metadata": {
        "colab": {
          "base_uri": "https://localhost:8080/",
          "height": 299
        },
        "id": "XmTDaMytDDHO",
        "outputId": "f5854f0d-18a8-4b9b-da08-8d15a2af319e"
      },
      "execution_count": 88,
      "outputs": [
        {
          "output_type": "execute_result",
          "data": {
            "text/plain": [
              "            Tern     Thrush      Tick  Tiger  Toad   Tortoise       Trout  \\\n",
              "0 -253077.772390 -49.659246 -0.679765      0     0 -12.055165 -463.332642   \n",
              "1  380192.123132 -49.659246 -1.356456      0     0 -30.235998 -388.822813   \n",
              "2 -218627.876963 -49.659246 -0.542194      0     0 -10.443575 -519.014942   \n",
              "4 -169250.190006 -49.659246 -0.600561      0     0 -10.269902 -455.225099   \n",
              "5  -68161.820081 -49.659246 -0.882380      0     0 -16.547101 -407.422566   \n",
              "\n",
              "           Tuna        Turkey        Turtle  ...  Warbler  Weasel  \\\n",
              "0 -41860.419322  3.256739e+05 -4.542838e+11  ...        0       0   \n",
              "1 -94810.029959  1.154421e+03 -3.356728e+12  ...        1       1   \n",
              "2 -46075.931683  2.248867e+06 -1.671217e+11  ...        2       0   \n",
              "4 -41390.990681  2.689196e+05 -5.327237e+17  ...        3       0   \n",
              "5 -43057.245834  1.826905e+05 -1.671217e+11  ...        4       1   \n",
              "\n",
              "          Whale   Whippet     Whitefish      Wildcat  Wildebeest  Wildfowl  \\\n",
              "0 -3.297065e+06 -0.974495 -3.536578e+07  -395.159010    0.021952         0   \n",
              "1 -1.043690e+06 -1.342061 -3.536549e+07   609.332121    0.269383         0   \n",
              "2  4.892868e+06 -1.335934 -3.536456e+07  1175.536902    0.341417         0   \n",
              "4 -1.801627e+05 -1.341853 -3.536321e+07  -346.856580   -0.250332         0   \n",
              "5 -6.839139e+05 -1.337109 -3.536274e+07  -115.853672   -0.432992         0   \n",
              "\n",
              "   Wolf  Wolverine  \n",
              "0     0          0  \n",
              "1     1          1  \n",
              "2     2          2  \n",
              "4     3          3  \n",
              "5     0          1  \n",
              "\n",
              "[5 rows x 28 columns]"
            ],
            "text/html": [
              "\n",
              "  <div id=\"df-e9af2e4e-837d-4aed-905c-558694e51e45\">\n",
              "    <div class=\"colab-df-container\">\n",
              "      <div>\n",
              "<style scoped>\n",
              "    .dataframe tbody tr th:only-of-type {\n",
              "        vertical-align: middle;\n",
              "    }\n",
              "\n",
              "    .dataframe tbody tr th {\n",
              "        vertical-align: top;\n",
              "    }\n",
              "\n",
              "    .dataframe thead th {\n",
              "        text-align: right;\n",
              "    }\n",
              "</style>\n",
              "<table border=\"1\" class=\"dataframe\">\n",
              "  <thead>\n",
              "    <tr style=\"text-align: right;\">\n",
              "      <th></th>\n",
              "      <th>Tern</th>\n",
              "      <th>Thrush</th>\n",
              "      <th>Tick</th>\n",
              "      <th>Tiger</th>\n",
              "      <th>Toad</th>\n",
              "      <th>Tortoise</th>\n",
              "      <th>Trout</th>\n",
              "      <th>Tuna</th>\n",
              "      <th>Turkey</th>\n",
              "      <th>Turtle</th>\n",
              "      <th>...</th>\n",
              "      <th>Warbler</th>\n",
              "      <th>Weasel</th>\n",
              "      <th>Whale</th>\n",
              "      <th>Whippet</th>\n",
              "      <th>Whitefish</th>\n",
              "      <th>Wildcat</th>\n",
              "      <th>Wildebeest</th>\n",
              "      <th>Wildfowl</th>\n",
              "      <th>Wolf</th>\n",
              "      <th>Wolverine</th>\n",
              "    </tr>\n",
              "  </thead>\n",
              "  <tbody>\n",
              "    <tr>\n",
              "      <th>0</th>\n",
              "      <td>-253077.772390</td>\n",
              "      <td>-49.659246</td>\n",
              "      <td>-0.679765</td>\n",
              "      <td>0</td>\n",
              "      <td>0</td>\n",
              "      <td>-12.055165</td>\n",
              "      <td>-463.332642</td>\n",
              "      <td>-41860.419322</td>\n",
              "      <td>3.256739e+05</td>\n",
              "      <td>-4.542838e+11</td>\n",
              "      <td>...</td>\n",
              "      <td>0</td>\n",
              "      <td>0</td>\n",
              "      <td>-3.297065e+06</td>\n",
              "      <td>-0.974495</td>\n",
              "      <td>-3.536578e+07</td>\n",
              "      <td>-395.159010</td>\n",
              "      <td>0.021952</td>\n",
              "      <td>0</td>\n",
              "      <td>0</td>\n",
              "      <td>0</td>\n",
              "    </tr>\n",
              "    <tr>\n",
              "      <th>1</th>\n",
              "      <td>380192.123132</td>\n",
              "      <td>-49.659246</td>\n",
              "      <td>-1.356456</td>\n",
              "      <td>0</td>\n",
              "      <td>0</td>\n",
              "      <td>-30.235998</td>\n",
              "      <td>-388.822813</td>\n",
              "      <td>-94810.029959</td>\n",
              "      <td>1.154421e+03</td>\n",
              "      <td>-3.356728e+12</td>\n",
              "      <td>...</td>\n",
              "      <td>1</td>\n",
              "      <td>1</td>\n",
              "      <td>-1.043690e+06</td>\n",
              "      <td>-1.342061</td>\n",
              "      <td>-3.536549e+07</td>\n",
              "      <td>609.332121</td>\n",
              "      <td>0.269383</td>\n",
              "      <td>0</td>\n",
              "      <td>1</td>\n",
              "      <td>1</td>\n",
              "    </tr>\n",
              "    <tr>\n",
              "      <th>2</th>\n",
              "      <td>-218627.876963</td>\n",
              "      <td>-49.659246</td>\n",
              "      <td>-0.542194</td>\n",
              "      <td>0</td>\n",
              "      <td>0</td>\n",
              "      <td>-10.443575</td>\n",
              "      <td>-519.014942</td>\n",
              "      <td>-46075.931683</td>\n",
              "      <td>2.248867e+06</td>\n",
              "      <td>-1.671217e+11</td>\n",
              "      <td>...</td>\n",
              "      <td>2</td>\n",
              "      <td>0</td>\n",
              "      <td>4.892868e+06</td>\n",
              "      <td>-1.335934</td>\n",
              "      <td>-3.536456e+07</td>\n",
              "      <td>1175.536902</td>\n",
              "      <td>0.341417</td>\n",
              "      <td>0</td>\n",
              "      <td>2</td>\n",
              "      <td>2</td>\n",
              "    </tr>\n",
              "    <tr>\n",
              "      <th>4</th>\n",
              "      <td>-169250.190006</td>\n",
              "      <td>-49.659246</td>\n",
              "      <td>-0.600561</td>\n",
              "      <td>0</td>\n",
              "      <td>0</td>\n",
              "      <td>-10.269902</td>\n",
              "      <td>-455.225099</td>\n",
              "      <td>-41390.990681</td>\n",
              "      <td>2.689196e+05</td>\n",
              "      <td>-5.327237e+17</td>\n",
              "      <td>...</td>\n",
              "      <td>3</td>\n",
              "      <td>0</td>\n",
              "      <td>-1.801627e+05</td>\n",
              "      <td>-1.341853</td>\n",
              "      <td>-3.536321e+07</td>\n",
              "      <td>-346.856580</td>\n",
              "      <td>-0.250332</td>\n",
              "      <td>0</td>\n",
              "      <td>3</td>\n",
              "      <td>3</td>\n",
              "    </tr>\n",
              "    <tr>\n",
              "      <th>5</th>\n",
              "      <td>-68161.820081</td>\n",
              "      <td>-49.659246</td>\n",
              "      <td>-0.882380</td>\n",
              "      <td>0</td>\n",
              "      <td>0</td>\n",
              "      <td>-16.547101</td>\n",
              "      <td>-407.422566</td>\n",
              "      <td>-43057.245834</td>\n",
              "      <td>1.826905e+05</td>\n",
              "      <td>-1.671217e+11</td>\n",
              "      <td>...</td>\n",
              "      <td>4</td>\n",
              "      <td>1</td>\n",
              "      <td>-6.839139e+05</td>\n",
              "      <td>-1.337109</td>\n",
              "      <td>-3.536274e+07</td>\n",
              "      <td>-115.853672</td>\n",
              "      <td>-0.432992</td>\n",
              "      <td>0</td>\n",
              "      <td>0</td>\n",
              "      <td>1</td>\n",
              "    </tr>\n",
              "  </tbody>\n",
              "</table>\n",
              "<p>5 rows × 28 columns</p>\n",
              "</div>\n",
              "      <button class=\"colab-df-convert\" onclick=\"convertToInteractive('df-e9af2e4e-837d-4aed-905c-558694e51e45')\"\n",
              "              title=\"Convert this dataframe to an interactive table.\"\n",
              "              style=\"display:none;\">\n",
              "        \n",
              "  <svg xmlns=\"http://www.w3.org/2000/svg\" height=\"24px\"viewBox=\"0 0 24 24\"\n",
              "       width=\"24px\">\n",
              "    <path d=\"M0 0h24v24H0V0z\" fill=\"none\"/>\n",
              "    <path d=\"M18.56 5.44l.94 2.06.94-2.06 2.06-.94-2.06-.94-.94-2.06-.94 2.06-2.06.94zm-11 1L8.5 8.5l.94-2.06 2.06-.94-2.06-.94L8.5 2.5l-.94 2.06-2.06.94zm10 10l.94 2.06.94-2.06 2.06-.94-2.06-.94-.94-2.06-.94 2.06-2.06.94z\"/><path d=\"M17.41 7.96l-1.37-1.37c-.4-.4-.92-.59-1.43-.59-.52 0-1.04.2-1.43.59L10.3 9.45l-7.72 7.72c-.78.78-.78 2.05 0 2.83L4 21.41c.39.39.9.59 1.41.59.51 0 1.02-.2 1.41-.59l7.78-7.78 2.81-2.81c.8-.78.8-2.07 0-2.86zM5.41 20L4 18.59l7.72-7.72 1.47 1.35L5.41 20z\"/>\n",
              "  </svg>\n",
              "      </button>\n",
              "      \n",
              "  <style>\n",
              "    .colab-df-container {\n",
              "      display:flex;\n",
              "      flex-wrap:wrap;\n",
              "      gap: 12px;\n",
              "    }\n",
              "\n",
              "    .colab-df-convert {\n",
              "      background-color: #E8F0FE;\n",
              "      border: none;\n",
              "      border-radius: 50%;\n",
              "      cursor: pointer;\n",
              "      display: none;\n",
              "      fill: #1967D2;\n",
              "      height: 32px;\n",
              "      padding: 0 0 0 0;\n",
              "      width: 32px;\n",
              "    }\n",
              "\n",
              "    .colab-df-convert:hover {\n",
              "      background-color: #E2EBFA;\n",
              "      box-shadow: 0px 1px 2px rgba(60, 64, 67, 0.3), 0px 1px 3px 1px rgba(60, 64, 67, 0.15);\n",
              "      fill: #174EA6;\n",
              "    }\n",
              "\n",
              "    [theme=dark] .colab-df-convert {\n",
              "      background-color: #3B4455;\n",
              "      fill: #D2E3FC;\n",
              "    }\n",
              "\n",
              "    [theme=dark] .colab-df-convert:hover {\n",
              "      background-color: #434B5C;\n",
              "      box-shadow: 0px 1px 3px 1px rgba(0, 0, 0, 0.15);\n",
              "      filter: drop-shadow(0px 1px 2px rgba(0, 0, 0, 0.3));\n",
              "      fill: #FFFFFF;\n",
              "    }\n",
              "  </style>\n",
              "\n",
              "      <script>\n",
              "        const buttonEl =\n",
              "          document.querySelector('#df-e9af2e4e-837d-4aed-905c-558694e51e45 button.colab-df-convert');\n",
              "        buttonEl.style.display =\n",
              "          google.colab.kernel.accessAllowed ? 'block' : 'none';\n",
              "\n",
              "        async function convertToInteractive(key) {\n",
              "          const element = document.querySelector('#df-e9af2e4e-837d-4aed-905c-558694e51e45');\n",
              "          const dataTable =\n",
              "            await google.colab.kernel.invokeFunction('convertToInteractive',\n",
              "                                                     [key], {});\n",
              "          if (!dataTable) return;\n",
              "\n",
              "          const docLinkHtml = 'Like what you see? Visit the ' +\n",
              "            '<a target=\"_blank\" href=https://colab.research.google.com/notebooks/data_table.ipynb>data table notebook</a>'\n",
              "            + ' to learn more about interactive tables.';\n",
              "          element.innerHTML = '';\n",
              "          dataTable['output_type'] = 'display_data';\n",
              "          await google.colab.output.renderOutput(dataTable, element);\n",
              "          const docLink = document.createElement('div');\n",
              "          docLink.innerHTML = docLinkHtml;\n",
              "          element.appendChild(docLink);\n",
              "        }\n",
              "      </script>\n",
              "    </div>\n",
              "  </div>\n",
              "  "
            ]
          },
          "metadata": {},
          "execution_count": 88
        }
      ]
    },
    {
      "cell_type": "code",
      "source": [
        "for i in to_get_dummies_for:\n",
        "  test_features[i] = pd.factorize(test_features[i])[0]"
      ],
      "metadata": {
        "id": "VqO7mxk3DMxW"
      },
      "execution_count": 89,
      "outputs": []
    },
    {
      "cell_type": "code",
      "source": [
        "test_features.head()"
      ],
      "metadata": {
        "colab": {
          "base_uri": "https://localhost:8080/",
          "height": 299
        },
        "id": "DeiS9g9iDWdm",
        "outputId": "12f4f1aa-f677-4934-e23c-0ae269ede58b"
      },
      "execution_count": 90,
      "outputs": [
        {
          "output_type": "execute_result",
          "data": {
            "text/plain": [
              "            Tern     Thrush      Tick  Tiger  Toad   Tortoise       Trout  \\\n",
              "0   10037.569173 -49.659246 -1.136071      0     0 -26.668479 -416.498726   \n",
              "1  309793.427988 -49.659246 -0.405625      0     1  -9.135203 -504.070169   \n",
              "2 -211799.890072 -49.659246 -1.264768      0     1 -33.497916 -369.689046   \n",
              "3  126491.946464 -49.659246 -0.657188      0     1 -13.408124 -474.511672   \n",
              "4 -263898.558134 -49.659246 -0.806868      0     0 -16.425848 -426.317969   \n",
              "\n",
              "           Tuna        Turkey        Turtle  ...  Warbler  Weasel  \\\n",
              "0 -68609.347455  9.545921e+04 -3.680482e+15  ...        0       0   \n",
              "1 -39477.100060  1.993753e+06 -1.671217e+11  ...        1       1   \n",
              "2  -8971.914423  5.490111e+04 -3.356728e+12  ...        2       0   \n",
              "3  -2781.100939  1.906031e+05 -2.261746e+10  ...        3       1   \n",
              "4 -43766.391718  1.533545e+05 -6.148062e+10  ...        4       0   \n",
              "\n",
              "          Whale   Whippet     Whitefish     Wildcat  Wildebeest  Wildfowl  \\\n",
              "0 -1.654323e+06 -1.342072 -3.528056e+07   64.911670   -0.314766         0   \n",
              "1 -3.070990e+06 -1.340854 -3.528065e+07  -12.327810    0.836566         0   \n",
              "2  2.571013e+05 -1.305239 -3.528212e+07  -65.275581    0.405433         0   \n",
              "3 -3.562542e+06 -1.295844 -3.527862e+07 -131.275734    0.076052         0   \n",
              "4 -1.329357e+06 -1.341364 -3.528261e+07  389.990411   -0.341824         0   \n",
              "\n",
              "   Wolf  Wolverine  \n",
              "0     0          0  \n",
              "1     1          1  \n",
              "2     2          0  \n",
              "3     1          2  \n",
              "4     2          3  \n",
              "\n",
              "[5 rows x 28 columns]"
            ],
            "text/html": [
              "\n",
              "  <div id=\"df-54f8b018-a5d3-4e79-958e-0a38e9e0817c\">\n",
              "    <div class=\"colab-df-container\">\n",
              "      <div>\n",
              "<style scoped>\n",
              "    .dataframe tbody tr th:only-of-type {\n",
              "        vertical-align: middle;\n",
              "    }\n",
              "\n",
              "    .dataframe tbody tr th {\n",
              "        vertical-align: top;\n",
              "    }\n",
              "\n",
              "    .dataframe thead th {\n",
              "        text-align: right;\n",
              "    }\n",
              "</style>\n",
              "<table border=\"1\" class=\"dataframe\">\n",
              "  <thead>\n",
              "    <tr style=\"text-align: right;\">\n",
              "      <th></th>\n",
              "      <th>Tern</th>\n",
              "      <th>Thrush</th>\n",
              "      <th>Tick</th>\n",
              "      <th>Tiger</th>\n",
              "      <th>Toad</th>\n",
              "      <th>Tortoise</th>\n",
              "      <th>Trout</th>\n",
              "      <th>Tuna</th>\n",
              "      <th>Turkey</th>\n",
              "      <th>Turtle</th>\n",
              "      <th>...</th>\n",
              "      <th>Warbler</th>\n",
              "      <th>Weasel</th>\n",
              "      <th>Whale</th>\n",
              "      <th>Whippet</th>\n",
              "      <th>Whitefish</th>\n",
              "      <th>Wildcat</th>\n",
              "      <th>Wildebeest</th>\n",
              "      <th>Wildfowl</th>\n",
              "      <th>Wolf</th>\n",
              "      <th>Wolverine</th>\n",
              "    </tr>\n",
              "  </thead>\n",
              "  <tbody>\n",
              "    <tr>\n",
              "      <th>0</th>\n",
              "      <td>10037.569173</td>\n",
              "      <td>-49.659246</td>\n",
              "      <td>-1.136071</td>\n",
              "      <td>0</td>\n",
              "      <td>0</td>\n",
              "      <td>-26.668479</td>\n",
              "      <td>-416.498726</td>\n",
              "      <td>-68609.347455</td>\n",
              "      <td>9.545921e+04</td>\n",
              "      <td>-3.680482e+15</td>\n",
              "      <td>...</td>\n",
              "      <td>0</td>\n",
              "      <td>0</td>\n",
              "      <td>-1.654323e+06</td>\n",
              "      <td>-1.342072</td>\n",
              "      <td>-3.528056e+07</td>\n",
              "      <td>64.911670</td>\n",
              "      <td>-0.314766</td>\n",
              "      <td>0</td>\n",
              "      <td>0</td>\n",
              "      <td>0</td>\n",
              "    </tr>\n",
              "    <tr>\n",
              "      <th>1</th>\n",
              "      <td>309793.427988</td>\n",
              "      <td>-49.659246</td>\n",
              "      <td>-0.405625</td>\n",
              "      <td>0</td>\n",
              "      <td>1</td>\n",
              "      <td>-9.135203</td>\n",
              "      <td>-504.070169</td>\n",
              "      <td>-39477.100060</td>\n",
              "      <td>1.993753e+06</td>\n",
              "      <td>-1.671217e+11</td>\n",
              "      <td>...</td>\n",
              "      <td>1</td>\n",
              "      <td>1</td>\n",
              "      <td>-3.070990e+06</td>\n",
              "      <td>-1.340854</td>\n",
              "      <td>-3.528065e+07</td>\n",
              "      <td>-12.327810</td>\n",
              "      <td>0.836566</td>\n",
              "      <td>0</td>\n",
              "      <td>1</td>\n",
              "      <td>1</td>\n",
              "    </tr>\n",
              "    <tr>\n",
              "      <th>2</th>\n",
              "      <td>-211799.890072</td>\n",
              "      <td>-49.659246</td>\n",
              "      <td>-1.264768</td>\n",
              "      <td>0</td>\n",
              "      <td>1</td>\n",
              "      <td>-33.497916</td>\n",
              "      <td>-369.689046</td>\n",
              "      <td>-8971.914423</td>\n",
              "      <td>5.490111e+04</td>\n",
              "      <td>-3.356728e+12</td>\n",
              "      <td>...</td>\n",
              "      <td>2</td>\n",
              "      <td>0</td>\n",
              "      <td>2.571013e+05</td>\n",
              "      <td>-1.305239</td>\n",
              "      <td>-3.528212e+07</td>\n",
              "      <td>-65.275581</td>\n",
              "      <td>0.405433</td>\n",
              "      <td>0</td>\n",
              "      <td>2</td>\n",
              "      <td>0</td>\n",
              "    </tr>\n",
              "    <tr>\n",
              "      <th>3</th>\n",
              "      <td>126491.946464</td>\n",
              "      <td>-49.659246</td>\n",
              "      <td>-0.657188</td>\n",
              "      <td>0</td>\n",
              "      <td>1</td>\n",
              "      <td>-13.408124</td>\n",
              "      <td>-474.511672</td>\n",
              "      <td>-2781.100939</td>\n",
              "      <td>1.906031e+05</td>\n",
              "      <td>-2.261746e+10</td>\n",
              "      <td>...</td>\n",
              "      <td>3</td>\n",
              "      <td>1</td>\n",
              "      <td>-3.562542e+06</td>\n",
              "      <td>-1.295844</td>\n",
              "      <td>-3.527862e+07</td>\n",
              "      <td>-131.275734</td>\n",
              "      <td>0.076052</td>\n",
              "      <td>0</td>\n",
              "      <td>1</td>\n",
              "      <td>2</td>\n",
              "    </tr>\n",
              "    <tr>\n",
              "      <th>4</th>\n",
              "      <td>-263898.558134</td>\n",
              "      <td>-49.659246</td>\n",
              "      <td>-0.806868</td>\n",
              "      <td>0</td>\n",
              "      <td>0</td>\n",
              "      <td>-16.425848</td>\n",
              "      <td>-426.317969</td>\n",
              "      <td>-43766.391718</td>\n",
              "      <td>1.533545e+05</td>\n",
              "      <td>-6.148062e+10</td>\n",
              "      <td>...</td>\n",
              "      <td>4</td>\n",
              "      <td>0</td>\n",
              "      <td>-1.329357e+06</td>\n",
              "      <td>-1.341364</td>\n",
              "      <td>-3.528261e+07</td>\n",
              "      <td>389.990411</td>\n",
              "      <td>-0.341824</td>\n",
              "      <td>0</td>\n",
              "      <td>2</td>\n",
              "      <td>3</td>\n",
              "    </tr>\n",
              "  </tbody>\n",
              "</table>\n",
              "<p>5 rows × 28 columns</p>\n",
              "</div>\n",
              "      <button class=\"colab-df-convert\" onclick=\"convertToInteractive('df-54f8b018-a5d3-4e79-958e-0a38e9e0817c')\"\n",
              "              title=\"Convert this dataframe to an interactive table.\"\n",
              "              style=\"display:none;\">\n",
              "        \n",
              "  <svg xmlns=\"http://www.w3.org/2000/svg\" height=\"24px\"viewBox=\"0 0 24 24\"\n",
              "       width=\"24px\">\n",
              "    <path d=\"M0 0h24v24H0V0z\" fill=\"none\"/>\n",
              "    <path d=\"M18.56 5.44l.94 2.06.94-2.06 2.06-.94-2.06-.94-.94-2.06-.94 2.06-2.06.94zm-11 1L8.5 8.5l.94-2.06 2.06-.94-2.06-.94L8.5 2.5l-.94 2.06-2.06.94zm10 10l.94 2.06.94-2.06 2.06-.94-2.06-.94-.94-2.06-.94 2.06-2.06.94z\"/><path d=\"M17.41 7.96l-1.37-1.37c-.4-.4-.92-.59-1.43-.59-.52 0-1.04.2-1.43.59L10.3 9.45l-7.72 7.72c-.78.78-.78 2.05 0 2.83L4 21.41c.39.39.9.59 1.41.59.51 0 1.02-.2 1.41-.59l7.78-7.78 2.81-2.81c.8-.78.8-2.07 0-2.86zM5.41 20L4 18.59l7.72-7.72 1.47 1.35L5.41 20z\"/>\n",
              "  </svg>\n",
              "      </button>\n",
              "      \n",
              "  <style>\n",
              "    .colab-df-container {\n",
              "      display:flex;\n",
              "      flex-wrap:wrap;\n",
              "      gap: 12px;\n",
              "    }\n",
              "\n",
              "    .colab-df-convert {\n",
              "      background-color: #E8F0FE;\n",
              "      border: none;\n",
              "      border-radius: 50%;\n",
              "      cursor: pointer;\n",
              "      display: none;\n",
              "      fill: #1967D2;\n",
              "      height: 32px;\n",
              "      padding: 0 0 0 0;\n",
              "      width: 32px;\n",
              "    }\n",
              "\n",
              "    .colab-df-convert:hover {\n",
              "      background-color: #E2EBFA;\n",
              "      box-shadow: 0px 1px 2px rgba(60, 64, 67, 0.3), 0px 1px 3px 1px rgba(60, 64, 67, 0.15);\n",
              "      fill: #174EA6;\n",
              "    }\n",
              "\n",
              "    [theme=dark] .colab-df-convert {\n",
              "      background-color: #3B4455;\n",
              "      fill: #D2E3FC;\n",
              "    }\n",
              "\n",
              "    [theme=dark] .colab-df-convert:hover {\n",
              "      background-color: #434B5C;\n",
              "      box-shadow: 0px 1px 3px 1px rgba(0, 0, 0, 0.15);\n",
              "      filter: drop-shadow(0px 1px 2px rgba(0, 0, 0, 0.3));\n",
              "      fill: #FFFFFF;\n",
              "    }\n",
              "  </style>\n",
              "\n",
              "      <script>\n",
              "        const buttonEl =\n",
              "          document.querySelector('#df-54f8b018-a5d3-4e79-958e-0a38e9e0817c button.colab-df-convert');\n",
              "        buttonEl.style.display =\n",
              "          google.colab.kernel.accessAllowed ? 'block' : 'none';\n",
              "\n",
              "        async function convertToInteractive(key) {\n",
              "          const element = document.querySelector('#df-54f8b018-a5d3-4e79-958e-0a38e9e0817c');\n",
              "          const dataTable =\n",
              "            await google.colab.kernel.invokeFunction('convertToInteractive',\n",
              "                                                     [key], {});\n",
              "          if (!dataTable) return;\n",
              "\n",
              "          const docLinkHtml = 'Like what you see? Visit the ' +\n",
              "            '<a target=\"_blank\" href=https://colab.research.google.com/notebooks/data_table.ipynb>data table notebook</a>'\n",
              "            + ' to learn more about interactive tables.';\n",
              "          element.innerHTML = '';\n",
              "          dataTable['output_type'] = 'display_data';\n",
              "          await google.colab.output.renderOutput(dataTable, element);\n",
              "          const docLink = document.createElement('div');\n",
              "          docLink.innerHTML = docLinkHtml;\n",
              "          element.appendChild(docLink);\n",
              "        }\n",
              "      </script>\n",
              "    </div>\n",
              "  </div>\n",
              "  "
            ]
          },
          "metadata": {},
          "execution_count": 90
        }
      ]
    },
    {
      "cell_type": "markdown",
      "source": [
        "Using the concatenation and then dummies."
      ],
      "metadata": {
        "id": "27skaOGDUufK"
      }
    },
    {
      "cell_type": "code",
      "source": [
        "X['train'] =1\n",
        "test_features['train'] =0\n"
      ],
      "metadata": {
        "id": "5Ta-GWiLUttY"
      },
      "execution_count": 91,
      "outputs": []
    },
    {
      "cell_type": "code",
      "source": [
        "combined = pd.concat([X, test_features])\n",
        "df_new = pd.get_dummies(combined[to_get_dummies_for])\n",
        "combined = pd.concat([combined, df_new], axis = 1)\n",
        "train_df = combined[combined['train']==1]\n",
        "test_df = combined[combined['train']==0]"
      ],
      "metadata": {
        "id": "ezNfsMuVmIOK"
      },
      "execution_count": 92,
      "outputs": []
    },
    {
      "cell_type": "code",
      "source": [
        "test_df.info()"
      ],
      "metadata": {
        "colab": {
          "base_uri": "https://localhost:8080/"
        },
        "id": "7pJuAVzEnNIT",
        "outputId": "39bcaac1-320c-48cc-e62b-9149cc993b1d"
      },
      "execution_count": 93,
      "outputs": [
        {
          "output_type": "stream",
          "name": "stdout",
          "text": [
            "<class 'pandas.core.frame.DataFrame'>\n",
            "Int64Index: 1031 entries, 0 to 1030\n",
            "Data columns (total 38 columns):\n",
            " #   Column         Non-Null Count  Dtype  \n",
            "---  ------         --------------  -----  \n",
            " 0   Tern           1031 non-null   float64\n",
            " 1   Thrush         1031 non-null   float64\n",
            " 2   Tick           1031 non-null   float64\n",
            " 3   Tiger          1031 non-null   int64  \n",
            " 4   Toad           1031 non-null   int64  \n",
            " 5   Tortoise       1031 non-null   float64\n",
            " 6   Trout          1031 non-null   float64\n",
            " 7   Tuna           1031 non-null   float64\n",
            " 8   Turkey         1031 non-null   float64\n",
            " 9   Turtle         1031 non-null   float64\n",
            " 10  Tyrannosaurus  1031 non-null   float64\n",
            " 11  Urial          1031 non-null   int64  \n",
            " 12  Viper          1031 non-null   float64\n",
            " 13  Vole           1031 non-null   float64\n",
            " 14  Vulture        1031 non-null   int64  \n",
            " 15  Wallaby        1031 non-null   float64\n",
            " 16  Walrus         1031 non-null   float64\n",
            " 17  Wasp           1031 non-null   float64\n",
            " 18  Warbler        1031 non-null   int64  \n",
            " 19  Weasel         1031 non-null   int64  \n",
            " 20  Whale          1031 non-null   float64\n",
            " 21  Whippet        1031 non-null   float64\n",
            " 22  Whitefish      1031 non-null   float64\n",
            " 23  Wildcat        1031 non-null   float64\n",
            " 24  Wildebeest     1031 non-null   float64\n",
            " 25  Wildfowl       1031 non-null   int64  \n",
            " 26  Wolf           1031 non-null   int64  \n",
            " 27  Wolverine      1031 non-null   int64  \n",
            " 28  train          1031 non-null   int64  \n",
            " 29  Tiger          1031 non-null   int64  \n",
            " 30  Toad           1031 non-null   int64  \n",
            " 31  Urial          1031 non-null   int64  \n",
            " 32  Vulture        1031 non-null   int64  \n",
            " 33  Warbler        1031 non-null   int64  \n",
            " 34  Weasel         1031 non-null   int64  \n",
            " 35  Wildfowl       1031 non-null   int64  \n",
            " 36  Wolf           1031 non-null   int64  \n",
            " 37  Wolverine      1031 non-null   int64  \n",
            "dtypes: float64(19), int64(19)\n",
            "memory usage: 314.1 KB\n"
          ]
        }
      ]
    },
    {
      "cell_type": "code",
      "source": [
        "train_df.info()"
      ],
      "metadata": {
        "colab": {
          "base_uri": "https://localhost:8080/"
        },
        "id": "OJ0AIPVDrR6s",
        "outputId": "b14e785f-7ee7-488c-d95b-565f236158cc"
      },
      "execution_count": 96,
      "outputs": [
        {
          "output_type": "stream",
          "name": "stdout",
          "text": [
            "<class 'pandas.core.frame.DataFrame'>\n",
            "Int64Index: 6777 entries, 0 to 7002\n",
            "Data columns (total 38 columns):\n",
            " #   Column         Non-Null Count  Dtype  \n",
            "---  ------         --------------  -----  \n",
            " 0   Tern           6777 non-null   float64\n",
            " 1   Thrush         6777 non-null   float64\n",
            " 2   Tick           6777 non-null   float64\n",
            " 3   Tiger          6777 non-null   int64  \n",
            " 4   Toad           6777 non-null   int64  \n",
            " 5   Tortoise       6777 non-null   float64\n",
            " 6   Trout          6777 non-null   float64\n",
            " 7   Tuna           6777 non-null   float64\n",
            " 8   Turkey         6777 non-null   float64\n",
            " 9   Turtle         6777 non-null   float64\n",
            " 10  Tyrannosaurus  6777 non-null   float64\n",
            " 11  Urial          6777 non-null   int64  \n",
            " 12  Viper          6777 non-null   float64\n",
            " 13  Vole           6777 non-null   float64\n",
            " 14  Vulture        6777 non-null   int64  \n",
            " 15  Wallaby        6777 non-null   float64\n",
            " 16  Walrus         6777 non-null   float64\n",
            " 17  Wasp           6777 non-null   float64\n",
            " 18  Warbler        6777 non-null   int64  \n",
            " 19  Weasel         6777 non-null   int64  \n",
            " 20  Whale          6777 non-null   float64\n",
            " 21  Whippet        6777 non-null   float64\n",
            " 22  Whitefish      6777 non-null   float64\n",
            " 23  Wildcat        6777 non-null   float64\n",
            " 24  Wildebeest     6777 non-null   float64\n",
            " 25  Wildfowl       6777 non-null   int64  \n",
            " 26  Wolf           6777 non-null   int64  \n",
            " 27  Wolverine      6777 non-null   int64  \n",
            " 28  train          6777 non-null   int64  \n",
            " 29  Tiger          6777 non-null   int64  \n",
            " 30  Toad           6777 non-null   int64  \n",
            " 31  Urial          6777 non-null   int64  \n",
            " 32  Vulture        6777 non-null   int64  \n",
            " 33  Warbler        6777 non-null   int64  \n",
            " 34  Weasel         6777 non-null   int64  \n",
            " 35  Wildfowl       6777 non-null   int64  \n",
            " 36  Wolf           6777 non-null   int64  \n",
            " 37  Wolverine      6777 non-null   int64  \n",
            "dtypes: float64(19), int64(19)\n",
            "memory usage: 2.0 MB\n"
          ]
        }
      ]
    },
    {
      "cell_type": "code",
      "source": [
        "# #  Creating the list of columns for which we need to create the dummy variables\n",
        "# to_get_dummies_for = ['Tiger', 'Toad', 'Urial', 'Vulture', 'Warbler', 'Weasel', 'Wildfowl','Wolf',\n",
        "#             'Wolverine']\n",
        "\n",
        "# # Creating dummy variables\n",
        "# test_features = pd.get_dummies(data=test_features, columns = to_get_dummies_for, drop_first = True)      "
      ],
      "metadata": {
        "id": "3fq9FjEh_L_e"
      },
      "execution_count": 94,
      "outputs": []
    },
    {
      "cell_type": "code",
      "source": [
        "# # Creating dummy variables for the categorical variables\n",
        "# train_fea = pd.get_dummies(X, drop_first = True)\n",
        "# # test_fea = pd.get_dummies(test_features, drop_first= True)\n",
        "# train_fea.head()"
      ],
      "metadata": {
        "id": "NIO8cCDdJW27"
      },
      "execution_count": 86,
      "outputs": []
    },
    {
      "cell_type": "code",
      "source": [
        "# Scaling the data\n",
        "sc = StandardScaler()\n",
        "\n",
        "train_fea_scaled = sc.fit_transform(train_df)\n",
        "test_fea_scaled = sc.fit_transform(test_df)\n",
        "train_fea_scaled = pd.DataFrame(train_fea_scaled, columns = train_df.columns)\n",
        "test_fea_scaled = pd.DataFrame(test_fea_scaled, columns = test_df.columns)"
      ],
      "metadata": {
        "id": "PR-DOqS4OG8O"
      },
      "execution_count": 97,
      "outputs": []
    },
    {
      "cell_type": "code",
      "source": [
        "train_fea_scaled"
      ],
      "metadata": {
        "colab": {
          "base_uri": "https://localhost:8080/",
          "height": 487
        },
        "id": "wigisMILmmNr",
        "outputId": "695bd152-0579-4ef2-b1e7-b10cc0ba097b"
      },
      "execution_count": 98,
      "outputs": [
        {
          "output_type": "execute_result",
          "data": {
            "text/plain": [
              "          Tern    Thrush      Tick     Tiger      Toad  Tortoise     Trout  \\\n",
              "0    -1.073001 -0.322144  0.578541 -0.277328 -0.722161  0.689431 -0.317691   \n",
              "1     2.539311 -0.322144 -1.546261 -0.277328 -0.722161 -1.841761  1.419396   \n",
              "2    -0.876491 -0.322144  1.010509 -0.277328 -0.722161  0.913802 -1.615842   \n",
              "3    -0.594830 -0.322144  0.827238 -0.277328 -0.722161  0.937981 -0.128676   \n",
              "4    -0.018199 -0.322144 -0.057669 -0.277328 -0.722161  0.064050  0.985770   \n",
              "...        ...       ...       ...       ...       ...       ...       ...   \n",
              "6772 -1.037423 -0.322144 -0.995117 -0.277328 -0.722161 -1.236335  1.215779   \n",
              "6773  0.183904 -0.322144  1.598192 -0.277328 -0.722161  1.510492 -1.281716   \n",
              "6774 -0.051454 -0.322144 -0.014658 -0.277328 -0.722161  0.096352 -0.327082   \n",
              "6775 -1.218724  1.966900  0.592434 -0.277328  0.203347  0.738300 -0.530950   \n",
              "6776  2.268086 -0.322144 -1.523122 -0.277328 -0.722161 -1.569495  1.996297   \n",
              "\n",
              "          Tuna    Turkey    Turtle  ...  train     Tiger      Toad     Urial  \\\n",
              "0     0.521042 -0.264553  0.330315  ...    0.0 -0.277328 -0.722161 -1.072752   \n",
              "1    -1.189460 -0.501774  0.330310  ...    0.0 -0.277328 -0.722161 -0.397286   \n",
              "2     0.384862  1.141284  0.330315  ...    0.0 -0.277328 -0.722161 -1.072752   \n",
              "3     0.536206 -0.306040 -0.537305  ...    0.0 -0.277328 -0.722161  0.278180   \n",
              "4     0.482379 -0.369072  0.330315  ...    0.0 -0.277328 -0.722161  0.278180   \n",
              "...        ...       ...       ...  ...    ...       ...       ...       ...   \n",
              "6772 -1.160165 -0.445437  0.330315  ...    0.0 -0.277328 -0.722161 -0.397286   \n",
              "6773 -0.905702  1.975343  0.330315  ...    0.0 -0.277328 -0.722161  0.278180   \n",
              "6774 -1.237675 -0.431676  0.286071  ...    0.0 -0.277328 -0.722161 -1.072752   \n",
              "6775  0.545673  0.211139 -1.924665  ...    0.0 -0.277328  0.203347  0.278180   \n",
              "6776 -0.798830 -0.449351 -0.537305  ...    0.0 -0.277328 -0.722161  1.629111   \n",
              "\n",
              "       Vulture   Warbler    Weasel  Wildfowl      Wolf  Wolverine  \n",
              "0    -1.399370 -1.510715 -1.092989 -0.212636 -1.125357  -0.942482  \n",
              "1    -1.250427 -1.429536  0.914923 -0.212636 -0.859726  -0.525454  \n",
              "2    -1.101483 -1.348358 -1.092989 -0.212636 -0.594094  -0.108426  \n",
              "3    -0.952540 -1.267179 -1.092989 -0.212636 -0.328463   0.308602  \n",
              "4    -1.250427 -1.186000  0.914923 -0.212636 -1.125357  -0.525454  \n",
              "...        ...       ...       ...       ...       ...        ...  \n",
              "6772 -0.058879 -1.104821  0.914923 -0.212636 -0.062831  -0.525454  \n",
              "6773  0.239009  2.223513 -1.092989 -0.212636  0.734063   2.393743  \n",
              "6774 -0.654653  1.005830 -1.092989 -0.212636  0.999695  -0.942482  \n",
              "6775 -0.505709 -0.536569 -1.092989 -0.212636 -0.062831   1.142658  \n",
              "6776 -1.250427 -0.374211  0.914923 -0.212636  0.468432  -0.525454  \n",
              "\n",
              "[6777 rows x 38 columns]"
            ],
            "text/html": [
              "\n",
              "  <div id=\"df-e7d3e179-31d9-457f-a7e6-a3394831b0eb\">\n",
              "    <div class=\"colab-df-container\">\n",
              "      <div>\n",
              "<style scoped>\n",
              "    .dataframe tbody tr th:only-of-type {\n",
              "        vertical-align: middle;\n",
              "    }\n",
              "\n",
              "    .dataframe tbody tr th {\n",
              "        vertical-align: top;\n",
              "    }\n",
              "\n",
              "    .dataframe thead th {\n",
              "        text-align: right;\n",
              "    }\n",
              "</style>\n",
              "<table border=\"1\" class=\"dataframe\">\n",
              "  <thead>\n",
              "    <tr style=\"text-align: right;\">\n",
              "      <th></th>\n",
              "      <th>Tern</th>\n",
              "      <th>Thrush</th>\n",
              "      <th>Tick</th>\n",
              "      <th>Tiger</th>\n",
              "      <th>Toad</th>\n",
              "      <th>Tortoise</th>\n",
              "      <th>Trout</th>\n",
              "      <th>Tuna</th>\n",
              "      <th>Turkey</th>\n",
              "      <th>Turtle</th>\n",
              "      <th>...</th>\n",
              "      <th>train</th>\n",
              "      <th>Tiger</th>\n",
              "      <th>Toad</th>\n",
              "      <th>Urial</th>\n",
              "      <th>Vulture</th>\n",
              "      <th>Warbler</th>\n",
              "      <th>Weasel</th>\n",
              "      <th>Wildfowl</th>\n",
              "      <th>Wolf</th>\n",
              "      <th>Wolverine</th>\n",
              "    </tr>\n",
              "  </thead>\n",
              "  <tbody>\n",
              "    <tr>\n",
              "      <th>0</th>\n",
              "      <td>-1.073001</td>\n",
              "      <td>-0.322144</td>\n",
              "      <td>0.578541</td>\n",
              "      <td>-0.277328</td>\n",
              "      <td>-0.722161</td>\n",
              "      <td>0.689431</td>\n",
              "      <td>-0.317691</td>\n",
              "      <td>0.521042</td>\n",
              "      <td>-0.264553</td>\n",
              "      <td>0.330315</td>\n",
              "      <td>...</td>\n",
              "      <td>0.0</td>\n",
              "      <td>-0.277328</td>\n",
              "      <td>-0.722161</td>\n",
              "      <td>-1.072752</td>\n",
              "      <td>-1.399370</td>\n",
              "      <td>-1.510715</td>\n",
              "      <td>-1.092989</td>\n",
              "      <td>-0.212636</td>\n",
              "      <td>-1.125357</td>\n",
              "      <td>-0.942482</td>\n",
              "    </tr>\n",
              "    <tr>\n",
              "      <th>1</th>\n",
              "      <td>2.539311</td>\n",
              "      <td>-0.322144</td>\n",
              "      <td>-1.546261</td>\n",
              "      <td>-0.277328</td>\n",
              "      <td>-0.722161</td>\n",
              "      <td>-1.841761</td>\n",
              "      <td>1.419396</td>\n",
              "      <td>-1.189460</td>\n",
              "      <td>-0.501774</td>\n",
              "      <td>0.330310</td>\n",
              "      <td>...</td>\n",
              "      <td>0.0</td>\n",
              "      <td>-0.277328</td>\n",
              "      <td>-0.722161</td>\n",
              "      <td>-0.397286</td>\n",
              "      <td>-1.250427</td>\n",
              "      <td>-1.429536</td>\n",
              "      <td>0.914923</td>\n",
              "      <td>-0.212636</td>\n",
              "      <td>-0.859726</td>\n",
              "      <td>-0.525454</td>\n",
              "    </tr>\n",
              "    <tr>\n",
              "      <th>2</th>\n",
              "      <td>-0.876491</td>\n",
              "      <td>-0.322144</td>\n",
              "      <td>1.010509</td>\n",
              "      <td>-0.277328</td>\n",
              "      <td>-0.722161</td>\n",
              "      <td>0.913802</td>\n",
              "      <td>-1.615842</td>\n",
              "      <td>0.384862</td>\n",
              "      <td>1.141284</td>\n",
              "      <td>0.330315</td>\n",
              "      <td>...</td>\n",
              "      <td>0.0</td>\n",
              "      <td>-0.277328</td>\n",
              "      <td>-0.722161</td>\n",
              "      <td>-1.072752</td>\n",
              "      <td>-1.101483</td>\n",
              "      <td>-1.348358</td>\n",
              "      <td>-1.092989</td>\n",
              "      <td>-0.212636</td>\n",
              "      <td>-0.594094</td>\n",
              "      <td>-0.108426</td>\n",
              "    </tr>\n",
              "    <tr>\n",
              "      <th>3</th>\n",
              "      <td>-0.594830</td>\n",
              "      <td>-0.322144</td>\n",
              "      <td>0.827238</td>\n",
              "      <td>-0.277328</td>\n",
              "      <td>-0.722161</td>\n",
              "      <td>0.937981</td>\n",
              "      <td>-0.128676</td>\n",
              "      <td>0.536206</td>\n",
              "      <td>-0.306040</td>\n",
              "      <td>-0.537305</td>\n",
              "      <td>...</td>\n",
              "      <td>0.0</td>\n",
              "      <td>-0.277328</td>\n",
              "      <td>-0.722161</td>\n",
              "      <td>0.278180</td>\n",
              "      <td>-0.952540</td>\n",
              "      <td>-1.267179</td>\n",
              "      <td>-1.092989</td>\n",
              "      <td>-0.212636</td>\n",
              "      <td>-0.328463</td>\n",
              "      <td>0.308602</td>\n",
              "    </tr>\n",
              "    <tr>\n",
              "      <th>4</th>\n",
              "      <td>-0.018199</td>\n",
              "      <td>-0.322144</td>\n",
              "      <td>-0.057669</td>\n",
              "      <td>-0.277328</td>\n",
              "      <td>-0.722161</td>\n",
              "      <td>0.064050</td>\n",
              "      <td>0.985770</td>\n",
              "      <td>0.482379</td>\n",
              "      <td>-0.369072</td>\n",
              "      <td>0.330315</td>\n",
              "      <td>...</td>\n",
              "      <td>0.0</td>\n",
              "      <td>-0.277328</td>\n",
              "      <td>-0.722161</td>\n",
              "      <td>0.278180</td>\n",
              "      <td>-1.250427</td>\n",
              "      <td>-1.186000</td>\n",
              "      <td>0.914923</td>\n",
              "      <td>-0.212636</td>\n",
              "      <td>-1.125357</td>\n",
              "      <td>-0.525454</td>\n",
              "    </tr>\n",
              "    <tr>\n",
              "      <th>...</th>\n",
              "      <td>...</td>\n",
              "      <td>...</td>\n",
              "      <td>...</td>\n",
              "      <td>...</td>\n",
              "      <td>...</td>\n",
              "      <td>...</td>\n",
              "      <td>...</td>\n",
              "      <td>...</td>\n",
              "      <td>...</td>\n",
              "      <td>...</td>\n",
              "      <td>...</td>\n",
              "      <td>...</td>\n",
              "      <td>...</td>\n",
              "      <td>...</td>\n",
              "      <td>...</td>\n",
              "      <td>...</td>\n",
              "      <td>...</td>\n",
              "      <td>...</td>\n",
              "      <td>...</td>\n",
              "      <td>...</td>\n",
              "      <td>...</td>\n",
              "    </tr>\n",
              "    <tr>\n",
              "      <th>6772</th>\n",
              "      <td>-1.037423</td>\n",
              "      <td>-0.322144</td>\n",
              "      <td>-0.995117</td>\n",
              "      <td>-0.277328</td>\n",
              "      <td>-0.722161</td>\n",
              "      <td>-1.236335</td>\n",
              "      <td>1.215779</td>\n",
              "      <td>-1.160165</td>\n",
              "      <td>-0.445437</td>\n",
              "      <td>0.330315</td>\n",
              "      <td>...</td>\n",
              "      <td>0.0</td>\n",
              "      <td>-0.277328</td>\n",
              "      <td>-0.722161</td>\n",
              "      <td>-0.397286</td>\n",
              "      <td>-0.058879</td>\n",
              "      <td>-1.104821</td>\n",
              "      <td>0.914923</td>\n",
              "      <td>-0.212636</td>\n",
              "      <td>-0.062831</td>\n",
              "      <td>-0.525454</td>\n",
              "    </tr>\n",
              "    <tr>\n",
              "      <th>6773</th>\n",
              "      <td>0.183904</td>\n",
              "      <td>-0.322144</td>\n",
              "      <td>1.598192</td>\n",
              "      <td>-0.277328</td>\n",
              "      <td>-0.722161</td>\n",
              "      <td>1.510492</td>\n",
              "      <td>-1.281716</td>\n",
              "      <td>-0.905702</td>\n",
              "      <td>1.975343</td>\n",
              "      <td>0.330315</td>\n",
              "      <td>...</td>\n",
              "      <td>0.0</td>\n",
              "      <td>-0.277328</td>\n",
              "      <td>-0.722161</td>\n",
              "      <td>0.278180</td>\n",
              "      <td>0.239009</td>\n",
              "      <td>2.223513</td>\n",
              "      <td>-1.092989</td>\n",
              "      <td>-0.212636</td>\n",
              "      <td>0.734063</td>\n",
              "      <td>2.393743</td>\n",
              "    </tr>\n",
              "    <tr>\n",
              "      <th>6774</th>\n",
              "      <td>-0.051454</td>\n",
              "      <td>-0.322144</td>\n",
              "      <td>-0.014658</td>\n",
              "      <td>-0.277328</td>\n",
              "      <td>-0.722161</td>\n",
              "      <td>0.096352</td>\n",
              "      <td>-0.327082</td>\n",
              "      <td>-1.237675</td>\n",
              "      <td>-0.431676</td>\n",
              "      <td>0.286071</td>\n",
              "      <td>...</td>\n",
              "      <td>0.0</td>\n",
              "      <td>-0.277328</td>\n",
              "      <td>-0.722161</td>\n",
              "      <td>-1.072752</td>\n",
              "      <td>-0.654653</td>\n",
              "      <td>1.005830</td>\n",
              "      <td>-1.092989</td>\n",
              "      <td>-0.212636</td>\n",
              "      <td>0.999695</td>\n",
              "      <td>-0.942482</td>\n",
              "    </tr>\n",
              "    <tr>\n",
              "      <th>6775</th>\n",
              "      <td>-1.218724</td>\n",
              "      <td>1.966900</td>\n",
              "      <td>0.592434</td>\n",
              "      <td>-0.277328</td>\n",
              "      <td>0.203347</td>\n",
              "      <td>0.738300</td>\n",
              "      <td>-0.530950</td>\n",
              "      <td>0.545673</td>\n",
              "      <td>0.211139</td>\n",
              "      <td>-1.924665</td>\n",
              "      <td>...</td>\n",
              "      <td>0.0</td>\n",
              "      <td>-0.277328</td>\n",
              "      <td>0.203347</td>\n",
              "      <td>0.278180</td>\n",
              "      <td>-0.505709</td>\n",
              "      <td>-0.536569</td>\n",
              "      <td>-1.092989</td>\n",
              "      <td>-0.212636</td>\n",
              "      <td>-0.062831</td>\n",
              "      <td>1.142658</td>\n",
              "    </tr>\n",
              "    <tr>\n",
              "      <th>6776</th>\n",
              "      <td>2.268086</td>\n",
              "      <td>-0.322144</td>\n",
              "      <td>-1.523122</td>\n",
              "      <td>-0.277328</td>\n",
              "      <td>-0.722161</td>\n",
              "      <td>-1.569495</td>\n",
              "      <td>1.996297</td>\n",
              "      <td>-0.798830</td>\n",
              "      <td>-0.449351</td>\n",
              "      <td>-0.537305</td>\n",
              "      <td>...</td>\n",
              "      <td>0.0</td>\n",
              "      <td>-0.277328</td>\n",
              "      <td>-0.722161</td>\n",
              "      <td>1.629111</td>\n",
              "      <td>-1.250427</td>\n",
              "      <td>-0.374211</td>\n",
              "      <td>0.914923</td>\n",
              "      <td>-0.212636</td>\n",
              "      <td>0.468432</td>\n",
              "      <td>-0.525454</td>\n",
              "    </tr>\n",
              "  </tbody>\n",
              "</table>\n",
              "<p>6777 rows × 38 columns</p>\n",
              "</div>\n",
              "      <button class=\"colab-df-convert\" onclick=\"convertToInteractive('df-e7d3e179-31d9-457f-a7e6-a3394831b0eb')\"\n",
              "              title=\"Convert this dataframe to an interactive table.\"\n",
              "              style=\"display:none;\">\n",
              "        \n",
              "  <svg xmlns=\"http://www.w3.org/2000/svg\" height=\"24px\"viewBox=\"0 0 24 24\"\n",
              "       width=\"24px\">\n",
              "    <path d=\"M0 0h24v24H0V0z\" fill=\"none\"/>\n",
              "    <path d=\"M18.56 5.44l.94 2.06.94-2.06 2.06-.94-2.06-.94-.94-2.06-.94 2.06-2.06.94zm-11 1L8.5 8.5l.94-2.06 2.06-.94-2.06-.94L8.5 2.5l-.94 2.06-2.06.94zm10 10l.94 2.06.94-2.06 2.06-.94-2.06-.94-.94-2.06-.94 2.06-2.06.94z\"/><path d=\"M17.41 7.96l-1.37-1.37c-.4-.4-.92-.59-1.43-.59-.52 0-1.04.2-1.43.59L10.3 9.45l-7.72 7.72c-.78.78-.78 2.05 0 2.83L4 21.41c.39.39.9.59 1.41.59.51 0 1.02-.2 1.41-.59l7.78-7.78 2.81-2.81c.8-.78.8-2.07 0-2.86zM5.41 20L4 18.59l7.72-7.72 1.47 1.35L5.41 20z\"/>\n",
              "  </svg>\n",
              "      </button>\n",
              "      \n",
              "  <style>\n",
              "    .colab-df-container {\n",
              "      display:flex;\n",
              "      flex-wrap:wrap;\n",
              "      gap: 12px;\n",
              "    }\n",
              "\n",
              "    .colab-df-convert {\n",
              "      background-color: #E8F0FE;\n",
              "      border: none;\n",
              "      border-radius: 50%;\n",
              "      cursor: pointer;\n",
              "      display: none;\n",
              "      fill: #1967D2;\n",
              "      height: 32px;\n",
              "      padding: 0 0 0 0;\n",
              "      width: 32px;\n",
              "    }\n",
              "\n",
              "    .colab-df-convert:hover {\n",
              "      background-color: #E2EBFA;\n",
              "      box-shadow: 0px 1px 2px rgba(60, 64, 67, 0.3), 0px 1px 3px 1px rgba(60, 64, 67, 0.15);\n",
              "      fill: #174EA6;\n",
              "    }\n",
              "\n",
              "    [theme=dark] .colab-df-convert {\n",
              "      background-color: #3B4455;\n",
              "      fill: #D2E3FC;\n",
              "    }\n",
              "\n",
              "    [theme=dark] .colab-df-convert:hover {\n",
              "      background-color: #434B5C;\n",
              "      box-shadow: 0px 1px 3px 1px rgba(0, 0, 0, 0.15);\n",
              "      filter: drop-shadow(0px 1px 2px rgba(0, 0, 0, 0.3));\n",
              "      fill: #FFFFFF;\n",
              "    }\n",
              "  </style>\n",
              "\n",
              "      <script>\n",
              "        const buttonEl =\n",
              "          document.querySelector('#df-e7d3e179-31d9-457f-a7e6-a3394831b0eb button.colab-df-convert');\n",
              "        buttonEl.style.display =\n",
              "          google.colab.kernel.accessAllowed ? 'block' : 'none';\n",
              "\n",
              "        async function convertToInteractive(key) {\n",
              "          const element = document.querySelector('#df-e7d3e179-31d9-457f-a7e6-a3394831b0eb');\n",
              "          const dataTable =\n",
              "            await google.colab.kernel.invokeFunction('convertToInteractive',\n",
              "                                                     [key], {});\n",
              "          if (!dataTable) return;\n",
              "\n",
              "          const docLinkHtml = 'Like what you see? Visit the ' +\n",
              "            '<a target=\"_blank\" href=https://colab.research.google.com/notebooks/data_table.ipynb>data table notebook</a>'\n",
              "            + ' to learn more about interactive tables.';\n",
              "          element.innerHTML = '';\n",
              "          dataTable['output_type'] = 'display_data';\n",
              "          await google.colab.output.renderOutput(dataTable, element);\n",
              "          const docLink = document.createElement('div');\n",
              "          docLink.innerHTML = docLinkHtml;\n",
              "          element.appendChild(docLink);\n",
              "        }\n",
              "      </script>\n",
              "    </div>\n",
              "  </div>\n",
              "  "
            ]
          },
          "metadata": {},
          "execution_count": 98
        }
      ]
    },
    {
      "cell_type": "code",
      "source": [
        "test_fea_scaled"
      ],
      "metadata": {
        "colab": {
          "base_uri": "https://localhost:8080/",
          "height": 487
        },
        "id": "cDxrKjvE8jrW",
        "outputId": "5eaf6ec6-4955-41c5-b683-f323f524b653"
      },
      "execution_count": 99,
      "outputs": [
        {
          "output_type": "execute_result",
          "data": {
            "text/plain": [
              "          Tern    Thrush      Tick     Tiger      Toad  Tortoise     Trout  \\\n",
              "0     0.425720 -0.331502 -1.060606 -0.322056 -0.589465 -1.158009  0.357179   \n",
              "1     2.374085 -0.331502  1.317590 -0.322056  0.131458  1.109201 -1.573740   \n",
              "2    -1.016188 -0.331502 -1.479620 -0.322056  0.131458 -2.041116  1.389316   \n",
              "3     1.182655 -0.331502  0.498545 -0.322056  0.131458  0.556674 -0.921986   \n",
              "4    -1.354821 -0.331502  0.011217 -0.322056 -0.589465  0.166455  0.140668   \n",
              "...        ...       ...       ...       ...       ...       ...       ...   \n",
              "1026  2.323568 -0.331502  1.581120 -0.322056  0.852382  1.362807 -1.094848   \n",
              "1027 -0.306463 -0.331502  0.401651 -0.322056  0.852382  0.518077 -0.109270   \n",
              "1028  0.696118 -0.331502 -0.520765  3.702664  0.131458 -0.724510  0.409674   \n",
              "1029  0.142764 -0.331502 -1.441307 -0.322056 -0.589465 -1.521307  1.895870   \n",
              "1030 -0.544099 -0.331502 -1.241249 -0.322056 -0.589465 -1.485932  0.520517   \n",
              "\n",
              "          Tuna    Turkey    Turtle  ...  train     Tiger      Toad     Urial  \\\n",
              "0    -0.596261 -0.354751  0.314012  ...    0.0 -0.322056 -0.589465 -0.892342   \n",
              "1     0.272133  0.479089  0.320311  ...    0.0 -0.322056  0.131458 -0.892342   \n",
              "2     1.181453 -0.372566  0.320306  ...    0.0 -0.322056  0.131458 -0.892342   \n",
              "3     1.365993 -0.312958  0.320311  ...    0.0 -0.322056  0.131458 -0.892342   \n",
              "4     0.144275 -0.329320  0.320311  ...    0.0 -0.322056 -0.589465 -0.892342   \n",
              "...        ...       ...       ...  ...    ...       ...       ...       ...   \n",
              "1026 -1.198897  1.125600  0.320296  ...    0.0 -0.322056  0.852382  0.438106   \n",
              "1027  0.903299 -0.053885  0.320311  ...    0.0 -0.322056  0.852382 -0.892342   \n",
              "1028 -1.271704 -0.352044  0.319459  ...    0.0  3.702664  0.131458  0.438106   \n",
              "1029 -0.807272 -0.384105  0.320269  ...    0.0 -0.322056 -0.589465  1.103330   \n",
              "1030  1.083271 -0.364087 -0.591473  ...    0.0 -0.322056 -0.589465 -0.892342   \n",
              "\n",
              "       Vulture   Warbler    Weasel  Wildfowl      Wolf  Wolverine  \n",
              "0    -1.432678 -1.285866 -0.866270 -0.158063 -0.944924  -0.950193  \n",
              "1    -1.279738 -1.219320  1.154374 -0.158063 -0.682827  -0.603169  \n",
              "2    -1.126799 -1.152775 -0.866270 -0.158063 -0.420729  -0.950193  \n",
              "3    -0.973859 -1.086229  1.154374 -0.158063 -0.682827  -0.256145  \n",
              "4    -0.820919 -1.019683 -0.866270 -0.158063 -0.420729   0.090879  \n",
              "...        ...       ...       ...       ...       ...        ...  \n",
              "1026  1.473175  1.309425  1.154374 -0.158063 -0.682827   0.437903  \n",
              "1027  0.402598 -1.019683  1.154374 -0.158063  0.627662   1.826000  \n",
              "1028  1.473175  0.377782 -0.866270 -0.158063 -0.420729   0.090879  \n",
              "1029  0.096718 -0.287677 -0.866270 -0.158063 -0.682827  -0.950193  \n",
              "1030  1.014356  2.107977 -0.866270 -0.158063  0.103466  -0.950193  \n",
              "\n",
              "[1031 rows x 38 columns]"
            ],
            "text/html": [
              "\n",
              "  <div id=\"df-80bfe0b4-6e18-4e7a-9ea1-4ffada514199\">\n",
              "    <div class=\"colab-df-container\">\n",
              "      <div>\n",
              "<style scoped>\n",
              "    .dataframe tbody tr th:only-of-type {\n",
              "        vertical-align: middle;\n",
              "    }\n",
              "\n",
              "    .dataframe tbody tr th {\n",
              "        vertical-align: top;\n",
              "    }\n",
              "\n",
              "    .dataframe thead th {\n",
              "        text-align: right;\n",
              "    }\n",
              "</style>\n",
              "<table border=\"1\" class=\"dataframe\">\n",
              "  <thead>\n",
              "    <tr style=\"text-align: right;\">\n",
              "      <th></th>\n",
              "      <th>Tern</th>\n",
              "      <th>Thrush</th>\n",
              "      <th>Tick</th>\n",
              "      <th>Tiger</th>\n",
              "      <th>Toad</th>\n",
              "      <th>Tortoise</th>\n",
              "      <th>Trout</th>\n",
              "      <th>Tuna</th>\n",
              "      <th>Turkey</th>\n",
              "      <th>Turtle</th>\n",
              "      <th>...</th>\n",
              "      <th>train</th>\n",
              "      <th>Tiger</th>\n",
              "      <th>Toad</th>\n",
              "      <th>Urial</th>\n",
              "      <th>Vulture</th>\n",
              "      <th>Warbler</th>\n",
              "      <th>Weasel</th>\n",
              "      <th>Wildfowl</th>\n",
              "      <th>Wolf</th>\n",
              "      <th>Wolverine</th>\n",
              "    </tr>\n",
              "  </thead>\n",
              "  <tbody>\n",
              "    <tr>\n",
              "      <th>0</th>\n",
              "      <td>0.425720</td>\n",
              "      <td>-0.331502</td>\n",
              "      <td>-1.060606</td>\n",
              "      <td>-0.322056</td>\n",
              "      <td>-0.589465</td>\n",
              "      <td>-1.158009</td>\n",
              "      <td>0.357179</td>\n",
              "      <td>-0.596261</td>\n",
              "      <td>-0.354751</td>\n",
              "      <td>0.314012</td>\n",
              "      <td>...</td>\n",
              "      <td>0.0</td>\n",
              "      <td>-0.322056</td>\n",
              "      <td>-0.589465</td>\n",
              "      <td>-0.892342</td>\n",
              "      <td>-1.432678</td>\n",
              "      <td>-1.285866</td>\n",
              "      <td>-0.866270</td>\n",
              "      <td>-0.158063</td>\n",
              "      <td>-0.944924</td>\n",
              "      <td>-0.950193</td>\n",
              "    </tr>\n",
              "    <tr>\n",
              "      <th>1</th>\n",
              "      <td>2.374085</td>\n",
              "      <td>-0.331502</td>\n",
              "      <td>1.317590</td>\n",
              "      <td>-0.322056</td>\n",
              "      <td>0.131458</td>\n",
              "      <td>1.109201</td>\n",
              "      <td>-1.573740</td>\n",
              "      <td>0.272133</td>\n",
              "      <td>0.479089</td>\n",
              "      <td>0.320311</td>\n",
              "      <td>...</td>\n",
              "      <td>0.0</td>\n",
              "      <td>-0.322056</td>\n",
              "      <td>0.131458</td>\n",
              "      <td>-0.892342</td>\n",
              "      <td>-1.279738</td>\n",
              "      <td>-1.219320</td>\n",
              "      <td>1.154374</td>\n",
              "      <td>-0.158063</td>\n",
              "      <td>-0.682827</td>\n",
              "      <td>-0.603169</td>\n",
              "    </tr>\n",
              "    <tr>\n",
              "      <th>2</th>\n",
              "      <td>-1.016188</td>\n",
              "      <td>-0.331502</td>\n",
              "      <td>-1.479620</td>\n",
              "      <td>-0.322056</td>\n",
              "      <td>0.131458</td>\n",
              "      <td>-2.041116</td>\n",
              "      <td>1.389316</td>\n",
              "      <td>1.181453</td>\n",
              "      <td>-0.372566</td>\n",
              "      <td>0.320306</td>\n",
              "      <td>...</td>\n",
              "      <td>0.0</td>\n",
              "      <td>-0.322056</td>\n",
              "      <td>0.131458</td>\n",
              "      <td>-0.892342</td>\n",
              "      <td>-1.126799</td>\n",
              "      <td>-1.152775</td>\n",
              "      <td>-0.866270</td>\n",
              "      <td>-0.158063</td>\n",
              "      <td>-0.420729</td>\n",
              "      <td>-0.950193</td>\n",
              "    </tr>\n",
              "    <tr>\n",
              "      <th>3</th>\n",
              "      <td>1.182655</td>\n",
              "      <td>-0.331502</td>\n",
              "      <td>0.498545</td>\n",
              "      <td>-0.322056</td>\n",
              "      <td>0.131458</td>\n",
              "      <td>0.556674</td>\n",
              "      <td>-0.921986</td>\n",
              "      <td>1.365993</td>\n",
              "      <td>-0.312958</td>\n",
              "      <td>0.320311</td>\n",
              "      <td>...</td>\n",
              "      <td>0.0</td>\n",
              "      <td>-0.322056</td>\n",
              "      <td>0.131458</td>\n",
              "      <td>-0.892342</td>\n",
              "      <td>-0.973859</td>\n",
              "      <td>-1.086229</td>\n",
              "      <td>1.154374</td>\n",
              "      <td>-0.158063</td>\n",
              "      <td>-0.682827</td>\n",
              "      <td>-0.256145</td>\n",
              "    </tr>\n",
              "    <tr>\n",
              "      <th>4</th>\n",
              "      <td>-1.354821</td>\n",
              "      <td>-0.331502</td>\n",
              "      <td>0.011217</td>\n",
              "      <td>-0.322056</td>\n",
              "      <td>-0.589465</td>\n",
              "      <td>0.166455</td>\n",
              "      <td>0.140668</td>\n",
              "      <td>0.144275</td>\n",
              "      <td>-0.329320</td>\n",
              "      <td>0.320311</td>\n",
              "      <td>...</td>\n",
              "      <td>0.0</td>\n",
              "      <td>-0.322056</td>\n",
              "      <td>-0.589465</td>\n",
              "      <td>-0.892342</td>\n",
              "      <td>-0.820919</td>\n",
              "      <td>-1.019683</td>\n",
              "      <td>-0.866270</td>\n",
              "      <td>-0.158063</td>\n",
              "      <td>-0.420729</td>\n",
              "      <td>0.090879</td>\n",
              "    </tr>\n",
              "    <tr>\n",
              "      <th>...</th>\n",
              "      <td>...</td>\n",
              "      <td>...</td>\n",
              "      <td>...</td>\n",
              "      <td>...</td>\n",
              "      <td>...</td>\n",
              "      <td>...</td>\n",
              "      <td>...</td>\n",
              "      <td>...</td>\n",
              "      <td>...</td>\n",
              "      <td>...</td>\n",
              "      <td>...</td>\n",
              "      <td>...</td>\n",
              "      <td>...</td>\n",
              "      <td>...</td>\n",
              "      <td>...</td>\n",
              "      <td>...</td>\n",
              "      <td>...</td>\n",
              "      <td>...</td>\n",
              "      <td>...</td>\n",
              "      <td>...</td>\n",
              "      <td>...</td>\n",
              "    </tr>\n",
              "    <tr>\n",
              "      <th>1026</th>\n",
              "      <td>2.323568</td>\n",
              "      <td>-0.331502</td>\n",
              "      <td>1.581120</td>\n",
              "      <td>-0.322056</td>\n",
              "      <td>0.852382</td>\n",
              "      <td>1.362807</td>\n",
              "      <td>-1.094848</td>\n",
              "      <td>-1.198897</td>\n",
              "      <td>1.125600</td>\n",
              "      <td>0.320296</td>\n",
              "      <td>...</td>\n",
              "      <td>0.0</td>\n",
              "      <td>-0.322056</td>\n",
              "      <td>0.852382</td>\n",
              "      <td>0.438106</td>\n",
              "      <td>1.473175</td>\n",
              "      <td>1.309425</td>\n",
              "      <td>1.154374</td>\n",
              "      <td>-0.158063</td>\n",
              "      <td>-0.682827</td>\n",
              "      <td>0.437903</td>\n",
              "    </tr>\n",
              "    <tr>\n",
              "      <th>1027</th>\n",
              "      <td>-0.306463</td>\n",
              "      <td>-0.331502</td>\n",
              "      <td>0.401651</td>\n",
              "      <td>-0.322056</td>\n",
              "      <td>0.852382</td>\n",
              "      <td>0.518077</td>\n",
              "      <td>-0.109270</td>\n",
              "      <td>0.903299</td>\n",
              "      <td>-0.053885</td>\n",
              "      <td>0.320311</td>\n",
              "      <td>...</td>\n",
              "      <td>0.0</td>\n",
              "      <td>-0.322056</td>\n",
              "      <td>0.852382</td>\n",
              "      <td>-0.892342</td>\n",
              "      <td>0.402598</td>\n",
              "      <td>-1.019683</td>\n",
              "      <td>1.154374</td>\n",
              "      <td>-0.158063</td>\n",
              "      <td>0.627662</td>\n",
              "      <td>1.826000</td>\n",
              "    </tr>\n",
              "    <tr>\n",
              "      <th>1028</th>\n",
              "      <td>0.696118</td>\n",
              "      <td>-0.331502</td>\n",
              "      <td>-0.520765</td>\n",
              "      <td>3.702664</td>\n",
              "      <td>0.131458</td>\n",
              "      <td>-0.724510</td>\n",
              "      <td>0.409674</td>\n",
              "      <td>-1.271704</td>\n",
              "      <td>-0.352044</td>\n",
              "      <td>0.319459</td>\n",
              "      <td>...</td>\n",
              "      <td>0.0</td>\n",
              "      <td>3.702664</td>\n",
              "      <td>0.131458</td>\n",
              "      <td>0.438106</td>\n",
              "      <td>1.473175</td>\n",
              "      <td>0.377782</td>\n",
              "      <td>-0.866270</td>\n",
              "      <td>-0.158063</td>\n",
              "      <td>-0.420729</td>\n",
              "      <td>0.090879</td>\n",
              "    </tr>\n",
              "    <tr>\n",
              "      <th>1029</th>\n",
              "      <td>0.142764</td>\n",
              "      <td>-0.331502</td>\n",
              "      <td>-1.441307</td>\n",
              "      <td>-0.322056</td>\n",
              "      <td>-0.589465</td>\n",
              "      <td>-1.521307</td>\n",
              "      <td>1.895870</td>\n",
              "      <td>-0.807272</td>\n",
              "      <td>-0.384105</td>\n",
              "      <td>0.320269</td>\n",
              "      <td>...</td>\n",
              "      <td>0.0</td>\n",
              "      <td>-0.322056</td>\n",
              "      <td>-0.589465</td>\n",
              "      <td>1.103330</td>\n",
              "      <td>0.096718</td>\n",
              "      <td>-0.287677</td>\n",
              "      <td>-0.866270</td>\n",
              "      <td>-0.158063</td>\n",
              "      <td>-0.682827</td>\n",
              "      <td>-0.950193</td>\n",
              "    </tr>\n",
              "    <tr>\n",
              "      <th>1030</th>\n",
              "      <td>-0.544099</td>\n",
              "      <td>-0.331502</td>\n",
              "      <td>-1.241249</td>\n",
              "      <td>-0.322056</td>\n",
              "      <td>-0.589465</td>\n",
              "      <td>-1.485932</td>\n",
              "      <td>0.520517</td>\n",
              "      <td>1.083271</td>\n",
              "      <td>-0.364087</td>\n",
              "      <td>-0.591473</td>\n",
              "      <td>...</td>\n",
              "      <td>0.0</td>\n",
              "      <td>-0.322056</td>\n",
              "      <td>-0.589465</td>\n",
              "      <td>-0.892342</td>\n",
              "      <td>1.014356</td>\n",
              "      <td>2.107977</td>\n",
              "      <td>-0.866270</td>\n",
              "      <td>-0.158063</td>\n",
              "      <td>0.103466</td>\n",
              "      <td>-0.950193</td>\n",
              "    </tr>\n",
              "  </tbody>\n",
              "</table>\n",
              "<p>1031 rows × 38 columns</p>\n",
              "</div>\n",
              "      <button class=\"colab-df-convert\" onclick=\"convertToInteractive('df-80bfe0b4-6e18-4e7a-9ea1-4ffada514199')\"\n",
              "              title=\"Convert this dataframe to an interactive table.\"\n",
              "              style=\"display:none;\">\n",
              "        \n",
              "  <svg xmlns=\"http://www.w3.org/2000/svg\" height=\"24px\"viewBox=\"0 0 24 24\"\n",
              "       width=\"24px\">\n",
              "    <path d=\"M0 0h24v24H0V0z\" fill=\"none\"/>\n",
              "    <path d=\"M18.56 5.44l.94 2.06.94-2.06 2.06-.94-2.06-.94-.94-2.06-.94 2.06-2.06.94zm-11 1L8.5 8.5l.94-2.06 2.06-.94-2.06-.94L8.5 2.5l-.94 2.06-2.06.94zm10 10l.94 2.06.94-2.06 2.06-.94-2.06-.94-.94-2.06-.94 2.06-2.06.94z\"/><path d=\"M17.41 7.96l-1.37-1.37c-.4-.4-.92-.59-1.43-.59-.52 0-1.04.2-1.43.59L10.3 9.45l-7.72 7.72c-.78.78-.78 2.05 0 2.83L4 21.41c.39.39.9.59 1.41.59.51 0 1.02-.2 1.41-.59l7.78-7.78 2.81-2.81c.8-.78.8-2.07 0-2.86zM5.41 20L4 18.59l7.72-7.72 1.47 1.35L5.41 20z\"/>\n",
              "  </svg>\n",
              "      </button>\n",
              "      \n",
              "  <style>\n",
              "    .colab-df-container {\n",
              "      display:flex;\n",
              "      flex-wrap:wrap;\n",
              "      gap: 12px;\n",
              "    }\n",
              "\n",
              "    .colab-df-convert {\n",
              "      background-color: #E8F0FE;\n",
              "      border: none;\n",
              "      border-radius: 50%;\n",
              "      cursor: pointer;\n",
              "      display: none;\n",
              "      fill: #1967D2;\n",
              "      height: 32px;\n",
              "      padding: 0 0 0 0;\n",
              "      width: 32px;\n",
              "    }\n",
              "\n",
              "    .colab-df-convert:hover {\n",
              "      background-color: #E2EBFA;\n",
              "      box-shadow: 0px 1px 2px rgba(60, 64, 67, 0.3), 0px 1px 3px 1px rgba(60, 64, 67, 0.15);\n",
              "      fill: #174EA6;\n",
              "    }\n",
              "\n",
              "    [theme=dark] .colab-df-convert {\n",
              "      background-color: #3B4455;\n",
              "      fill: #D2E3FC;\n",
              "    }\n",
              "\n",
              "    [theme=dark] .colab-df-convert:hover {\n",
              "      background-color: #434B5C;\n",
              "      box-shadow: 0px 1px 3px 1px rgba(0, 0, 0, 0.15);\n",
              "      filter: drop-shadow(0px 1px 2px rgba(0, 0, 0, 0.3));\n",
              "      fill: #FFFFFF;\n",
              "    }\n",
              "  </style>\n",
              "\n",
              "      <script>\n",
              "        const buttonEl =\n",
              "          document.querySelector('#df-80bfe0b4-6e18-4e7a-9ea1-4ffada514199 button.colab-df-convert');\n",
              "        buttonEl.style.display =\n",
              "          google.colab.kernel.accessAllowed ? 'block' : 'none';\n",
              "\n",
              "        async function convertToInteractive(key) {\n",
              "          const element = document.querySelector('#df-80bfe0b4-6e18-4e7a-9ea1-4ffada514199');\n",
              "          const dataTable =\n",
              "            await google.colab.kernel.invokeFunction('convertToInteractive',\n",
              "                                                     [key], {});\n",
              "          if (!dataTable) return;\n",
              "\n",
              "          const docLinkHtml = 'Like what you see? Visit the ' +\n",
              "            '<a target=\"_blank\" href=https://colab.research.google.com/notebooks/data_table.ipynb>data table notebook</a>'\n",
              "            + ' to learn more about interactive tables.';\n",
              "          element.innerHTML = '';\n",
              "          dataTable['output_type'] = 'display_data';\n",
              "          await google.colab.output.renderOutput(dataTable, element);\n",
              "          const docLink = document.createElement('div');\n",
              "          docLink.innerHTML = docLinkHtml;\n",
              "          element.appendChild(docLink);\n",
              "        }\n",
              "      </script>\n",
              "    </div>\n",
              "  </div>\n",
              "  "
            ]
          },
          "metadata": {},
          "execution_count": 99
        }
      ]
    },
    {
      "cell_type": "code",
      "source": [
        "x_train, x_val, y_train, y_val = train_test_split(train_fea_scaled, Y, test_size = 0.2, random_state = 1, stratify = Y)"
      ],
      "metadata": {
        "id": "SYCu21Nxmv5F"
      },
      "execution_count": 100,
      "outputs": []
    },
    {
      "cell_type": "code",
      "source": [
        "from sklearn.metrics import classification_report, confusion_matrix"
      ],
      "metadata": {
        "id": "BgablRI_ok06"
      },
      "execution_count": 101,
      "outputs": []
    },
    {
      "cell_type": "code",
      "source": [
        "def metrics_score(actual, predicted):\n",
        "\n",
        "    print(classification_report(actual, predicted))\n",
        "\n",
        "    cm = confusion_matrix(actual, predicted)\n",
        "\n",
        "    plt.figure(figsize = (8, 5))\n",
        "\n",
        "    sns.heatmap(cm, annot = True, fmt = '.2f', xticklabels = ['0','1'], yticklabels = ['0','1'])\n",
        "\n",
        "    plt.ylabel('Actual')\n",
        "\n",
        "    plt.xlabel('Predicted')\n",
        "    \n",
        "    plt.show()"
      ],
      "metadata": {
        "id": "-ZFA2IfnnZ7p"
      },
      "execution_count": 102,
      "outputs": []
    },
    {
      "cell_type": "code",
      "source": [
        "# Fitting the logistic regression model\n",
        "lg = LogisticRegression()\n",
        "\n",
        "lg.fit(x_train,y_train)"
      ],
      "metadata": {
        "colab": {
          "base_uri": "https://localhost:8080/"
        },
        "id": "t-7q5pljngQu",
        "outputId": "4e8bb77c-0737-4668-9544-7a2ce5bb41cc"
      },
      "execution_count": 103,
      "outputs": [
        {
          "output_type": "execute_result",
          "data": {
            "text/plain": [
              "LogisticRegression()"
            ]
          },
          "metadata": {},
          "execution_count": 103
        }
      ]
    },
    {
      "cell_type": "code",
      "source": [
        "# Checking the performance on the training data\n",
        "y_pred_train = lg.predict(x_train)\n",
        "\n",
        "metrics_score(y_train, y_pred_train)"
      ],
      "metadata": {
        "colab": {
          "base_uri": "https://localhost:8080/",
          "height": 498
        },
        "id": "ShxHfX1unrLd",
        "outputId": "b9fec143-933b-432f-9f82-15405dfaed68"
      },
      "execution_count": 104,
      "outputs": [
        {
          "output_type": "stream",
          "name": "stdout",
          "text": [
            "              precision    recall  f1-score   support\n",
            "\n",
            "           0       0.96      0.98      0.97      4632\n",
            "           1       0.86      0.73      0.79       789\n",
            "\n",
            "    accuracy                           0.94      5421\n",
            "   macro avg       0.91      0.86      0.88      5421\n",
            "weighted avg       0.94      0.94      0.94      5421\n",
            "\n"
          ]
        },
        {
          "output_type": "display_data",
          "data": {
            "text/plain": [
              "<Figure size 576x360 with 2 Axes>"
            ],
            "image/png": "[encoded data removed]"
          },
          "metadata": {
            "needs_background": "light"
          }
        }
      ]
    },
    {
      "cell_type": "code",
      "source": [
        "# Checking the performance on the test dataset\n",
        "y_pred_val = lg.predict(x_val)\n",
        "metrics_score(y_val, y_pred_val)"
      ],
      "metadata": {
        "colab": {
          "base_uri": "https://localhost:8080/",
          "height": 497
        },
        "id": "01AFTRmynq6L",
        "outputId": "6f8993c7-5791-4dec-f540-9ae7cd91a219"
      },
      "execution_count": 105,
      "outputs": [
        {
          "output_type": "stream",
          "name": "stdout",
          "text": [
            "              precision    recall  f1-score   support\n",
            "\n",
            "           0       0.95      0.99      0.97      1159\n",
            "           1       0.91      0.73      0.81       197\n",
            "\n",
            "    accuracy                           0.95      1356\n",
            "   macro avg       0.93      0.86      0.89      1356\n",
            "weighted avg       0.95      0.95      0.95      1356\n",
            "\n"
          ]
        },
        {
          "output_type": "display_data",
          "data": {
            "text/plain": [
              "<Figure size 576x360 with 2 Axes>"
            ],
            "image/png": "[encoded data removed]"
          },
          "metadata": {
            "needs_background": "light"
          }
        }
      ]
    },
    {
      "cell_type": "code",
      "source": [
        "# Checking the performance on the test dataset\n",
        "y_pred_test = lg.predict(test_fea_scaled)\n",
        "metrics_score(test_actual_target, y_pred_test)"
      ],
      "metadata": {
        "colab": {
          "base_uri": "https://localhost:8080/",
          "height": 497
        },
        "id": "qpRe656K42rD",
        "outputId": "e3ea3fe7-bc64-4435-de19-7de005f668ba"
      },
      "execution_count": 106,
      "outputs": [
        {
          "output_type": "stream",
          "name": "stdout",
          "text": [
            "              precision    recall  f1-score   support\n",
            "\n",
            "           0       0.58      0.95      0.72       543\n",
            "           1       0.83      0.25      0.38       488\n",
            "\n",
            "    accuracy                           0.62      1031\n",
            "   macro avg       0.71      0.60      0.55      1031\n",
            "weighted avg       0.70      0.62      0.56      1031\n",
            "\n"
          ]
        },
        {
          "output_type": "display_data",
          "data": {
            "text/plain": [
              "<Figure size 576x360 with 2 Axes>"
            ],
            "image/png": "[encoded data removed]"
          },
          "metadata": {
            "needs_background": "light"
          }
        }
      ]
    },
    {
      "cell_type": "code",
      "source": [
        "results=pd.DataFrame(y_pred_test)"
      ],
      "metadata": {
        "id": "OGLun95l8rug"
      },
      "execution_count": 107,
      "outputs": []
    },
    {
      "cell_type": "code",
      "source": [
        "results.to_csv('/content/drive/MyDrive/PAYTM_MLE/PAYTM_take_home_assign/results.csv')"
      ],
      "metadata": {
        "id": "HR9ofjUcEM-p"
      },
      "execution_count": 108,
      "outputs": []
    },
    {
      "cell_type": "code",
      "source": [
        "from sklearn.ensemble import RandomForestClassifier"
      ],
      "metadata": {
        "id": "1Hm6jLnREtHa"
      },
      "execution_count": 109,
      "outputs": []
    },
    {
      "cell_type": "code",
      "source": [
        "rf = RandomForestClassifier(n_estimators= 100)"
      ],
      "metadata": {
        "id": "JCBYlmNIHEaA"
      },
      "execution_count": 110,
      "outputs": []
    },
    {
      "cell_type": "code",
      "source": [
        "rf.fit(x_train,y_train)"
      ],
      "metadata": {
        "colab": {
          "base_uri": "https://localhost:8080/"
        },
        "id": "b1fd1eRCHTzf",
        "outputId": "a62ccde9-97e0-4406-acbc-e5106a7e1181"
      },
      "execution_count": 111,
      "outputs": [
        {
          "output_type": "execute_result",
          "data": {
            "text/plain": [
              "RandomForestClassifier()"
            ]
          },
          "metadata": {},
          "execution_count": 111
        }
      ]
    },
    {
      "cell_type": "code",
      "source": [
        "# Checking the performance on the training data\n",
        "y_pred_train_rf = rf.predict(x_train)\n",
        "\n",
        "metrics_score(y_train, y_pred_train_rf)"
      ],
      "metadata": {
        "colab": {
          "base_uri": "https://localhost:8080/",
          "height": 497
        },
        "id": "D4E39kgDHZ6v",
        "outputId": "78761de2-f17d-4c12-ec51-be99d80dcc6f"
      },
      "execution_count": 112,
      "outputs": [
        {
          "output_type": "stream",
          "name": "stdout",
          "text": [
            "              precision    recall  f1-score   support\n",
            "\n",
            "           0       1.00      1.00      1.00      4632\n",
            "           1       1.00      1.00      1.00       789\n",
            "\n",
            "    accuracy                           1.00      5421\n",
            "   macro avg       1.00      1.00      1.00      5421\n",
            "weighted avg       1.00      1.00      1.00      5421\n",
            "\n"
          ]
        },
        {
          "output_type": "display_data",
          "data": {
            "text/plain": [
              "<Figure size 576x360 with 2 Axes>"
            ],
            "image/png": "[encoded data removed]"
          },
          "metadata": {
            "needs_background": "light"
          }
        }
      ]
    },
    {
      "cell_type": "code",
      "source": [
        "# Checking the performance on the test dataset\n",
        "y_pred_test_rf = rf.predict(test_fea_scaled)\n",
        "metrics_score(test_actual_target, y_pred_test_rf)"
      ],
      "metadata": {
        "colab": {
          "base_uri": "https://localhost:8080/",
          "height": 497
        },
        "id": "1ToNtBBsHh1u",
        "outputId": "ada54218-8f90-4fe9-dfca-03d8bf3d4fdc"
      },
      "execution_count": 113,
      "outputs": [
        {
          "output_type": "stream",
          "name": "stdout",
          "text": [
            "              precision    recall  f1-score   support\n",
            "\n",
            "           0       0.61      0.93      0.74       543\n",
            "           1       0.82      0.34      0.48       488\n",
            "\n",
            "    accuracy                           0.65      1031\n",
            "   macro avg       0.72      0.64      0.61      1031\n",
            "weighted avg       0.71      0.65      0.62      1031\n",
            "\n"
          ]
        },
        {
          "output_type": "display_data",
          "data": {
            "text/plain": [
              "<Figure size 576x360 with 2 Axes>"
            ],
            "image/png": "[encoded data removed]"
          },
          "metadata": {
            "needs_background": "light"
          }
        }
      ]
    },
    {
      "cell_type": "markdown",
      "source": [
        "The model seems to overfit as it gives 100% accuracy on the training data whereas just 65% accuracy on the test data. The possible reason seen can be the lack of data in the features."
      ],
      "metadata": {
        "id": "pNOUFKSNsgMY"
      }
    },
    {
      "cell_type": "code",
      "source": [],
      "metadata": {
        "id": "A0e_68GSHpXi"
      },
      "execution_count": 113,
      "outputs": []
    }
  ]
}